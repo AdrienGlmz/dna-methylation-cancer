{
 "cells": [
  {
   "cell_type": "code",
   "execution_count": 1,
   "metadata": {
    "ExecuteTime": {
     "end_time": "2020-05-04T23:40:48.873912Z",
     "start_time": "2020-05-04T23:40:43.587923Z"
    }
   },
   "outputs": [],
   "source": [
    "import pandas as pd\n",
    "import numpy as np"
   ]
  },
  {
   "cell_type": "code",
   "execution_count": 2,
   "metadata": {
    "ExecuteTime": {
     "end_time": "2020-05-04T23:40:52.310209Z",
     "start_time": "2020-05-04T23:40:48.880401Z"
    }
   },
   "outputs": [],
   "source": [
    "from data_engineering.get_data import read_dataset\n",
    "from data_engineering.preprocessing import preprocessing"
   ]
  },
  {
   "cell_type": "markdown",
   "metadata": {},
   "source": [
    "# Get data from GCS"
   ]
  },
  {
   "cell_type": "code",
   "execution_count": 20,
   "metadata": {
    "ExecuteTime": {
     "end_time": "2020-05-04T23:51:52.902135Z",
     "start_time": "2020-05-04T23:51:30.246993Z"
    }
   },
   "outputs": [
    {
     "name": "stdout",
     "output_type": "stream",
     "text": [
      "Downloading data...\n",
      "Loaded dataset. Shape = (1000, 5000)\n"
     ]
    }
   ],
   "source": [
    "betas, labels, cpg_sites, index = read_dataset('input/', gcs_prefix='pivot_data_v2/', nb_partition=110)"
   ]
  },
  {
   "cell_type": "markdown",
   "metadata": {},
   "source": [
    "Then, let's build a Pandas Dataframe only containing the sample index and their labels."
   ]
  },
  {
   "cell_type": "code",
   "execution_count": 4,
   "metadata": {
    "ExecuteTime": {
     "end_time": "2020-05-04T23:43:24.814565Z",
     "start_time": "2020-05-04T23:43:24.802974Z"
    }
   },
   "outputs": [],
   "source": [
    "df_labels = pd.DataFrame({'sample_id': index, 'sample_label': labels})"
   ]
  },
  {
   "cell_type": "code",
   "execution_count": 5,
   "metadata": {
    "ExecuteTime": {
     "end_time": "2020-05-04T23:43:24.860653Z",
     "start_time": "2020-05-04T23:43:24.819561Z"
    }
   },
   "outputs": [
    {
     "data": {
      "text/html": [
       "<div>\n",
       "<style scoped>\n",
       "    .dataframe tbody tr th:only-of-type {\n",
       "        vertical-align: middle;\n",
       "    }\n",
       "\n",
       "    .dataframe tbody tr th {\n",
       "        vertical-align: top;\n",
       "    }\n",
       "\n",
       "    .dataframe thead th {\n",
       "        text-align: right;\n",
       "    }\n",
       "</style>\n",
       "<table border=\"1\" class=\"dataframe\">\n",
       "  <thead>\n",
       "    <tr style=\"text-align: right;\">\n",
       "      <th></th>\n",
       "      <th>sample_id</th>\n",
       "      <th>sample_label</th>\n",
       "    </tr>\n",
       "  </thead>\n",
       "  <tbody>\n",
       "    <tr>\n",
       "      <th>0</th>\n",
       "      <td>TCGA-AB-2911-03A</td>\n",
       "      <td>tumor</td>\n",
       "    </tr>\n",
       "    <tr>\n",
       "      <th>1</th>\n",
       "      <td>TCGA-B4-5835-01A</td>\n",
       "      <td>tumor</td>\n",
       "    </tr>\n",
       "    <tr>\n",
       "      <th>2</th>\n",
       "      <td>TCGA-CJ-4887-01A</td>\n",
       "      <td>tumor</td>\n",
       "    </tr>\n",
       "    <tr>\n",
       "      <th>3</th>\n",
       "      <td>TCGA-BR-4194-01A</td>\n",
       "      <td>tumor</td>\n",
       "    </tr>\n",
       "    <tr>\n",
       "      <th>4</th>\n",
       "      <td>TCGA-97-7937-01A</td>\n",
       "      <td>tumor</td>\n",
       "    </tr>\n",
       "  </tbody>\n",
       "</table>\n",
       "</div>"
      ],
      "text/plain": [
       "          sample_id sample_label\n",
       "0  TCGA-AB-2911-03A        tumor\n",
       "1  TCGA-B4-5835-01A        tumor\n",
       "2  TCGA-CJ-4887-01A        tumor\n",
       "3  TCGA-BR-4194-01A        tumor\n",
       "4  TCGA-97-7937-01A        tumor"
      ]
     },
     "execution_count": 5,
     "metadata": {},
     "output_type": "execute_result"
    }
   ],
   "source": [
    "df_labels.head(5)"
   ]
  },
  {
   "cell_type": "markdown",
   "metadata": {},
   "source": [
    "# Add cancer stage data"
   ]
  },
  {
   "cell_type": "markdown",
   "metadata": {},
   "source": [
    "Add a participant id column"
   ]
  },
  {
   "cell_type": "code",
   "execution_count": 6,
   "metadata": {
    "ExecuteTime": {
     "end_time": "2020-05-04T23:43:24.905613Z",
     "start_time": "2020-05-04T23:43:24.864612Z"
    }
   },
   "outputs": [],
   "source": [
    "df_labels['participant_id'] = df_labels['sample_id'].str.split('-').str[:3].str.join('-')\n",
    "participant_ids = tuple(df_labels['participant_id'].values)"
   ]
  },
  {
   "cell_type": "markdown",
   "metadata": {},
   "source": [
    "Query the bigquery table associated containing the cancer stage information"
   ]
  },
  {
   "cell_type": "code",
   "execution_count": 7,
   "metadata": {
    "ExecuteTime": {
     "end_time": "2020-05-04T23:43:24.922619Z",
     "start_time": "2020-05-04T23:43:24.911612Z"
    }
   },
   "outputs": [],
   "source": [
    "query = f\"\"\"\n",
    "    SELECT *\n",
    "    FROM `gcp-nyc.build_hackathon_dnanyc.patient_cancer_stage_v2`\n",
    "    WHERE case_barcode in {participant_ids}\n",
    "    \"\"\""
   ]
  },
  {
   "cell_type": "code",
   "execution_count": 8,
   "metadata": {
    "ExecuteTime": {
     "end_time": "2020-05-04T23:43:40.617114Z",
     "start_time": "2020-05-04T23:43:24.928614Z"
    }
   },
   "outputs": [
    {
     "name": "stderr",
     "output_type": "stream",
     "text": [
      "C:\\Users\\adrien.galamez\\AppData\\Local\\Continuum\\anaconda3\\envs\\py37\\lib\\site-packages\\google\\auth\\_default.py:69: UserWarning: Your application has authenticated using end user credentials from Google Cloud SDK. We recommend that most server applications use service accounts instead. If your application continues to use end user credentials from Cloud SDK, you might receive a \"quota exceeded\" or \"API not enabled\" error. For more information about service accounts, see https://cloud.google.com/docs/authentication/\n",
      "  warnings.warn(_CLOUD_SDK_CREDENTIALS_WARNING)\n",
      "Downloading: 100%|████████████████████████████████████████████████████████████| 9943/9943 [00:00<00:00, 13583.20rows/s]\n"
     ]
    }
   ],
   "source": [
    "clinical_stages = pd.read_gbq(query, project_id='gcp-nyc')"
   ]
  },
  {
   "cell_type": "markdown",
   "metadata": {
    "ExecuteTime": {
     "end_time": "2020-05-04T22:57:24.344864Z",
     "start_time": "2020-05-04T22:57:24.334788Z"
    }
   },
   "source": [
    "Mapping cancer stage text to cancer stage label (keep only the stage and discard the substage)"
   ]
  },
  {
   "cell_type": "code",
   "execution_count": 9,
   "metadata": {
    "ExecuteTime": {
     "end_time": "2020-05-04T23:43:40.671052Z",
     "start_time": "2020-05-04T23:43:40.629886Z"
    }
   },
   "outputs": [],
   "source": [
    "cancer_stages = {None: np.nan,\n",
    "                 'IS': np.nan,\n",
    "                 'Stage 0': 0,\n",
    "                 'Stage I': 1,\n",
    "                 'Stage X': np.nan,\n",
    "                 'I/II NOS': np.nan,\n",
    "                 'Stage IA': 1, 'Stage IB': 1,\n",
    "                 'Stage II': 2,\n",
    "                 'Stage IV': 4,\n",
    "                 'Stage IIA': 2, 'Stage IIB': 2, 'Stage IIC': 2,\n",
    "                 'Stage III': 3,\n",
    "                 'Stage IVA': 4, 'Stage IVB': 4, 'Stage IVC': 4,\n",
    "                 'Stage IIIA': 3, 'Stage IIIB': 3, 'Stage IIIC': 3,\n",
    "                 'Stage IC': 1, 'Stage IS': np.nan,\n",
    "                 'Stage IA1': 1, 'Stage IA2': 1, 'Stage IB1': 1, 'Stage IB2': 1,\n",
    "                 'Stage IIA1': 2, 'Stage IIA2': 2, 'Stage IIIC1': 3, 'Stage IIIC2': 3}"
   ]
  },
  {
   "cell_type": "code",
   "execution_count": 10,
   "metadata": {
    "ExecuteTime": {
     "end_time": "2020-05-04T23:43:40.730047Z",
     "start_time": "2020-05-04T23:43:40.685135Z"
    }
   },
   "outputs": [],
   "source": [
    "clinical_stages['cancer_stage'] = np.where(clinical_stages['clinical_stage'].isna(),\n",
    "                                           clinical_stages['pathologic_stage'],\n",
    "                                           clinical_stages['clinical_stage'])\n",
    "clinical_stages['cancer_stage'] = clinical_stages['cancer_stage'].map(cancer_stages)"
   ]
  },
  {
   "cell_type": "markdown",
   "metadata": {},
   "source": [
    "Merge the two datasets"
   ]
  },
  {
   "cell_type": "code",
   "execution_count": 11,
   "metadata": {
    "ExecuteTime": {
     "end_time": "2020-05-04T23:43:40.809057Z",
     "start_time": "2020-05-04T23:43:40.740048Z"
    }
   },
   "outputs": [],
   "source": [
    "labels_merged = df_labels.merge(clinical_stages[['case_barcode', 'cancer_stage']],\n",
    "                             left_on='participant_id', right_on='case_barcode')\n",
    "labels_merged = labels_merged.drop('case_barcode', axis=1)\n",
    "labels_merged['stage_to_predict'] = np.where(labels_merged['sample_label'] == 'normal', 0,\n",
    "                                            labels_merged['cancer_stage'])\n",
    "labels_merged = labels_merged.set_index('sample_id').reindex(index=index).reset_index()\n",
    "labels_merged = labels_merged[['sample_id', 'stage_to_predict']]\n",
    "new_labels = labels_merged['stage_to_predict'].values"
   ]
  },
  {
   "cell_type": "code",
   "execution_count": 12,
   "metadata": {
    "ExecuteTime": {
     "end_time": "2020-05-04T23:43:40.834050Z",
     "start_time": "2020-05-04T23:43:40.814047Z"
    }
   },
   "outputs": [
    {
     "data": {
      "text/html": [
       "<div>\n",
       "<style scoped>\n",
       "    .dataframe tbody tr th:only-of-type {\n",
       "        vertical-align: middle;\n",
       "    }\n",
       "\n",
       "    .dataframe tbody tr th {\n",
       "        vertical-align: top;\n",
       "    }\n",
       "\n",
       "    .dataframe thead th {\n",
       "        text-align: right;\n",
       "    }\n",
       "</style>\n",
       "<table border=\"1\" class=\"dataframe\">\n",
       "  <thead>\n",
       "    <tr style=\"text-align: right;\">\n",
       "      <th></th>\n",
       "      <th>sample_id</th>\n",
       "      <th>stage_to_predict</th>\n",
       "    </tr>\n",
       "  </thead>\n",
       "  <tbody>\n",
       "    <tr>\n",
       "      <th>0</th>\n",
       "      <td>TCGA-AB-2911-03A</td>\n",
       "      <td>NaN</td>\n",
       "    </tr>\n",
       "    <tr>\n",
       "      <th>1</th>\n",
       "      <td>TCGA-B4-5835-01A</td>\n",
       "      <td>1.0</td>\n",
       "    </tr>\n",
       "    <tr>\n",
       "      <th>2</th>\n",
       "      <td>TCGA-CJ-4887-01A</td>\n",
       "      <td>4.0</td>\n",
       "    </tr>\n",
       "    <tr>\n",
       "      <th>3</th>\n",
       "      <td>TCGA-BR-4194-01A</td>\n",
       "      <td>NaN</td>\n",
       "    </tr>\n",
       "    <tr>\n",
       "      <th>4</th>\n",
       "      <td>TCGA-97-7937-01A</td>\n",
       "      <td>1.0</td>\n",
       "    </tr>\n",
       "  </tbody>\n",
       "</table>\n",
       "</div>"
      ],
      "text/plain": [
       "          sample_id  stage_to_predict\n",
       "0  TCGA-AB-2911-03A               NaN\n",
       "1  TCGA-B4-5835-01A               1.0\n",
       "2  TCGA-CJ-4887-01A               4.0\n",
       "3  TCGA-BR-4194-01A               NaN\n",
       "4  TCGA-97-7937-01A               1.0"
      ]
     },
     "execution_count": 12,
     "metadata": {},
     "output_type": "execute_result"
    }
   ],
   "source": [
    "labels_merged.head(5)"
   ]
  },
  {
   "cell_type": "code",
   "execution_count": 13,
   "metadata": {
    "ExecuteTime": {
     "end_time": "2020-05-04T23:43:40.863131Z",
     "start_time": "2020-05-04T23:43:40.840474Z"
    }
   },
   "outputs": [
    {
     "data": {
      "text/plain": [
       "NaN    2377\n",
       "1.0    2367\n",
       "2.0    2221\n",
       "3.0    2209\n",
       "0.0     999\n",
       "4.0     949\n",
       "Name: stage_to_predict, dtype: int64"
      ]
     },
     "execution_count": 13,
     "metadata": {},
     "output_type": "execute_result"
    }
   ],
   "source": [
    "labels_merged['stage_to_predict'].value_counts(dropna=False)"
   ]
  },
  {
   "cell_type": "markdown",
   "metadata": {},
   "source": [
    "# Drop NAs"
   ]
  },
  {
   "cell_type": "markdown",
   "metadata": {},
   "source": [
    "As they are patients for which the stage is not known, we are dropping those rows"
   ]
  },
  {
   "cell_type": "code",
   "execution_count": 14,
   "metadata": {
    "ExecuteTime": {
     "end_time": "2020-05-04T23:43:40.882057Z",
     "start_time": "2020-05-04T23:43:40.868177Z"
    }
   },
   "outputs": [],
   "source": [
    "idx_to_drop = [idx for idx, elt in enumerate(labels_merged['stage_to_predict'].isna().values) if elt]"
   ]
  },
  {
   "cell_type": "code",
   "execution_count": 15,
   "metadata": {
    "ExecuteTime": {
     "end_time": "2020-05-04T23:43:42.850920Z",
     "start_time": "2020-05-04T23:43:40.888054Z"
    }
   },
   "outputs": [],
   "source": [
    "new_betas = np.delete(betas, idx_to_drop, axis=0)\n",
    "new_labels = np.delete(new_labels, idx_to_drop, axis=0)\n",
    "new_index = np.delete(index, idx_to_drop, axis=0)"
   ]
  },
  {
   "cell_type": "markdown",
   "metadata": {},
   "source": [
    "# Upload to GCS"
   ]
  },
  {
   "cell_type": "code",
   "execution_count": 16,
   "metadata": {
    "ExecuteTime": {
     "end_time": "2020-05-04T23:43:42.874746Z",
     "start_time": "2020-05-04T23:43:42.857951Z"
    }
   },
   "outputs": [],
   "source": [
    "df = pd.DataFrame(new_betas, columns=cpg_sites, index=new_index)\n",
    "df['label'] = new_labels"
   ]
  },
  {
   "cell_type": "code",
   "execution_count": 17,
   "metadata": {
    "ExecuteTime": {
     "end_time": "2020-05-04T23:43:42.895736Z",
     "start_time": "2020-05-04T23:43:42.881736Z"
    }
   },
   "outputs": [
    {
     "data": {
      "text/plain": [
       "(8745, 5001)"
      ]
     },
     "execution_count": 17,
     "metadata": {},
     "output_type": "execute_result"
    }
   ],
   "source": [
    "df.shape"
   ]
  },
  {
   "cell_type": "markdown",
   "metadata": {},
   "source": [
    "Create partitions of 100 rows and uploads dataframe into partitioned csv into GCS"
   ]
  },
  {
   "cell_type": "code",
   "execution_count": 18,
   "metadata": {
    "ExecuteTime": {
     "end_time": "2020-05-04T23:43:42.913736Z",
     "start_time": "2020-05-04T23:43:42.901739Z"
    }
   },
   "outputs": [],
   "source": [
    "idx = np.arange(0, 8745, 100)"
   ]
  },
  {
   "cell_type": "code",
   "execution_count": 19,
   "metadata": {
    "ExecuteTime": {
     "end_time": "2020-05-04T23:49:33.856281Z",
     "start_time": "2020-05-04T23:43:42.920736Z"
    }
   },
   "outputs": [],
   "source": [
    "for i in idx:\n",
    "    sub_df = df.iloc[i:i+100, :]\n",
    "    sub_df.to_csv(f'gs://build_hackathon_dnanyc/pivot_data_v3/betas_partition_{i+1}.csv',\n",
    "                 line_terminator='\\n')"
   ]
  },
  {
   "cell_type": "code",
   "execution_count": null,
   "metadata": {},
   "outputs": [],
   "source": []
  }
 ],
 "metadata": {
  "kernelspec": {
   "display_name": "Python [conda env:py37]",
   "language": "python",
   "name": "conda-env-py37-py"
  },
  "language_info": {
   "codemirror_mode": {
    "name": "ipython",
    "version": 3
   },
   "file_extension": ".py",
   "mimetype": "text/x-python",
   "name": "python",
   "nbconvert_exporter": "python",
   "pygments_lexer": "ipython3",
   "version": "3.7.7"
  },
  "toc": {
   "base_numbering": 1,
   "nav_menu": {},
   "number_sections": true,
   "sideBar": true,
   "skip_h1_title": false,
   "title_cell": "Table of Contents",
   "title_sidebar": "Contents",
   "toc_cell": false,
   "toc_position": {
    "height": "calc(100% - 180px)",
    "left": "10px",
    "top": "150px",
    "width": "319px"
   },
   "toc_section_display": true,
   "toc_window_display": true
  }
 },
 "nbformat": 4,
 "nbformat_minor": 2
}
