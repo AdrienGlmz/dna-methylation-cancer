{
 "cells": [
  {
   "cell_type": "code",
   "execution_count": 1,
   "metadata": {
    "ExecuteTime": {
     "end_time": "2020-05-20T23:05:02.256160Z",
     "start_time": "2020-05-20T23:05:01.673131Z"
    }
   },
   "outputs": [],
   "source": [
    "import pandas as pd\n",
    "import numpy as np"
   ]
  },
  {
   "cell_type": "code",
   "execution_count": 2,
   "metadata": {
    "ExecuteTime": {
     "end_time": "2020-05-20T23:05:03.357101Z",
     "start_time": "2020-05-20T23:05:02.257138Z"
    }
   },
   "outputs": [],
   "source": [
    "from data_engineering.get_data import read_dataset\n",
    "from data_engineering.preprocessing import preprocessing"
   ]
  },
  {
   "cell_type": "markdown",
   "metadata": {},
   "source": [
    "# Get data from GCS"
   ]
  },
  {
   "cell_type": "code",
   "execution_count": 3,
   "metadata": {
    "ExecuteTime": {
     "end_time": "2020-05-20T23:05:49.416406Z",
     "start_time": "2020-05-20T23:05:03.358898Z"
    }
   },
   "outputs": [
    {
     "name": "stdout",
     "output_type": "stream",
     "text": [
      "Using already downloaded data\n",
      "Loaded dataset. Shape = (11122, 5000)\n"
     ]
    }
   ],
   "source": [
    "betas, labels, cpg_sites, index = read_dataset('input/', gcs_prefix='pivot_data_v2/', nb_partition=110)"
   ]
  },
  {
   "cell_type": "markdown",
   "metadata": {},
   "source": [
    "Then, let's build a Pandas Dataframe only containing the sample index and their labels."
   ]
  },
  {
   "cell_type": "code",
   "execution_count": 4,
   "metadata": {
    "ExecuteTime": {
     "end_time": "2020-05-20T23:05:49.422411Z",
     "start_time": "2020-05-20T23:05:49.417407Z"
    }
   },
   "outputs": [],
   "source": [
    "df = pd.DataFrame(betas, columns=cpg_sites, index=index)"
   ]
  },
  {
   "cell_type": "code",
   "execution_count": 5,
   "metadata": {
    "ExecuteTime": {
     "end_time": "2020-05-20T23:05:49.435408Z",
     "start_time": "2020-05-20T23:05:49.424405Z"
    }
   },
   "outputs": [
    {
     "data": {
      "text/plain": [
       "(11122, 5000)"
      ]
     },
     "execution_count": 5,
     "metadata": {},
     "output_type": "execute_result"
    }
   ],
   "source": [
    "df.shape"
   ]
  },
  {
   "cell_type": "code",
   "execution_count": 6,
   "metadata": {
    "ExecuteTime": {
     "end_time": "2020-05-20T23:05:49.484406Z",
     "start_time": "2020-05-20T23:05:49.438414Z"
    }
   },
   "outputs": [
    {
     "data": {
      "text/html": [
       "<div>\n",
       "<style scoped>\n",
       "    .dataframe tbody tr th:only-of-type {\n",
       "        vertical-align: middle;\n",
       "    }\n",
       "\n",
       "    .dataframe tbody tr th {\n",
       "        vertical-align: top;\n",
       "    }\n",
       "\n",
       "    .dataframe thead th {\n",
       "        text-align: right;\n",
       "    }\n",
       "</style>\n",
       "<table border=\"1\" class=\"dataframe\">\n",
       "  <thead>\n",
       "    <tr style=\"text-align: right;\">\n",
       "      <th></th>\n",
       "      <th>cg23563234</th>\n",
       "      <th>cg23317501</th>\n",
       "      <th>cg23326689</th>\n",
       "      <th>cg15873301</th>\n",
       "      <th>cg18722841</th>\n",
       "      <th>cg25612480</th>\n",
       "      <th>cg06906435</th>\n",
       "      <th>cg04598121</th>\n",
       "      <th>cg14011639</th>\n",
       "      <th>cg21624282</th>\n",
       "      <th>...</th>\n",
       "      <th>cg26372517</th>\n",
       "      <th>cg05846716</th>\n",
       "      <th>cg26516759</th>\n",
       "      <th>cg02506908</th>\n",
       "      <th>cg07221454</th>\n",
       "      <th>cg17491456</th>\n",
       "      <th>cg06254453</th>\n",
       "      <th>cg26764244</th>\n",
       "      <th>cg19166347</th>\n",
       "      <th>sample_id</th>\n",
       "    </tr>\n",
       "  </thead>\n",
       "  <tbody>\n",
       "    <tr>\n",
       "      <th>TCGA-AB-2911-03A</th>\n",
       "      <td>0.113222</td>\n",
       "      <td>0.452157</td>\n",
       "      <td>0.778490</td>\n",
       "      <td>0.803926</td>\n",
       "      <td>0.222304</td>\n",
       "      <td>0.500368</td>\n",
       "      <td>0.091369</td>\n",
       "      <td>0.385591</td>\n",
       "      <td>0.055292</td>\n",
       "      <td>0.948478</td>\n",
       "      <td>...</td>\n",
       "      <td>0.898581</td>\n",
       "      <td>0.181463</td>\n",
       "      <td>0.228306</td>\n",
       "      <td>0.959315</td>\n",
       "      <td>0.924679</td>\n",
       "      <td>0.412821</td>\n",
       "      <td>0.023767</td>\n",
       "      <td>0.293016</td>\n",
       "      <td>0.063232</td>\n",
       "      <td>TCGA-AB-2911-03A</td>\n",
       "    </tr>\n",
       "    <tr>\n",
       "      <th>TCGA-B4-5835-01A</th>\n",
       "      <td>0.239118</td>\n",
       "      <td>0.144815</td>\n",
       "      <td>0.237799</td>\n",
       "      <td>0.135512</td>\n",
       "      <td>0.102661</td>\n",
       "      <td>0.766249</td>\n",
       "      <td>0.465791</td>\n",
       "      <td>0.191826</td>\n",
       "      <td>0.113149</td>\n",
       "      <td>0.952183</td>\n",
       "      <td>...</td>\n",
       "      <td>0.358637</td>\n",
       "      <td>0.119976</td>\n",
       "      <td>0.155730</td>\n",
       "      <td>0.559000</td>\n",
       "      <td>0.724539</td>\n",
       "      <td>0.101908</td>\n",
       "      <td>0.028191</td>\n",
       "      <td>0.178989</td>\n",
       "      <td>0.127335</td>\n",
       "      <td>TCGA-B4-5835-01A</td>\n",
       "    </tr>\n",
       "    <tr>\n",
       "      <th>TCGA-CJ-4887-01A</th>\n",
       "      <td>0.183911</td>\n",
       "      <td>0.099618</td>\n",
       "      <td>0.556424</td>\n",
       "      <td>0.192873</td>\n",
       "      <td>0.075017</td>\n",
       "      <td>0.906606</td>\n",
       "      <td>0.493100</td>\n",
       "      <td>0.525695</td>\n",
       "      <td>0.056658</td>\n",
       "      <td>0.572657</td>\n",
       "      <td>...</td>\n",
       "      <td>0.452560</td>\n",
       "      <td>NaN</td>\n",
       "      <td>0.056214</td>\n",
       "      <td>0.480438</td>\n",
       "      <td>0.735401</td>\n",
       "      <td>0.074271</td>\n",
       "      <td>0.022588</td>\n",
       "      <td>0.119810</td>\n",
       "      <td>0.072984</td>\n",
       "      <td>TCGA-CJ-4887-01A</td>\n",
       "    </tr>\n",
       "    <tr>\n",
       "      <th>TCGA-BR-4194-01A</th>\n",
       "      <td>0.620407</td>\n",
       "      <td>0.614873</td>\n",
       "      <td>0.622979</td>\n",
       "      <td>0.503012</td>\n",
       "      <td>0.613254</td>\n",
       "      <td>0.440840</td>\n",
       "      <td>0.381805</td>\n",
       "      <td>0.661913</td>\n",
       "      <td>0.517967</td>\n",
       "      <td>0.656719</td>\n",
       "      <td>...</td>\n",
       "      <td>0.240547</td>\n",
       "      <td>0.072926</td>\n",
       "      <td>0.157968</td>\n",
       "      <td>0.541921</td>\n",
       "      <td>0.958050</td>\n",
       "      <td>0.075851</td>\n",
       "      <td>0.018219</td>\n",
       "      <td>0.139576</td>\n",
       "      <td>0.057367</td>\n",
       "      <td>TCGA-BR-4194-01A</td>\n",
       "    </tr>\n",
       "    <tr>\n",
       "      <th>TCGA-97-7937-01A</th>\n",
       "      <td>0.395937</td>\n",
       "      <td>0.576372</td>\n",
       "      <td>0.479536</td>\n",
       "      <td>0.287898</td>\n",
       "      <td>0.481378</td>\n",
       "      <td>0.279648</td>\n",
       "      <td>0.269111</td>\n",
       "      <td>0.425990</td>\n",
       "      <td>0.342929</td>\n",
       "      <td>0.424294</td>\n",
       "      <td>...</td>\n",
       "      <td>0.210352</td>\n",
       "      <td>0.178541</td>\n",
       "      <td>0.362542</td>\n",
       "      <td>0.408840</td>\n",
       "      <td>0.819064</td>\n",
       "      <td>0.192656</td>\n",
       "      <td>0.509240</td>\n",
       "      <td>0.095587</td>\n",
       "      <td>0.139774</td>\n",
       "      <td>TCGA-97-7937-01A</td>\n",
       "    </tr>\n",
       "  </tbody>\n",
       "</table>\n",
       "<p>5 rows × 5001 columns</p>\n",
       "</div>"
      ],
      "text/plain": [
       "                  cg23563234  cg23317501  cg23326689  cg15873301  cg18722841  \\\n",
       "TCGA-AB-2911-03A    0.113222    0.452157    0.778490    0.803926    0.222304   \n",
       "TCGA-B4-5835-01A    0.239118    0.144815    0.237799    0.135512    0.102661   \n",
       "TCGA-CJ-4887-01A    0.183911    0.099618    0.556424    0.192873    0.075017   \n",
       "TCGA-BR-4194-01A    0.620407    0.614873    0.622979    0.503012    0.613254   \n",
       "TCGA-97-7937-01A    0.395937    0.576372    0.479536    0.287898    0.481378   \n",
       "\n",
       "                  cg25612480  cg06906435  cg04598121  cg14011639  cg21624282  \\\n",
       "TCGA-AB-2911-03A    0.500368    0.091369    0.385591    0.055292    0.948478   \n",
       "TCGA-B4-5835-01A    0.766249    0.465791    0.191826    0.113149    0.952183   \n",
       "TCGA-CJ-4887-01A    0.906606    0.493100    0.525695    0.056658    0.572657   \n",
       "TCGA-BR-4194-01A    0.440840    0.381805    0.661913    0.517967    0.656719   \n",
       "TCGA-97-7937-01A    0.279648    0.269111    0.425990    0.342929    0.424294   \n",
       "\n",
       "                  ...  cg26372517  cg05846716  cg26516759  cg02506908  \\\n",
       "TCGA-AB-2911-03A  ...    0.898581    0.181463    0.228306    0.959315   \n",
       "TCGA-B4-5835-01A  ...    0.358637    0.119976    0.155730    0.559000   \n",
       "TCGA-CJ-4887-01A  ...    0.452560         NaN    0.056214    0.480438   \n",
       "TCGA-BR-4194-01A  ...    0.240547    0.072926    0.157968    0.541921   \n",
       "TCGA-97-7937-01A  ...    0.210352    0.178541    0.362542    0.408840   \n",
       "\n",
       "                  cg07221454  cg17491456  cg06254453  cg26764244  cg19166347  \\\n",
       "TCGA-AB-2911-03A    0.924679    0.412821    0.023767    0.293016    0.063232   \n",
       "TCGA-B4-5835-01A    0.724539    0.101908    0.028191    0.178989    0.127335   \n",
       "TCGA-CJ-4887-01A    0.735401    0.074271    0.022588    0.119810    0.072984   \n",
       "TCGA-BR-4194-01A    0.958050    0.075851    0.018219    0.139576    0.057367   \n",
       "TCGA-97-7937-01A    0.819064    0.192656    0.509240    0.095587    0.139774   \n",
       "\n",
       "                         sample_id  \n",
       "TCGA-AB-2911-03A  TCGA-AB-2911-03A  \n",
       "TCGA-B4-5835-01A  TCGA-B4-5835-01A  \n",
       "TCGA-CJ-4887-01A  TCGA-CJ-4887-01A  \n",
       "TCGA-BR-4194-01A  TCGA-BR-4194-01A  \n",
       "TCGA-97-7937-01A  TCGA-97-7937-01A  \n",
       "\n",
       "[5 rows x 5001 columns]"
      ]
     },
     "execution_count": 6,
     "metadata": {},
     "output_type": "execute_result"
    }
   ],
   "source": [
    "df['sample_id'] = df.index\n",
    "df.head(5)"
   ]
  },
  {
   "cell_type": "markdown",
   "metadata": {},
   "source": [
    "# Add cancer stage data"
   ]
  },
  {
   "cell_type": "markdown",
   "metadata": {},
   "source": [
    "Add a participant id column"
   ]
  },
  {
   "cell_type": "code",
   "execution_count": 7,
   "metadata": {
    "ExecuteTime": {
     "end_time": "2020-05-20T23:05:49.554446Z",
     "start_time": "2020-05-20T23:05:49.487405Z"
    }
   },
   "outputs": [],
   "source": [
    "df['participant_id'] = df.index.str.split('-').str[:3].str.join('-')\n",
    "participant_ids = tuple(df['participant_id'].values)"
   ]
  },
  {
   "cell_type": "markdown",
   "metadata": {},
   "source": [
    "Query the bigquery table associated containing the cancer stage information"
   ]
  },
  {
   "cell_type": "code",
   "execution_count": 8,
   "metadata": {
    "ExecuteTime": {
     "end_time": "2020-05-20T23:05:49.562409Z",
     "start_time": "2020-05-20T23:05:49.558404Z"
    }
   },
   "outputs": [],
   "source": [
    "query = f\"\"\"\n",
    "    SELECT *\n",
    "    FROM `gcp-nyc.build_hackathon_dnanyc.patient_cancer_stage_v3`\n",
    "    WHERE case_barcode in {participant_ids}\n",
    "    \"\"\""
   ]
  },
  {
   "cell_type": "code",
   "execution_count": 9,
   "metadata": {
    "ExecuteTime": {
     "end_time": "2020-05-20T23:05:58.876955Z",
     "start_time": "2020-05-20T23:05:49.565405Z"
    }
   },
   "outputs": [
    {
     "name": "stderr",
     "output_type": "stream",
     "text": [
      "C:\\Users\\adrien.galamez\\AppData\\Local\\Continuum\\anaconda3\\envs\\py37\\lib\\site-packages\\google\\auth\\_default.py:69: UserWarning: Your application has authenticated using end user credentials from Google Cloud SDK. We recommend that most server applications use service accounts instead. If your application continues to use end user credentials from Cloud SDK, you might receive a \"quota exceeded\" or \"API not enabled\" error. For more information about service accounts, see https://cloud.google.com/docs/authentication/\n",
      "  warnings.warn(_CLOUD_SDK_CREDENTIALS_WARNING)\n",
      "Downloading: 100%|██████████████████████████████████████████████████████████| 19922/19922 [00:01<00:00, 11799.96rows/s]\n"
     ]
    }
   ],
   "source": [
    "clinical_stages = pd.read_gbq(query, project_id='gcp-nyc')"
   ]
  },
  {
   "cell_type": "code",
   "execution_count": 10,
   "metadata": {
    "ExecuteTime": {
     "end_time": "2020-05-20T23:05:58.884955Z",
     "start_time": "2020-05-20T23:05:58.877956Z"
    }
   },
   "outputs": [],
   "source": [
    "def combine_values(series):\n",
    "    s = series.drop_duplicates().dropna()\n",
    "    if s.shape[0] > 0:\n",
    "        value = s.iloc[0]\n",
    "    else:\n",
    "        value = np.nan\n",
    "    return value"
   ]
  },
  {
   "cell_type": "code",
   "execution_count": 11,
   "metadata": {
    "ExecuteTime": {
     "end_time": "2020-05-20T23:06:42.851768Z",
     "start_time": "2020-05-20T23:05:58.887958Z"
    }
   },
   "outputs": [],
   "source": [
    "clinical_stages = clinical_stages.dropna(axis=0, how='all', subset=['clinical_stage', 'clinical_T', 'clinical_N',\n",
    "                                                     'clinical_M', 'pathologic_stage', 'pathologic_T',\n",
    "                                                     'pathologic_N', 'pathologic_M'])\n",
    "clinical_stages = clinical_stages.groupby('case_barcode').agg({\"clinical_stage\": combine_values, \"clinical_T\":combine_values,\n",
    "                                            \"clinical_N\":combine_values, \"clinical_M\":combine_values,\n",
    "                                            \"pathologic_stage\":combine_values, \"pathologic_T\":combine_values,\n",
    "                                            \"pathologic_N\":combine_values, \"pathologic_M\":combine_values})"
   ]
  },
  {
   "cell_type": "code",
   "execution_count": 12,
   "metadata": {
    "ExecuteTime": {
     "end_time": "2020-05-20T23:06:42.866529Z",
     "start_time": "2020-05-20T23:06:42.853531Z"
    }
   },
   "outputs": [
    {
     "data": {
      "text/html": [
       "<div>\n",
       "<style scoped>\n",
       "    .dataframe tbody tr th:only-of-type {\n",
       "        vertical-align: middle;\n",
       "    }\n",
       "\n",
       "    .dataframe tbody tr th {\n",
       "        vertical-align: top;\n",
       "    }\n",
       "\n",
       "    .dataframe thead th {\n",
       "        text-align: right;\n",
       "    }\n",
       "</style>\n",
       "<table border=\"1\" class=\"dataframe\">\n",
       "  <thead>\n",
       "    <tr style=\"text-align: right;\">\n",
       "      <th></th>\n",
       "      <th>clinical_stage</th>\n",
       "      <th>clinical_T</th>\n",
       "      <th>clinical_N</th>\n",
       "      <th>clinical_M</th>\n",
       "      <th>pathologic_stage</th>\n",
       "      <th>pathologic_T</th>\n",
       "      <th>pathologic_N</th>\n",
       "      <th>pathologic_M</th>\n",
       "    </tr>\n",
       "    <tr>\n",
       "      <th>case_barcode</th>\n",
       "      <th></th>\n",
       "      <th></th>\n",
       "      <th></th>\n",
       "      <th></th>\n",
       "      <th></th>\n",
       "      <th></th>\n",
       "      <th></th>\n",
       "      <th></th>\n",
       "    </tr>\n",
       "  </thead>\n",
       "  <tbody>\n",
       "    <tr>\n",
       "      <th>TCGA-04-1331</th>\n",
       "      <td>Stage IIIC</td>\n",
       "      <td>NaN</td>\n",
       "      <td>NaN</td>\n",
       "      <td>NaN</td>\n",
       "      <td>NaN</td>\n",
       "      <td>NaN</td>\n",
       "      <td>NaN</td>\n",
       "      <td>NaN</td>\n",
       "    </tr>\n",
       "    <tr>\n",
       "      <th>TCGA-04-1332</th>\n",
       "      <td>Stage IIIC</td>\n",
       "      <td>NaN</td>\n",
       "      <td>NaN</td>\n",
       "      <td>NaN</td>\n",
       "      <td>NaN</td>\n",
       "      <td>NaN</td>\n",
       "      <td>NaN</td>\n",
       "      <td>NaN</td>\n",
       "    </tr>\n",
       "    <tr>\n",
       "      <th>TCGA-04-1335</th>\n",
       "      <td>Stage IB</td>\n",
       "      <td>NaN</td>\n",
       "      <td>NaN</td>\n",
       "      <td>NaN</td>\n",
       "      <td>NaN</td>\n",
       "      <td>NaN</td>\n",
       "      <td>NaN</td>\n",
       "      <td>NaN</td>\n",
       "    </tr>\n",
       "    <tr>\n",
       "      <th>TCGA-04-1336</th>\n",
       "      <td>Stage IIIB</td>\n",
       "      <td>NaN</td>\n",
       "      <td>NaN</td>\n",
       "      <td>NaN</td>\n",
       "      <td>NaN</td>\n",
       "      <td>NaN</td>\n",
       "      <td>NaN</td>\n",
       "      <td>NaN</td>\n",
       "    </tr>\n",
       "    <tr>\n",
       "      <th>TCGA-04-1337</th>\n",
       "      <td>Stage IIIC</td>\n",
       "      <td>NaN</td>\n",
       "      <td>NaN</td>\n",
       "      <td>NaN</td>\n",
       "      <td>NaN</td>\n",
       "      <td>NaN</td>\n",
       "      <td>NaN</td>\n",
       "      <td>NaN</td>\n",
       "    </tr>\n",
       "  </tbody>\n",
       "</table>\n",
       "</div>"
      ],
      "text/plain": [
       "             clinical_stage clinical_T clinical_N clinical_M pathologic_stage  \\\n",
       "case_barcode                                                                    \n",
       "TCGA-04-1331     Stage IIIC        NaN        NaN        NaN              NaN   \n",
       "TCGA-04-1332     Stage IIIC        NaN        NaN        NaN              NaN   \n",
       "TCGA-04-1335       Stage IB        NaN        NaN        NaN              NaN   \n",
       "TCGA-04-1336     Stage IIIB        NaN        NaN        NaN              NaN   \n",
       "TCGA-04-1337     Stage IIIC        NaN        NaN        NaN              NaN   \n",
       "\n",
       "             pathologic_T pathologic_N pathologic_M  \n",
       "case_barcode                                         \n",
       "TCGA-04-1331          NaN          NaN          NaN  \n",
       "TCGA-04-1332          NaN          NaN          NaN  \n",
       "TCGA-04-1335          NaN          NaN          NaN  \n",
       "TCGA-04-1336          NaN          NaN          NaN  \n",
       "TCGA-04-1337          NaN          NaN          NaN  "
      ]
     },
     "execution_count": 12,
     "metadata": {},
     "output_type": "execute_result"
    }
   ],
   "source": [
    "clinical_stages.head()"
   ]
  },
  {
   "cell_type": "markdown",
   "metadata": {},
   "source": [
    "Merge the two datasets"
   ]
  },
  {
   "cell_type": "code",
   "execution_count": 13,
   "metadata": {
    "ExecuteTime": {
     "end_time": "2020-05-20T23:06:43.130745Z",
     "start_time": "2020-05-20T23:06:42.869533Z"
    }
   },
   "outputs": [],
   "source": [
    "labels_merged = df.merge(clinical_stages,\n",
    "                         left_on='participant_id', right_on='case_barcode', how='left')\n",
    "# labels_merged = labels_merged.set_index('sample_id').reindex(index=index).reset_index()\n",
    "# labels_merged = labels_merged[['sample_id', 'stage_to_predict']]\n",
    "# new_labels = labels_merged['stage_to_predict'].values"
   ]
  },
  {
   "cell_type": "markdown",
   "metadata": {},
   "source": [
    "# Drop NAs"
   ]
  },
  {
   "cell_type": "markdown",
   "metadata": {},
   "source": [
    "As they are patients for which the stage is not known, we are dropping those rows"
   ]
  },
  {
   "cell_type": "code",
   "execution_count": 14,
   "metadata": {
    "ExecuteTime": {
     "end_time": "2020-05-20T23:06:43.423546Z",
     "start_time": "2020-05-20T23:06:43.131524Z"
    }
   },
   "outputs": [
    {
     "data": {
      "text/plain": [
       "(9378, 5010)"
      ]
     },
     "execution_count": 14,
     "metadata": {},
     "output_type": "execute_result"
    }
   ],
   "source": [
    "labels_merged = labels_merged.dropna(how='all', axis='index', subset=['clinical_stage', 'clinical_T', 'clinical_N',\n",
    "                                                                      'clinical_M', 'pathologic_stage', 'pathologic_T',\n",
    "                                                                      'pathologic_N', 'pathologic_M'])\n",
    "labels_merged.shape"
   ]
  },
  {
   "cell_type": "code",
   "execution_count": 15,
   "metadata": {
    "ExecuteTime": {
     "end_time": "2020-05-20T23:06:43.967494Z",
     "start_time": "2020-05-20T23:06:43.425517Z"
    }
   },
   "outputs": [],
   "source": [
    "labels_merged = labels_merged.set_index('sample_id').drop('participant_id', axis=1)"
   ]
  },
  {
   "cell_type": "code",
   "execution_count": 16,
   "metadata": {
    "ExecuteTime": {
     "end_time": "2020-05-20T23:06:44.005494Z",
     "start_time": "2020-05-20T23:06:43.968493Z"
    }
   },
   "outputs": [
    {
     "data": {
      "text/html": [
       "<div>\n",
       "<style scoped>\n",
       "    .dataframe tbody tr th:only-of-type {\n",
       "        vertical-align: middle;\n",
       "    }\n",
       "\n",
       "    .dataframe tbody tr th {\n",
       "        vertical-align: top;\n",
       "    }\n",
       "\n",
       "    .dataframe thead th {\n",
       "        text-align: right;\n",
       "    }\n",
       "</style>\n",
       "<table border=\"1\" class=\"dataframe\">\n",
       "  <thead>\n",
       "    <tr style=\"text-align: right;\">\n",
       "      <th></th>\n",
       "      <th>cg23563234</th>\n",
       "      <th>cg23317501</th>\n",
       "      <th>cg23326689</th>\n",
       "      <th>cg15873301</th>\n",
       "      <th>cg18722841</th>\n",
       "      <th>cg25612480</th>\n",
       "      <th>cg06906435</th>\n",
       "      <th>cg04598121</th>\n",
       "      <th>cg14011639</th>\n",
       "      <th>cg21624282</th>\n",
       "      <th>...</th>\n",
       "      <th>cg26764244</th>\n",
       "      <th>cg19166347</th>\n",
       "      <th>clinical_stage</th>\n",
       "      <th>clinical_T</th>\n",
       "      <th>clinical_N</th>\n",
       "      <th>clinical_M</th>\n",
       "      <th>pathologic_stage</th>\n",
       "      <th>pathologic_T</th>\n",
       "      <th>pathologic_N</th>\n",
       "      <th>pathologic_M</th>\n",
       "    </tr>\n",
       "    <tr>\n",
       "      <th>sample_id</th>\n",
       "      <th></th>\n",
       "      <th></th>\n",
       "      <th></th>\n",
       "      <th></th>\n",
       "      <th></th>\n",
       "      <th></th>\n",
       "      <th></th>\n",
       "      <th></th>\n",
       "      <th></th>\n",
       "      <th></th>\n",
       "      <th></th>\n",
       "      <th></th>\n",
       "      <th></th>\n",
       "      <th></th>\n",
       "      <th></th>\n",
       "      <th></th>\n",
       "      <th></th>\n",
       "      <th></th>\n",
       "      <th></th>\n",
       "      <th></th>\n",
       "      <th></th>\n",
       "    </tr>\n",
       "  </thead>\n",
       "  <tbody>\n",
       "    <tr>\n",
       "      <th>TCGA-B4-5835-01A</th>\n",
       "      <td>0.239118</td>\n",
       "      <td>0.144815</td>\n",
       "      <td>0.237799</td>\n",
       "      <td>0.135512</td>\n",
       "      <td>0.102661</td>\n",
       "      <td>0.766249</td>\n",
       "      <td>0.465791</td>\n",
       "      <td>0.191826</td>\n",
       "      <td>0.113149</td>\n",
       "      <td>0.952183</td>\n",
       "      <td>...</td>\n",
       "      <td>0.178989</td>\n",
       "      <td>0.127335</td>\n",
       "      <td>NaN</td>\n",
       "      <td>NaN</td>\n",
       "      <td>NaN</td>\n",
       "      <td>NaN</td>\n",
       "      <td>Stage I</td>\n",
       "      <td>T1</td>\n",
       "      <td>N0</td>\n",
       "      <td>M0</td>\n",
       "    </tr>\n",
       "    <tr>\n",
       "      <th>TCGA-CJ-4887-01A</th>\n",
       "      <td>0.183911</td>\n",
       "      <td>0.099618</td>\n",
       "      <td>0.556424</td>\n",
       "      <td>0.192873</td>\n",
       "      <td>0.075017</td>\n",
       "      <td>0.906606</td>\n",
       "      <td>0.493100</td>\n",
       "      <td>0.525695</td>\n",
       "      <td>0.056658</td>\n",
       "      <td>0.572657</td>\n",
       "      <td>...</td>\n",
       "      <td>0.119810</td>\n",
       "      <td>0.072984</td>\n",
       "      <td>NaN</td>\n",
       "      <td>NaN</td>\n",
       "      <td>NaN</td>\n",
       "      <td>NaN</td>\n",
       "      <td>Stage IV</td>\n",
       "      <td>T3a</td>\n",
       "      <td>NX</td>\n",
       "      <td>M1</td>\n",
       "    </tr>\n",
       "    <tr>\n",
       "      <th>TCGA-97-7937-01A</th>\n",
       "      <td>0.395937</td>\n",
       "      <td>0.576372</td>\n",
       "      <td>0.479536</td>\n",
       "      <td>0.287898</td>\n",
       "      <td>0.481378</td>\n",
       "      <td>0.279648</td>\n",
       "      <td>0.269111</td>\n",
       "      <td>0.425990</td>\n",
       "      <td>0.342929</td>\n",
       "      <td>0.424294</td>\n",
       "      <td>...</td>\n",
       "      <td>0.095587</td>\n",
       "      <td>0.139774</td>\n",
       "      <td>NaN</td>\n",
       "      <td>NaN</td>\n",
       "      <td>NaN</td>\n",
       "      <td>NaN</td>\n",
       "      <td>Stage IB</td>\n",
       "      <td>T2a</td>\n",
       "      <td>N0</td>\n",
       "      <td>MX</td>\n",
       "    </tr>\n",
       "    <tr>\n",
       "      <th>TCGA-EB-A5UL-06A</th>\n",
       "      <td>0.325700</td>\n",
       "      <td>0.201301</td>\n",
       "      <td>0.632854</td>\n",
       "      <td>0.475798</td>\n",
       "      <td>0.421415</td>\n",
       "      <td>0.334104</td>\n",
       "      <td>0.291824</td>\n",
       "      <td>0.173058</td>\n",
       "      <td>0.256726</td>\n",
       "      <td>0.456166</td>\n",
       "      <td>...</td>\n",
       "      <td>0.150554</td>\n",
       "      <td>0.093429</td>\n",
       "      <td>NaN</td>\n",
       "      <td>NaN</td>\n",
       "      <td>NaN</td>\n",
       "      <td>NaN</td>\n",
       "      <td>Stage III</td>\n",
       "      <td>TX</td>\n",
       "      <td>N1</td>\n",
       "      <td>M0</td>\n",
       "    </tr>\n",
       "    <tr>\n",
       "      <th>TCGA-V4-A9EC-01A</th>\n",
       "      <td>0.749972</td>\n",
       "      <td>0.080037</td>\n",
       "      <td>0.615426</td>\n",
       "      <td>0.035988</td>\n",
       "      <td>0.025803</td>\n",
       "      <td>0.394041</td>\n",
       "      <td>0.924438</td>\n",
       "      <td>0.045183</td>\n",
       "      <td>0.095210</td>\n",
       "      <td>0.747002</td>\n",
       "      <td>...</td>\n",
       "      <td>0.020322</td>\n",
       "      <td>0.067649</td>\n",
       "      <td>Stage IIB</td>\n",
       "      <td>T3a</td>\n",
       "      <td>N0</td>\n",
       "      <td>M0</td>\n",
       "      <td>Stage IIB</td>\n",
       "      <td>T3a</td>\n",
       "      <td>N0</td>\n",
       "      <td>M0</td>\n",
       "    </tr>\n",
       "  </tbody>\n",
       "</table>\n",
       "<p>5 rows × 5008 columns</p>\n",
       "</div>"
      ],
      "text/plain": [
       "                  cg23563234  cg23317501  cg23326689  cg15873301  cg18722841  \\\n",
       "sample_id                                                                      \n",
       "TCGA-B4-5835-01A    0.239118    0.144815    0.237799    0.135512    0.102661   \n",
       "TCGA-CJ-4887-01A    0.183911    0.099618    0.556424    0.192873    0.075017   \n",
       "TCGA-97-7937-01A    0.395937    0.576372    0.479536    0.287898    0.481378   \n",
       "TCGA-EB-A5UL-06A    0.325700    0.201301    0.632854    0.475798    0.421415   \n",
       "TCGA-V4-A9EC-01A    0.749972    0.080037    0.615426    0.035988    0.025803   \n",
       "\n",
       "                  cg25612480  cg06906435  cg04598121  cg14011639  cg21624282  \\\n",
       "sample_id                                                                      \n",
       "TCGA-B4-5835-01A    0.766249    0.465791    0.191826    0.113149    0.952183   \n",
       "TCGA-CJ-4887-01A    0.906606    0.493100    0.525695    0.056658    0.572657   \n",
       "TCGA-97-7937-01A    0.279648    0.269111    0.425990    0.342929    0.424294   \n",
       "TCGA-EB-A5UL-06A    0.334104    0.291824    0.173058    0.256726    0.456166   \n",
       "TCGA-V4-A9EC-01A    0.394041    0.924438    0.045183    0.095210    0.747002   \n",
       "\n",
       "                  ...  cg26764244  cg19166347  clinical_stage  clinical_T  \\\n",
       "sample_id         ...                                                       \n",
       "TCGA-B4-5835-01A  ...    0.178989    0.127335             NaN         NaN   \n",
       "TCGA-CJ-4887-01A  ...    0.119810    0.072984             NaN         NaN   \n",
       "TCGA-97-7937-01A  ...    0.095587    0.139774             NaN         NaN   \n",
       "TCGA-EB-A5UL-06A  ...    0.150554    0.093429             NaN         NaN   \n",
       "TCGA-V4-A9EC-01A  ...    0.020322    0.067649       Stage IIB         T3a   \n",
       "\n",
       "                  clinical_N  clinical_M  pathologic_stage  pathologic_T  \\\n",
       "sample_id                                                                  \n",
       "TCGA-B4-5835-01A         NaN         NaN           Stage I            T1   \n",
       "TCGA-CJ-4887-01A         NaN         NaN          Stage IV           T3a   \n",
       "TCGA-97-7937-01A         NaN         NaN          Stage IB           T2a   \n",
       "TCGA-EB-A5UL-06A         NaN         NaN         Stage III            TX   \n",
       "TCGA-V4-A9EC-01A          N0          M0         Stage IIB           T3a   \n",
       "\n",
       "                  pathologic_N  pathologic_M  \n",
       "sample_id                                     \n",
       "TCGA-B4-5835-01A            N0            M0  \n",
       "TCGA-CJ-4887-01A            NX            M1  \n",
       "TCGA-97-7937-01A            N0            MX  \n",
       "TCGA-EB-A5UL-06A            N1            M0  \n",
       "TCGA-V4-A9EC-01A            N0            M0  \n",
       "\n",
       "[5 rows x 5008 columns]"
      ]
     },
     "execution_count": 16,
     "metadata": {},
     "output_type": "execute_result"
    }
   ],
   "source": [
    "labels_merged.head()"
   ]
  },
  {
   "cell_type": "markdown",
   "metadata": {},
   "source": [
    "# Upload to GCS"
   ]
  },
  {
   "cell_type": "code",
   "execution_count": 17,
   "metadata": {
    "ExecuteTime": {
     "end_time": "2020-05-20T23:06:44.017493Z",
     "start_time": "2020-05-20T23:06:44.010499Z"
    }
   },
   "outputs": [
    {
     "data": {
      "text/plain": [
       "(9378, 5008)"
      ]
     },
     "execution_count": 17,
     "metadata": {},
     "output_type": "execute_result"
    }
   ],
   "source": [
    "labels_merged.shape"
   ]
  },
  {
   "cell_type": "markdown",
   "metadata": {},
   "source": [
    "Create partitions of 100 rows and uploads dataframe into partitioned csv into GCS"
   ]
  },
  {
   "cell_type": "code",
   "execution_count": 18,
   "metadata": {
    "ExecuteTime": {
     "end_time": "2020-05-20T23:06:44.026498Z",
     "start_time": "2020-05-20T23:06:44.020495Z"
    }
   },
   "outputs": [],
   "source": [
    "idx = np.arange(0, 9378, 100)"
   ]
  },
  {
   "cell_type": "code",
   "execution_count": 19,
   "metadata": {
    "ExecuteTime": {
     "end_time": "2020-05-20T23:11:03.286850Z",
     "start_time": "2020-05-20T23:06:44.030495Z"
    }
   },
   "outputs": [],
   "source": [
    "for i in idx:\n",
    "    sub_df = labels_merged.iloc[i:i+100, :]\n",
    "    sub_df.to_csv(f'gs://build_hackathon_dnanyc/pivot_data_v4/betas_partition_{i+1}.csv',\n",
    "                 line_terminator='\\n')"
   ]
  },
  {
   "cell_type": "markdown",
   "metadata": {},
   "source": [
    "# Old Transformation"
   ]
  },
  {
   "cell_type": "markdown",
   "metadata": {
    "ExecuteTime": {
     "end_time": "2020-05-04T22:57:24.344864Z",
     "start_time": "2020-05-04T22:57:24.334788Z"
    }
   },
   "source": [
    "Mapping cancer stage text to cancer stage label (keep only the stage and discard the substage)"
   ]
  },
  {
   "cell_type": "code",
   "execution_count": 20,
   "metadata": {
    "ExecuteTime": {
     "end_time": "2020-05-20T23:11:03.306883Z",
     "start_time": "2020-05-20T23:11:03.292866Z"
    }
   },
   "outputs": [],
   "source": [
    "cancer_stages = {None: np.nan,\n",
    "                 'IS': np.nan,\n",
    "                 'Stage 0': 0,\n",
    "                 'Stage I': 1,\n",
    "                 'Stage X': np.nan,\n",
    "                 'I/II NOS': np.nan,\n",
    "                 'Stage IA': 1, 'Stage IB': 1,\n",
    "                 'Stage II': 2,\n",
    "                 'Stage IV': 4,\n",
    "                 'Stage IIA': 2, 'Stage IIB': 2, 'Stage IIC': 2,\n",
    "                 'Stage III': 3,\n",
    "                 'Stage IVA': 4, 'Stage IVB': 4, 'Stage IVC': 4,\n",
    "                 'Stage IIIA': 3, 'Stage IIIB': 3, 'Stage IIIC': 3,\n",
    "                 'Stage IC': 1, 'Stage IS': np.nan,\n",
    "                 'Stage IA1': 1, 'Stage IA2': 1, 'Stage IB1': 1, 'Stage IB2': 1,\n",
    "                 'Stage IIA1': 2, 'Stage IIA2': 2, 'Stage IIIC1': 3, 'Stage IIIC2': 3}"
   ]
  },
  {
   "cell_type": "code",
   "execution_count": 21,
   "metadata": {
    "ExecuteTime": {
     "end_time": "2020-05-20T23:11:03.325869Z",
     "start_time": "2020-05-20T23:11:03.309842Z"
    }
   },
   "outputs": [],
   "source": [
    "clinical_stages['cancer_stage'] = np.where(clinical_stages['clinical_stage'].isna(),\n",
    "                                           clinical_stages['pathologic_stage'],\n",
    "                                           clinical_stages['clinical_stage'])\n",
    "clinical_stages['cancer_stage'] = clinical_stages['cancer_stage'].map(cancer_stages)"
   ]
  }
 ],
 "metadata": {
  "kernelspec": {
   "display_name": "Python [conda env:py37]",
   "language": "python",
   "name": "conda-env-py37-py"
  },
  "language_info": {
   "codemirror_mode": {
    "name": "ipython",
    "version": 3
   },
   "file_extension": ".py",
   "mimetype": "text/x-python",
   "name": "python",
   "nbconvert_exporter": "python",
   "pygments_lexer": "ipython3",
   "version": "3.7.7"
  },
  "toc": {
   "base_numbering": 1,
   "nav_menu": {},
   "number_sections": true,
   "sideBar": true,
   "skip_h1_title": false,
   "title_cell": "Table of Contents",
   "title_sidebar": "Contents",
   "toc_cell": false,
   "toc_position": {
    "height": "calc(100% - 180px)",
    "left": "10px",
    "top": "150px",
    "width": "248.4px"
   },
   "toc_section_display": true,
   "toc_window_display": true
  }
 },
 "nbformat": 4,
 "nbformat_minor": 2
}
