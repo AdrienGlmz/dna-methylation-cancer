{
 "cells": [
  {
   "cell_type": "code",
   "execution_count": 21,
   "metadata": {
    "ExecuteTime": {
     "end_time": "2020-04-09T18:29:51.076653Z",
     "start_time": "2020-04-09T18:29:51.071420Z"
    }
   },
   "outputs": [],
   "source": [
    "import pandas as pd\n",
    "import numpy as np\n",
    "import os"
   ]
  },
  {
   "cell_type": "code",
   "execution_count": 9,
   "metadata": {
    "ExecuteTime": {
     "end_time": "2020-04-09T18:18:57.362025Z",
     "start_time": "2020-04-09T18:18:57.350854Z"
    }
   },
   "outputs": [],
   "source": [
    "from google.cloud import storage"
   ]
  },
  {
   "cell_type": "markdown",
   "metadata": {},
   "source": [
    "# Configure GCS"
   ]
  },
  {
   "cell_type": "code",
   "execution_count": 14,
   "metadata": {
    "ExecuteTime": {
     "end_time": "2020-04-09T18:27:35.278007Z",
     "start_time": "2020-04-09T18:27:14.693360Z"
    }
   },
   "outputs": [],
   "source": [
    "client = storage.Client()\n",
    "\n",
    "# Set up bucket\n",
    "bucket_name = 'build_hackathon_dnanyc'\n",
    "bucket = client.bucket(bucket_name)"
   ]
  },
  {
   "cell_type": "markdown",
   "metadata": {},
   "source": [
    "# Get data"
   ]
  },
  {
   "cell_type": "code",
   "execution_count": 19,
   "metadata": {
    "ExecuteTime": {
     "end_time": "2020-04-09T18:29:46.211303Z",
     "start_time": "2020-04-09T18:29:46.201206Z"
    }
   },
   "outputs": [],
   "source": [
    "def download_data(gcs_prefix, nb_partition=10, destination='input_data/'):\n",
    "    partition_list = client.list_blobs(bucket_name, prefix=prefix, delimiter='/')\n",
    "    partition_list = [elt.name for elt in partition_list]\n",
    "    \n",
    "    if not os.path.isdir(destination):\n",
    "        os.mkdir(destination)\n",
    "    \n",
    "    for blob_path in partition_list[:nb_partition]:\n",
    "        blob = bucket.get_blob(blob_path)\n",
    "        filename = blob_path.split('/')[-1]\n",
    "        blob.download_to_filename(destination + filename)\n",
    "        print(\"Downloaded {} to {}\".format(blob_path, destination + filename))"
   ]
  },
  {
   "cell_type": "code",
   "execution_count": 22,
   "metadata": {
    "ExecuteTime": {
     "end_time": "2020-04-09T18:30:01.145644Z",
     "start_time": "2020-04-09T18:29:52.976811Z"
    }
   },
   "outputs": [
    {
     "name": "stdout",
     "output_type": "stream",
     "text": [
      "Downloaded pivot_data/betas_partition_1.csv to input_data/betas_partition_1.csv\n",
      "Downloaded pivot_data/betas_partition_10001.csv to input_data/betas_partition_10001.csv\n",
      "Downloaded pivot_data/betas_partition_1001.csv to input_data/betas_partition_1001.csv\n",
      "Downloaded pivot_data/betas_partition_101.csv to input_data/betas_partition_101.csv\n",
      "Downloaded pivot_data/betas_partition_10101.csv to input_data/betas_partition_10101.csv\n",
      "Downloaded pivot_data/betas_partition_10201.csv to input_data/betas_partition_10201.csv\n",
      "Downloaded pivot_data/betas_partition_10301.csv to input_data/betas_partition_10301.csv\n",
      "Downloaded pivot_data/betas_partition_10401.csv to input_data/betas_partition_10401.csv\n",
      "Downloaded pivot_data/betas_partition_10501.csv to input_data/betas_partition_10501.csv\n",
      "Downloaded pivot_data/betas_partition_10601.csv to input_data/betas_partition_10601.csv\n"
     ]
    }
   ],
   "source": [
    "prefix = 'pivot_data/'\n",
    "download_data(prefix)"
   ]
  },
  {
   "cell_type": "code",
   "execution_count": null,
   "metadata": {},
   "outputs": [],
   "source": []
  }
 ],
 "metadata": {
  "kernelspec": {
   "display_name": "Python [conda env:py37]",
   "language": "python",
   "name": "conda-env-py37-py"
  },
  "language_info": {
   "codemirror_mode": {
    "name": "ipython",
    "version": 3
   },
   "file_extension": ".py",
   "mimetype": "text/x-python",
   "name": "python",
   "nbconvert_exporter": "python",
   "pygments_lexer": "ipython3",
   "version": "3.7.7"
  },
  "toc": {
   "base_numbering": 1,
   "nav_menu": {},
   "number_sections": true,
   "sideBar": true,
   "skip_h1_title": false,
   "title_cell": "Table of Contents",
   "title_sidebar": "Contents",
   "toc_cell": false,
   "toc_position": {},
   "toc_section_display": true,
   "toc_window_display": false
  }
 },
 "nbformat": 4,
 "nbformat_minor": 2
}
