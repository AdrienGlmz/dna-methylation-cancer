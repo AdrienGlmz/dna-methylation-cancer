{
 "cells": [
  {
   "cell_type": "code",
   "execution_count": 1,
   "metadata": {
    "ExecuteTime": {
     "end_time": "2020-06-09T13:14:42.618710Z",
     "start_time": "2020-06-09T13:14:36.129633Z"
    }
   },
   "outputs": [],
   "source": [
    "import pandas as pd\n",
    "import numpy as np\n",
    "import matplotlib.pyplot as plt\n",
    "import plotly.graph_objects as go\n",
    "import os\n",
    "import pickle\n",
    "import json"
   ]
  },
  {
   "cell_type": "code",
   "execution_count": 2,
   "metadata": {
    "ExecuteTime": {
     "end_time": "2020-06-09T13:14:45.307264Z",
     "start_time": "2020-06-09T13:14:42.620612Z"
    }
   },
   "outputs": [],
   "source": [
    "from sklearn.ensemble import RandomForestClassifier\n",
    "from sklearn.metrics import accuracy_score, roc_curve, auc, \\\n",
    "                           plot_confusion_matrix, classification_report, f1_score, confusion_matrix\n",
    "from sklearn.preprocessing import StandardScaler\n",
    "from sklearn.model_selection import train_test_split, StratifiedKFold, GridSearchCV\n",
    "from imblearn.over_sampling import SMOTE"
   ]
  },
  {
   "cell_type": "code",
   "execution_count": 3,
   "metadata": {
    "ExecuteTime": {
     "end_time": "2020-06-09T13:14:46.551357Z",
     "start_time": "2020-06-09T13:14:45.313141Z"
    }
   },
   "outputs": [],
   "source": [
    "from data_engineering.get_data import read_dataset\n",
    "from data_engineering.preprocessing import preprocessing"
   ]
  },
  {
   "cell_type": "markdown",
   "metadata": {},
   "source": [
    "# Configure GCS"
   ]
  },
  {
   "cell_type": "code",
   "execution_count": 4,
   "metadata": {
    "ExecuteTime": {
     "end_time": "2020-06-09T13:14:46.557235Z",
     "start_time": "2020-06-09T13:14:46.552234Z"
    }
   },
   "outputs": [],
   "source": [
    "labels_columns = ['project_short_name','clinical_stage', 'clinical_T', 'clinical_N',\n",
    "                 'clinical_M','pathologic_stage', 'pathologic_T',\n",
    "                 'pathologic_N','pathologic_M']"
   ]
  },
  {
   "cell_type": "code",
   "execution_count": 5,
   "metadata": {
    "ExecuteTime": {
     "end_time": "2020-06-09T13:15:19.040361Z",
     "start_time": "2020-06-09T13:14:46.560260Z"
    }
   },
   "outputs": [
    {
     "name": "stdout",
     "output_type": "stream",
     "text": [
      "Using already downloaded data\n",
      "Loaded dataset. Shape = (1131, 5000)\n"
     ]
    }
   ],
   "source": [
    "betas, all_labels, cpg_sites, index = read_dataset('input/', label_names = labels_columns,\n",
    "                                               project_filter='TCGA-BRCA',\n",
    "                                               gcs_prefix='pivot_data_v5/', nb_partition=94)"
   ]
  },
  {
   "cell_type": "markdown",
   "metadata": {},
   "source": [
    "# Pre-processing"
   ]
  },
  {
   "cell_type": "markdown",
   "metadata": {},
   "source": [
    "## Label formatting"
   ]
  },
  {
   "cell_type": "markdown",
   "metadata": {},
   "source": [
    "First, extract the label where are interested in. The labels are saved in this order:\n",
    " - 0 -> project_short_name\n",
    " - 1 -> clinical_stage\n",
    " - 2 -> clinical_T\n",
    " - 3 -> clinical_N\n",
    " - 4 -> clinical_M\n",
    " - 5 -> pathologic_stage\n",
    " - 6 -> pathologic_T\n",
    " - 7 -> pathologic_N\n",
    " - 8 -> pathologic_M"
   ]
  },
  {
   "cell_type": "code",
   "execution_count": 7,
   "metadata": {
    "ExecuteTime": {
     "end_time": "2020-06-09T13:22:30.284917Z",
     "start_time": "2020-06-09T13:22:30.282916Z"
    }
   },
   "outputs": [],
   "source": [
    "sub_labels = all_labels[:, 5]"
   ]
  },
  {
   "cell_type": "code",
   "execution_count": 8,
   "metadata": {
    "ExecuteTime": {
     "end_time": "2020-06-09T13:25:14.249882Z",
     "start_time": "2020-06-09T13:25:14.243885Z"
    }
   },
   "outputs": [
    {
     "data": {
      "text/plain": [
       "array(['TCGA-GM-A2DF-01A', 'TCGA-BH-A0DH-01A', 'TCGA-E2-A154-01A', ...,\n",
       "       'TCGA-A2-A3XW-01A', 'TCGA-C8-A26X-01A', 'TCGA-BH-A0BT-01A'],\n",
       "      dtype=object)"
      ]
     },
     "execution_count": 8,
     "metadata": {},
     "output_type": "execute_result"
    }
   ],
   "source": [
    "index"
   ]
  },
  {
   "cell_type": "markdown",
   "metadata": {},
   "source": [
    "Then, using sample_id, extract whether or not the sample was cancerous. Sample id is following this format:\n",
    "    -TCGA-AA-BBBB-CCD\n",
    "with CC being imformation about the sample.\n",
    "If CC is in (01, 09), then the sample is cancerous. If CC is in (10, 19), the sample was taken from normal tissue."
   ]
  },
  {
   "cell_type": "code",
   "execution_count": 14,
   "metadata": {
    "ExecuteTime": {
     "end_time": "2020-06-09T13:30:49.068309Z",
     "start_time": "2020-06-09T13:30:49.062225Z"
    }
   },
   "outputs": [],
   "source": [
    "l = []\n",
    "for (elt, barcode) in zip(sub_labels, index):\n",
    "    sample_code = int(barcode.split('-')[-1][:2])\n",
    "    if sample_code <= 9:\n",
    "        l.append(elt)\n",
    "    else:\n",
    "        l.append(0)"
   ]
  },
  {
   "cell_type": "markdown",
   "metadata": {},
   "source": [
    "Then, we will format the remaining stage labels"
   ]
  },
  {
   "cell_type": "code",
   "execution_count": 19,
   "metadata": {
    "ExecuteTime": {
     "end_time": "2020-06-09T13:33:31.235187Z",
     "start_time": "2020-06-09T13:33:31.231187Z"
    }
   },
   "outputs": [],
   "source": [
    "map_sub_labels_to_classes = {\n",
    " 'Stage I': 1,\n",
    " 'Stage IA': 1,\n",
    " 'Stage IB': 1,\n",
    " 'Stage II': 2,\n",
    " 'Stage IIA': 2,\n",
    " 'Stage IIB': 2,\n",
    " 'Stage III': 3,\n",
    " 'Stage IIIA': 3,\n",
    " 'Stage IIIB': 3,\n",
    " 'Stage IIIC': 3,\n",
    " 'Stage IV': 4,\n",
    " 'Stage X': 5,\n",
    "  np.nan: np.nan,\n",
    "  0: 0\n",
    "}\n",
    "\n",
    "# map_sub_labels_to_classes = {\n",
    "#  'T1b': 1,\n",
    "#  'TX': np.nan,\n",
    "#  'T2': 2,\n",
    "#  'T2b': 2,\n",
    "#  'T4': 4,\n",
    "#  'T4b':4 ,\n",
    "#  'T1c': 1,\n",
    "#  'T1': 1,\n",
    "#  'T4d': 4,\n",
    "#  'T2a': 2,\n",
    "#  'T3a': 3,\n",
    "#  'T3': 3,\n",
    "#  'T1a': 1\n",
    "# }\n",
    "\n",
    "# map_sub_labels_to_classes = {\n",
    "#  'N3c': 3,\n",
    "#  'N1c': 1,\n",
    "#  'N3': 3,\n",
    "#  'N2a': 2,\n",
    "#  'N3b': 3,\n",
    "#  'N3a': 3,\n",
    "#  'N0': 0,\n",
    "#  'NX': np.nan,\n",
    "#  'N1': 1,\n",
    "#  'N0 (i-)': 0,\n",
    "#  'N2': 2,\n",
    "#  'N0 (mol+)': 0,\n",
    "#  'N1b': 1,\n",
    "#  'N1mi': 1,\n",
    "#  'N0 (i+)': 0,\n",
    "#  'N1a': 1\n",
    "# }"
   ]
  },
  {
   "cell_type": "code",
   "execution_count": 20,
   "metadata": {
    "ExecuteTime": {
     "end_time": "2020-06-09T13:33:32.060268Z",
     "start_time": "2020-06-09T13:33:32.054270Z"
    }
   },
   "outputs": [],
   "source": [
    "sub_labels = [map_sub_labels_to_classes[elt] for elt in l]"
   ]
  },
  {
   "cell_type": "markdown",
   "metadata": {},
   "source": [
    "## Re-balance dataset"
   ]
  },
  {
   "cell_type": "code",
   "execution_count": 21,
   "metadata": {
    "ExecuteTime": {
     "end_time": "2020-06-09T13:33:35.013820Z",
     "start_time": "2020-06-09T13:33:35.008821Z"
    }
   },
   "outputs": [],
   "source": [
    "u, c = np.unique(sub_labels, return_counts = True)\n",
    "nb_value_majority_class = max(c)"
   ]
  },
  {
   "cell_type": "code",
   "execution_count": 25,
   "metadata": {
    "ExecuteTime": {
     "end_time": "2020-06-09T13:34:48.375266Z",
     "start_time": "2020-06-09T13:34:44.952366Z"
    }
   },
   "outputs": [
    {
     "name": "stdout",
     "output_type": "stream",
     "text": [
      "=== Drop Columns and Rows ===\n",
      "Dropping 9 because of missing labels\n",
      "New Shape = (1122, 5000)\n",
      "Dropping columns which have more than 10% of values missing\n",
      "0 columns will be dropped.\n",
      "betas: New shape is (1122, 5000)\n",
      "cpg_sites: New shape is (5000,)\n",
      "\n",
      "Dropping rows which have more than 10% of values missing\n",
      "We will drop 1 rows\n",
      "betas: New shape is (1121, 5000)\n",
      "labels: New shape is (1121,)\n",
      "\n",
      "=== Fill remaining NAs ===\n",
      "Filling remaining NA values using a KNNImputer\n",
      "2048 NA were filled, i.e. approximately 1.83 per rows\n",
      "\n",
      "=== Train / Test Split ===\n",
      "Splitting dataset into train and test\n",
      "Train = 70 %\n",
      "Test = 30 %\n",
      "\n",
      "=== Standardize dataset ===\n",
      "The average of column mean on train is 0.00\n",
      "The average of column mean on test is 0.02\n",
      "\n",
      "=== Balance dataset ===\n",
      "The resampling_strategy gives the following repartition {0.0: 201, 1.0: 201, 2.0: 402, 3.0: 201, 4.0: 201, 5.0: 201}\n",
      "623 rows were added in the training data\n"
     ]
    }
   ],
   "source": [
    "X_train, X_test, y_train, y_test, labels, cpg_sites = preprocessing(betas, sub_labels, cpg_sites, smote=True,\n",
    "                                                                   fill_na_strategy='knn',\n",
    "                                                                    sampling_strategy=0.5)"
   ]
  },
  {
   "cell_type": "code",
   "execution_count": 26,
   "metadata": {
    "ExecuteTime": {
     "end_time": "2020-06-09T13:37:42.238511Z",
     "start_time": "2020-06-09T13:37:42.094600Z"
    }
   },
   "outputs": [
    {
     "data": {
      "application/vnd.plotly.v1+json": {
       "config": {
        "plotlyServerURL": "https://plot.ly"
       },
       "data": [
        {
         "type": "histogram",
         "x": [
          2,
          2,
          1,
          2,
          2,
          3,
          0,
          2,
          0,
          2,
          2,
          2,
          4,
          5,
          2,
          3,
          0,
          2,
          5,
          3,
          2,
          2,
          0,
          2,
          1,
          0,
          3,
          3,
          3,
          1,
          2,
          0,
          2,
          1,
          2,
          2,
          2,
          3,
          2,
          3,
          1,
          2,
          2,
          2,
          3,
          3,
          0,
          3,
          0,
          2,
          2,
          2,
          3,
          1,
          2,
          2,
          2,
          1,
          2,
          0,
          4,
          2,
          2,
          3,
          2,
          2,
          2,
          1,
          2,
          2,
          3,
          2,
          1,
          2,
          2,
          3,
          2,
          2,
          2,
          2,
          2,
          3,
          2,
          2,
          3,
          2,
          2,
          1,
          null,
          3,
          2,
          2,
          2,
          1,
          2,
          2,
          2,
          2,
          3,
          1,
          3,
          2,
          3,
          2,
          1,
          3,
          2,
          0,
          2,
          3,
          1,
          2,
          0,
          1,
          2,
          3,
          2,
          1,
          2,
          2,
          2,
          2,
          0,
          2,
          2,
          2,
          3,
          5,
          2,
          1,
          2,
          1,
          2,
          2,
          2,
          0,
          3,
          2,
          2,
          2,
          3,
          3,
          2,
          3,
          1,
          2,
          1,
          0,
          3,
          0,
          2,
          3,
          3,
          3,
          2,
          0,
          1,
          2,
          2,
          0,
          2,
          1,
          2,
          2,
          2,
          3,
          0,
          1,
          2,
          2,
          2,
          2,
          3,
          3,
          3,
          2,
          3,
          2,
          2,
          2,
          2,
          1,
          2,
          3,
          3,
          5,
          2,
          2,
          0,
          3,
          1,
          2,
          2,
          3,
          1,
          2,
          3,
          2,
          0,
          1,
          0,
          3,
          1,
          2,
          3,
          2,
          3,
          3,
          2,
          0,
          3,
          3,
          2,
          2,
          2,
          2,
          3,
          2,
          2,
          1,
          2,
          4,
          0,
          2,
          3,
          0,
          2,
          1,
          2,
          2,
          0,
          2,
          2,
          2,
          2,
          3,
          2,
          2,
          2,
          2,
          2,
          1,
          0,
          3,
          2,
          2,
          2,
          0,
          0,
          2,
          2,
          1,
          2,
          2,
          1,
          2,
          0,
          4,
          2,
          3,
          2,
          2,
          0,
          3,
          3,
          0,
          3,
          2,
          2,
          2,
          0,
          1,
          2,
          2,
          null,
          2,
          2,
          3,
          3,
          2,
          2,
          2,
          2,
          1,
          4,
          2,
          1,
          2,
          3,
          1,
          null,
          3,
          1,
          2,
          2,
          1,
          0,
          1,
          2,
          2,
          1,
          3,
          3,
          2,
          3,
          2,
          2,
          0,
          0,
          3,
          3,
          3,
          2,
          1,
          3,
          2,
          2,
          2,
          0,
          2,
          3,
          1,
          3,
          1,
          1,
          3,
          1,
          3,
          3,
          2,
          1,
          3,
          0,
          2,
          2,
          3,
          2,
          2,
          2,
          2,
          2,
          3,
          1,
          2,
          0,
          4,
          4,
          0,
          0,
          3,
          2,
          2,
          2,
          2,
          2,
          1,
          2,
          2,
          2,
          1,
          2,
          0,
          3,
          2,
          2,
          2,
          2,
          3,
          1,
          1,
          1,
          1,
          3,
          0,
          2,
          2,
          2,
          2,
          2,
          2,
          3,
          2,
          2,
          2,
          2,
          0,
          1,
          3,
          2,
          1,
          2,
          2,
          2,
          3,
          2,
          1,
          2,
          2,
          5,
          1,
          3,
          4,
          2,
          2,
          2,
          0,
          2,
          0,
          2,
          3,
          1,
          2,
          0,
          2,
          2,
          2,
          1,
          2,
          3,
          2,
          3,
          2,
          2,
          2,
          2,
          2,
          3,
          3,
          2,
          3,
          2,
          1,
          3,
          2,
          2,
          2,
          3,
          2,
          2,
          0,
          2,
          2,
          2,
          3,
          3,
          2,
          2,
          1,
          0,
          3,
          2,
          5,
          3,
          0,
          3,
          1,
          2,
          2,
          null,
          1,
          3,
          3,
          2,
          2,
          3,
          2,
          2,
          2,
          2,
          2,
          1,
          2,
          1,
          null,
          2,
          3,
          1,
          2,
          3,
          1,
          5,
          3,
          3,
          2,
          1,
          5,
          1,
          0,
          2,
          null,
          3,
          3,
          1,
          2,
          3,
          2,
          2,
          1,
          2,
          2,
          2,
          3,
          2,
          2,
          1,
          2,
          3,
          4,
          2,
          3,
          3,
          3,
          2,
          1,
          1,
          2,
          0,
          3,
          2,
          1,
          3,
          3,
          3,
          2,
          2,
          1,
          3,
          3,
          2,
          1,
          3,
          2,
          2,
          3,
          2,
          1,
          2,
          1,
          2,
          1,
          1,
          2,
          2,
          2,
          3,
          3,
          2,
          2,
          2,
          2,
          3,
          3,
          2,
          2,
          2,
          2,
          2,
          0,
          0,
          2,
          3,
          4,
          2,
          2,
          2,
          2,
          2,
          2,
          2,
          0,
          2,
          2,
          2,
          0,
          2,
          2,
          2,
          2,
          2,
          3,
          0,
          2,
          4,
          2,
          2,
          1,
          2,
          2,
          2,
          2,
          2,
          2,
          2,
          3,
          2,
          2,
          2,
          2,
          2,
          2,
          3,
          2,
          5,
          3,
          0,
          2,
          2,
          3,
          2,
          2,
          1,
          0,
          2,
          1,
          2,
          2,
          2,
          2,
          0,
          4,
          2,
          3,
          2,
          2,
          1,
          2,
          2,
          0,
          3,
          1,
          2,
          3,
          2,
          2,
          3,
          1,
          2,
          1,
          1,
          3,
          2,
          2,
          0,
          3,
          1,
          0,
          1,
          0,
          2,
          3,
          3,
          2,
          3,
          2,
          3,
          2,
          2,
          2,
          4,
          2,
          2,
          3,
          2,
          3,
          2,
          2,
          0,
          4,
          3,
          2,
          3,
          1,
          5,
          3,
          3,
          3,
          2,
          2,
          2,
          2,
          1,
          3,
          2,
          1,
          3,
          1,
          0,
          3,
          2,
          3,
          0,
          2,
          2,
          2,
          2,
          1,
          0,
          2,
          3,
          2,
          2,
          2,
          3,
          2,
          3,
          0,
          0,
          3,
          2,
          2,
          0,
          2,
          3,
          2,
          2,
          2,
          1,
          3,
          2,
          3,
          2,
          3,
          2,
          3,
          3,
          3,
          2,
          0,
          1,
          1,
          2,
          2,
          3,
          2,
          0,
          1,
          3,
          2,
          1,
          1,
          2,
          3,
          3,
          3,
          2,
          1,
          2,
          1,
          1,
          2,
          1,
          2,
          2,
          2,
          2,
          2,
          2,
          1,
          2,
          2,
          2,
          2,
          1,
          1,
          2,
          0,
          2,
          null,
          2,
          0,
          4,
          2,
          1,
          1,
          2,
          2,
          2,
          0,
          3,
          1,
          2,
          1,
          2,
          3,
          1,
          1,
          3,
          2,
          0,
          1,
          2,
          0,
          2,
          2,
          3,
          2,
          4,
          0,
          2,
          3,
          0,
          3,
          0,
          2,
          2,
          2,
          3,
          1,
          1,
          0,
          2,
          2,
          2,
          2,
          1,
          2,
          2,
          null,
          3,
          2,
          3,
          2,
          2,
          2,
          3,
          0,
          2,
          5,
          2,
          0,
          2,
          3,
          2,
          3,
          2,
          2,
          2,
          3,
          2,
          2,
          2,
          4,
          0,
          2,
          1,
          2,
          1,
          2,
          0,
          1,
          3,
          2,
          2,
          2,
          2,
          2,
          2,
          2,
          2,
          2,
          2,
          0,
          3,
          3,
          2,
          2,
          1,
          2,
          2,
          2,
          2,
          3,
          2,
          2,
          3,
          2,
          0,
          2,
          2,
          2,
          3,
          2,
          2,
          0,
          2,
          3,
          1,
          1,
          2,
          2,
          3,
          3,
          2,
          3,
          2,
          2,
          3,
          2,
          0,
          2,
          1,
          2,
          1,
          1,
          2,
          2,
          1,
          2,
          1,
          3,
          2,
          2,
          2,
          1,
          2,
          2,
          2,
          2,
          2,
          2,
          2,
          3,
          2,
          2,
          2,
          5,
          1,
          3,
          2,
          1,
          2,
          0,
          2,
          2,
          2,
          0,
          1,
          0,
          1,
          3,
          1,
          3,
          1,
          2,
          2,
          0,
          2,
          2,
          2,
          2,
          2,
          2,
          2,
          3,
          3,
          2,
          1,
          1,
          2,
          2,
          0,
          2,
          3,
          3,
          2,
          2,
          2,
          2,
          2,
          2,
          2,
          2,
          2,
          3,
          3,
          2,
          2,
          0,
          2,
          2,
          2,
          3,
          2,
          1,
          2,
          2,
          2,
          3,
          2,
          2,
          3,
          2,
          2,
          0,
          3,
          2,
          2,
          2,
          2,
          3,
          3,
          0,
          0,
          2,
          2,
          2,
          4,
          2,
          3,
          2,
          1,
          3,
          2,
          2,
          2,
          2,
          2,
          0,
          3,
          2,
          2,
          3,
          3,
          1,
          2,
          2,
          2,
          0,
          2,
          0,
          1,
          1,
          2,
          2,
          3,
          2,
          2,
          2,
          3,
          2,
          1,
          2,
          2,
          1,
          0,
          0,
          2,
          1,
          2,
          0,
          1,
          2,
          5,
          3,
          2,
          1,
          2,
          2,
          0,
          3,
          2,
          3,
          2,
          2,
          1,
          2,
          2,
          2,
          0,
          4,
          null,
          3,
          2,
          3,
          3,
          2,
          1,
          2,
          3,
          1,
          1,
          1,
          2,
          2,
          3,
          2,
          2,
          0,
          2,
          3,
          2,
          3,
          1,
          2,
          2,
          3,
          2,
          2,
          1,
          2,
          2,
          1,
          2,
          3,
          3,
          3,
          2,
          1,
          2,
          2,
          0,
          2,
          2,
          2,
          1,
          2,
          0,
          1,
          2,
          1,
          3,
          0,
          1,
          0,
          2,
          1,
          1,
          3,
          2,
          2,
          2
         ]
        }
       ],
       "layout": {
        "bargroupgap": 0.2,
        "template": {
         "data": {
          "bar": [
           {
            "error_x": {
             "color": "#2a3f5f"
            },
            "error_y": {
             "color": "#2a3f5f"
            },
            "marker": {
             "line": {
              "color": "#E5ECF6",
              "width": 0.5
             }
            },
            "type": "bar"
           }
          ],
          "barpolar": [
           {
            "marker": {
             "line": {
              "color": "#E5ECF6",
              "width": 0.5
             }
            },
            "type": "barpolar"
           }
          ],
          "carpet": [
           {
            "aaxis": {
             "endlinecolor": "#2a3f5f",
             "gridcolor": "white",
             "linecolor": "white",
             "minorgridcolor": "white",
             "startlinecolor": "#2a3f5f"
            },
            "baxis": {
             "endlinecolor": "#2a3f5f",
             "gridcolor": "white",
             "linecolor": "white",
             "minorgridcolor": "white",
             "startlinecolor": "#2a3f5f"
            },
            "type": "carpet"
           }
          ],
          "choropleth": [
           {
            "colorbar": {
             "outlinewidth": 0,
             "ticks": ""
            },
            "type": "choropleth"
           }
          ],
          "contour": [
           {
            "colorbar": {
             "outlinewidth": 0,
             "ticks": ""
            },
            "colorscale": [
             [
              0,
              "#0d0887"
             ],
             [
              0.1111111111111111,
              "#46039f"
             ],
             [
              0.2222222222222222,
              "#7201a8"
             ],
             [
              0.3333333333333333,
              "#9c179e"
             ],
             [
              0.4444444444444444,
              "#bd3786"
             ],
             [
              0.5555555555555556,
              "#d8576b"
             ],
             [
              0.6666666666666666,
              "#ed7953"
             ],
             [
              0.7777777777777778,
              "#fb9f3a"
             ],
             [
              0.8888888888888888,
              "#fdca26"
             ],
             [
              1,
              "#f0f921"
             ]
            ],
            "type": "contour"
           }
          ],
          "contourcarpet": [
           {
            "colorbar": {
             "outlinewidth": 0,
             "ticks": ""
            },
            "type": "contourcarpet"
           }
          ],
          "heatmap": [
           {
            "colorbar": {
             "outlinewidth": 0,
             "ticks": ""
            },
            "colorscale": [
             [
              0,
              "#0d0887"
             ],
             [
              0.1111111111111111,
              "#46039f"
             ],
             [
              0.2222222222222222,
              "#7201a8"
             ],
             [
              0.3333333333333333,
              "#9c179e"
             ],
             [
              0.4444444444444444,
              "#bd3786"
             ],
             [
              0.5555555555555556,
              "#d8576b"
             ],
             [
              0.6666666666666666,
              "#ed7953"
             ],
             [
              0.7777777777777778,
              "#fb9f3a"
             ],
             [
              0.8888888888888888,
              "#fdca26"
             ],
             [
              1,
              "#f0f921"
             ]
            ],
            "type": "heatmap"
           }
          ],
          "heatmapgl": [
           {
            "colorbar": {
             "outlinewidth": 0,
             "ticks": ""
            },
            "colorscale": [
             [
              0,
              "#0d0887"
             ],
             [
              0.1111111111111111,
              "#46039f"
             ],
             [
              0.2222222222222222,
              "#7201a8"
             ],
             [
              0.3333333333333333,
              "#9c179e"
             ],
             [
              0.4444444444444444,
              "#bd3786"
             ],
             [
              0.5555555555555556,
              "#d8576b"
             ],
             [
              0.6666666666666666,
              "#ed7953"
             ],
             [
              0.7777777777777778,
              "#fb9f3a"
             ],
             [
              0.8888888888888888,
              "#fdca26"
             ],
             [
              1,
              "#f0f921"
             ]
            ],
            "type": "heatmapgl"
           }
          ],
          "histogram": [
           {
            "marker": {
             "colorbar": {
              "outlinewidth": 0,
              "ticks": ""
             }
            },
            "type": "histogram"
           }
          ],
          "histogram2d": [
           {
            "colorbar": {
             "outlinewidth": 0,
             "ticks": ""
            },
            "colorscale": [
             [
              0,
              "#0d0887"
             ],
             [
              0.1111111111111111,
              "#46039f"
             ],
             [
              0.2222222222222222,
              "#7201a8"
             ],
             [
              0.3333333333333333,
              "#9c179e"
             ],
             [
              0.4444444444444444,
              "#bd3786"
             ],
             [
              0.5555555555555556,
              "#d8576b"
             ],
             [
              0.6666666666666666,
              "#ed7953"
             ],
             [
              0.7777777777777778,
              "#fb9f3a"
             ],
             [
              0.8888888888888888,
              "#fdca26"
             ],
             [
              1,
              "#f0f921"
             ]
            ],
            "type": "histogram2d"
           }
          ],
          "histogram2dcontour": [
           {
            "colorbar": {
             "outlinewidth": 0,
             "ticks": ""
            },
            "colorscale": [
             [
              0,
              "#0d0887"
             ],
             [
              0.1111111111111111,
              "#46039f"
             ],
             [
              0.2222222222222222,
              "#7201a8"
             ],
             [
              0.3333333333333333,
              "#9c179e"
             ],
             [
              0.4444444444444444,
              "#bd3786"
             ],
             [
              0.5555555555555556,
              "#d8576b"
             ],
             [
              0.6666666666666666,
              "#ed7953"
             ],
             [
              0.7777777777777778,
              "#fb9f3a"
             ],
             [
              0.8888888888888888,
              "#fdca26"
             ],
             [
              1,
              "#f0f921"
             ]
            ],
            "type": "histogram2dcontour"
           }
          ],
          "mesh3d": [
           {
            "colorbar": {
             "outlinewidth": 0,
             "ticks": ""
            },
            "type": "mesh3d"
           }
          ],
          "parcoords": [
           {
            "line": {
             "colorbar": {
              "outlinewidth": 0,
              "ticks": ""
             }
            },
            "type": "parcoords"
           }
          ],
          "pie": [
           {
            "automargin": true,
            "type": "pie"
           }
          ],
          "scatter": [
           {
            "marker": {
             "colorbar": {
              "outlinewidth": 0,
              "ticks": ""
             }
            },
            "type": "scatter"
           }
          ],
          "scatter3d": [
           {
            "line": {
             "colorbar": {
              "outlinewidth": 0,
              "ticks": ""
             }
            },
            "marker": {
             "colorbar": {
              "outlinewidth": 0,
              "ticks": ""
             }
            },
            "type": "scatter3d"
           }
          ],
          "scattercarpet": [
           {
            "marker": {
             "colorbar": {
              "outlinewidth": 0,
              "ticks": ""
             }
            },
            "type": "scattercarpet"
           }
          ],
          "scattergeo": [
           {
            "marker": {
             "colorbar": {
              "outlinewidth": 0,
              "ticks": ""
             }
            },
            "type": "scattergeo"
           }
          ],
          "scattergl": [
           {
            "marker": {
             "colorbar": {
              "outlinewidth": 0,
              "ticks": ""
             }
            },
            "type": "scattergl"
           }
          ],
          "scattermapbox": [
           {
            "marker": {
             "colorbar": {
              "outlinewidth": 0,
              "ticks": ""
             }
            },
            "type": "scattermapbox"
           }
          ],
          "scatterpolar": [
           {
            "marker": {
             "colorbar": {
              "outlinewidth": 0,
              "ticks": ""
             }
            },
            "type": "scatterpolar"
           }
          ],
          "scatterpolargl": [
           {
            "marker": {
             "colorbar": {
              "outlinewidth": 0,
              "ticks": ""
             }
            },
            "type": "scatterpolargl"
           }
          ],
          "scatterternary": [
           {
            "marker": {
             "colorbar": {
              "outlinewidth": 0,
              "ticks": ""
             }
            },
            "type": "scatterternary"
           }
          ],
          "surface": [
           {
            "colorbar": {
             "outlinewidth": 0,
             "ticks": ""
            },
            "colorscale": [
             [
              0,
              "#0d0887"
             ],
             [
              0.1111111111111111,
              "#46039f"
             ],
             [
              0.2222222222222222,
              "#7201a8"
             ],
             [
              0.3333333333333333,
              "#9c179e"
             ],
             [
              0.4444444444444444,
              "#bd3786"
             ],
             [
              0.5555555555555556,
              "#d8576b"
             ],
             [
              0.6666666666666666,
              "#ed7953"
             ],
             [
              0.7777777777777778,
              "#fb9f3a"
             ],
             [
              0.8888888888888888,
              "#fdca26"
             ],
             [
              1,
              "#f0f921"
             ]
            ],
            "type": "surface"
           }
          ],
          "table": [
           {
            "cells": {
             "fill": {
              "color": "#EBF0F8"
             },
             "line": {
              "color": "white"
             }
            },
            "header": {
             "fill": {
              "color": "#C8D4E3"
             },
             "line": {
              "color": "white"
             }
            },
            "type": "table"
           }
          ]
         },
         "layout": {
          "annotationdefaults": {
           "arrowcolor": "#2a3f5f",
           "arrowhead": 0,
           "arrowwidth": 1
          },
          "coloraxis": {
           "colorbar": {
            "outlinewidth": 0,
            "ticks": ""
           }
          },
          "colorscale": {
           "diverging": [
            [
             0,
             "#8e0152"
            ],
            [
             0.1,
             "#c51b7d"
            ],
            [
             0.2,
             "#de77ae"
            ],
            [
             0.3,
             "#f1b6da"
            ],
            [
             0.4,
             "#fde0ef"
            ],
            [
             0.5,
             "#f7f7f7"
            ],
            [
             0.6,
             "#e6f5d0"
            ],
            [
             0.7,
             "#b8e186"
            ],
            [
             0.8,
             "#7fbc41"
            ],
            [
             0.9,
             "#4d9221"
            ],
            [
             1,
             "#276419"
            ]
           ],
           "sequential": [
            [
             0,
             "#0d0887"
            ],
            [
             0.1111111111111111,
             "#46039f"
            ],
            [
             0.2222222222222222,
             "#7201a8"
            ],
            [
             0.3333333333333333,
             "#9c179e"
            ],
            [
             0.4444444444444444,
             "#bd3786"
            ],
            [
             0.5555555555555556,
             "#d8576b"
            ],
            [
             0.6666666666666666,
             "#ed7953"
            ],
            [
             0.7777777777777778,
             "#fb9f3a"
            ],
            [
             0.8888888888888888,
             "#fdca26"
            ],
            [
             1,
             "#f0f921"
            ]
           ],
           "sequentialminus": [
            [
             0,
             "#0d0887"
            ],
            [
             0.1111111111111111,
             "#46039f"
            ],
            [
             0.2222222222222222,
             "#7201a8"
            ],
            [
             0.3333333333333333,
             "#9c179e"
            ],
            [
             0.4444444444444444,
             "#bd3786"
            ],
            [
             0.5555555555555556,
             "#d8576b"
            ],
            [
             0.6666666666666666,
             "#ed7953"
            ],
            [
             0.7777777777777778,
             "#fb9f3a"
            ],
            [
             0.8888888888888888,
             "#fdca26"
            ],
            [
             1,
             "#f0f921"
            ]
           ]
          },
          "colorway": [
           "#636efa",
           "#EF553B",
           "#00cc96",
           "#ab63fa",
           "#FFA15A",
           "#19d3f3",
           "#FF6692",
           "#B6E880",
           "#FF97FF",
           "#FECB52"
          ],
          "font": {
           "color": "#2a3f5f"
          },
          "geo": {
           "bgcolor": "white",
           "lakecolor": "white",
           "landcolor": "#E5ECF6",
           "showlakes": true,
           "showland": true,
           "subunitcolor": "white"
          },
          "hoverlabel": {
           "align": "left"
          },
          "hovermode": "closest",
          "mapbox": {
           "style": "light"
          },
          "paper_bgcolor": "white",
          "plot_bgcolor": "#E5ECF6",
          "polar": {
           "angularaxis": {
            "gridcolor": "white",
            "linecolor": "white",
            "ticks": ""
           },
           "bgcolor": "#E5ECF6",
           "radialaxis": {
            "gridcolor": "white",
            "linecolor": "white",
            "ticks": ""
           }
          },
          "scene": {
           "xaxis": {
            "backgroundcolor": "#E5ECF6",
            "gridcolor": "white",
            "gridwidth": 2,
            "linecolor": "white",
            "showbackground": true,
            "ticks": "",
            "zerolinecolor": "white"
           },
           "yaxis": {
            "backgroundcolor": "#E5ECF6",
            "gridcolor": "white",
            "gridwidth": 2,
            "linecolor": "white",
            "showbackground": true,
            "ticks": "",
            "zerolinecolor": "white"
           },
           "zaxis": {
            "backgroundcolor": "#E5ECF6",
            "gridcolor": "white",
            "gridwidth": 2,
            "linecolor": "white",
            "showbackground": true,
            "ticks": "",
            "zerolinecolor": "white"
           }
          },
          "shapedefaults": {
           "line": {
            "color": "#2a3f5f"
           }
          },
          "ternary": {
           "aaxis": {
            "gridcolor": "white",
            "linecolor": "white",
            "ticks": ""
           },
           "baxis": {
            "gridcolor": "white",
            "linecolor": "white",
            "ticks": ""
           },
           "bgcolor": "#E5ECF6",
           "caxis": {
            "gridcolor": "white",
            "linecolor": "white",
            "ticks": ""
           }
          },
          "title": {
           "x": 0.05
          },
          "xaxis": {
           "automargin": true,
           "gridcolor": "white",
           "linecolor": "white",
           "ticks": "",
           "title": {
            "standoff": 15
           },
           "zerolinecolor": "white",
           "zerolinewidth": 2
          },
          "yaxis": {
           "automargin": true,
           "gridcolor": "white",
           "linecolor": "white",
           "ticks": "",
           "title": {
            "standoff": 15
           },
           "zerolinecolor": "white",
           "zerolinewidth": 2
          }
         }
        },
        "title": {
         "text": "Histogram of labels to predict"
        },
        "xaxis": {
         "title": {
          "text": "Cancer Stage"
         }
        },
        "yaxis": {
         "title": {
          "text": "Count of observations"
         }
        }
       }
      },
      "text/html": [
       "<div>\n",
       "        \n",
       "        \n",
       "            <div id=\"e920da99-c506-4c00-b73b-1918c4020981\" class=\"plotly-graph-div\" style=\"height:525px; width:100%;\"></div>\n",
       "            <script type=\"text/javascript\">\n",
       "                require([\"plotly\"], function(Plotly) {\n",
       "                    window.PLOTLYENV=window.PLOTLYENV || {};\n",
       "                    \n",
       "                if (document.getElementById(\"e920da99-c506-4c00-b73b-1918c4020981\")) {\n",
       "                    Plotly.newPlot(\n",
       "                        'e920da99-c506-4c00-b73b-1918c4020981',\n",
       "                        [{\"type\": \"histogram\", \"x\": [2, 2, 1, 2, 2, 3, 0, 2, 0, 2, 2, 2, 4, 5, 2, 3, 0, 2, 5, 3, 2, 2, 0, 2, 1, 0, 3, 3, 3, 1, 2, 0, 2, 1, 2, 2, 2, 3, 2, 3, 1, 2, 2, 2, 3, 3, 0, 3, 0, 2, 2, 2, 3, 1, 2, 2, 2, 1, 2, 0, 4, 2, 2, 3, 2, 2, 2, 1, 2, 2, 3, 2, 1, 2, 2, 3, 2, 2, 2, 2, 2, 3, 2, 2, 3, 2, 2, 1, null, 3, 2, 2, 2, 1, 2, 2, 2, 2, 3, 1, 3, 2, 3, 2, 1, 3, 2, 0, 2, 3, 1, 2, 0, 1, 2, 3, 2, 1, 2, 2, 2, 2, 0, 2, 2, 2, 3, 5, 2, 1, 2, 1, 2, 2, 2, 0, 3, 2, 2, 2, 3, 3, 2, 3, 1, 2, 1, 0, 3, 0, 2, 3, 3, 3, 2, 0, 1, 2, 2, 0, 2, 1, 2, 2, 2, 3, 0, 1, 2, 2, 2, 2, 3, 3, 3, 2, 3, 2, 2, 2, 2, 1, 2, 3, 3, 5, 2, 2, 0, 3, 1, 2, 2, 3, 1, 2, 3, 2, 0, 1, 0, 3, 1, 2, 3, 2, 3, 3, 2, 0, 3, 3, 2, 2, 2, 2, 3, 2, 2, 1, 2, 4, 0, 2, 3, 0, 2, 1, 2, 2, 0, 2, 2, 2, 2, 3, 2, 2, 2, 2, 2, 1, 0, 3, 2, 2, 2, 0, 0, 2, 2, 1, 2, 2, 1, 2, 0, 4, 2, 3, 2, 2, 0, 3, 3, 0, 3, 2, 2, 2, 0, 1, 2, 2, null, 2, 2, 3, 3, 2, 2, 2, 2, 1, 4, 2, 1, 2, 3, 1, null, 3, 1, 2, 2, 1, 0, 1, 2, 2, 1, 3, 3, 2, 3, 2, 2, 0, 0, 3, 3, 3, 2, 1, 3, 2, 2, 2, 0, 2, 3, 1, 3, 1, 1, 3, 1, 3, 3, 2, 1, 3, 0, 2, 2, 3, 2, 2, 2, 2, 2, 3, 1, 2, 0, 4, 4, 0, 0, 3, 2, 2, 2, 2, 2, 1, 2, 2, 2, 1, 2, 0, 3, 2, 2, 2, 2, 3, 1, 1, 1, 1, 3, 0, 2, 2, 2, 2, 2, 2, 3, 2, 2, 2, 2, 0, 1, 3, 2, 1, 2, 2, 2, 3, 2, 1, 2, 2, 5, 1, 3, 4, 2, 2, 2, 0, 2, 0, 2, 3, 1, 2, 0, 2, 2, 2, 1, 2, 3, 2, 3, 2, 2, 2, 2, 2, 3, 3, 2, 3, 2, 1, 3, 2, 2, 2, 3, 2, 2, 0, 2, 2, 2, 3, 3, 2, 2, 1, 0, 3, 2, 5, 3, 0, 3, 1, 2, 2, null, 1, 3, 3, 2, 2, 3, 2, 2, 2, 2, 2, 1, 2, 1, null, 2, 3, 1, 2, 3, 1, 5, 3, 3, 2, 1, 5, 1, 0, 2, null, 3, 3, 1, 2, 3, 2, 2, 1, 2, 2, 2, 3, 2, 2, 1, 2, 3, 4, 2, 3, 3, 3, 2, 1, 1, 2, 0, 3, 2, 1, 3, 3, 3, 2, 2, 1, 3, 3, 2, 1, 3, 2, 2, 3, 2, 1, 2, 1, 2, 1, 1, 2, 2, 2, 3, 3, 2, 2, 2, 2, 3, 3, 2, 2, 2, 2, 2, 0, 0, 2, 3, 4, 2, 2, 2, 2, 2, 2, 2, 0, 2, 2, 2, 0, 2, 2, 2, 2, 2, 3, 0, 2, 4, 2, 2, 1, 2, 2, 2, 2, 2, 2, 2, 3, 2, 2, 2, 2, 2, 2, 3, 2, 5, 3, 0, 2, 2, 3, 2, 2, 1, 0, 2, 1, 2, 2, 2, 2, 0, 4, 2, 3, 2, 2, 1, 2, 2, 0, 3, 1, 2, 3, 2, 2, 3, 1, 2, 1, 1, 3, 2, 2, 0, 3, 1, 0, 1, 0, 2, 3, 3, 2, 3, 2, 3, 2, 2, 2, 4, 2, 2, 3, 2, 3, 2, 2, 0, 4, 3, 2, 3, 1, 5, 3, 3, 3, 2, 2, 2, 2, 1, 3, 2, 1, 3, 1, 0, 3, 2, 3, 0, 2, 2, 2, 2, 1, 0, 2, 3, 2, 2, 2, 3, 2, 3, 0, 0, 3, 2, 2, 0, 2, 3, 2, 2, 2, 1, 3, 2, 3, 2, 3, 2, 3, 3, 3, 2, 0, 1, 1, 2, 2, 3, 2, 0, 1, 3, 2, 1, 1, 2, 3, 3, 3, 2, 1, 2, 1, 1, 2, 1, 2, 2, 2, 2, 2, 2, 1, 2, 2, 2, 2, 1, 1, 2, 0, 2, null, 2, 0, 4, 2, 1, 1, 2, 2, 2, 0, 3, 1, 2, 1, 2, 3, 1, 1, 3, 2, 0, 1, 2, 0, 2, 2, 3, 2, 4, 0, 2, 3, 0, 3, 0, 2, 2, 2, 3, 1, 1, 0, 2, 2, 2, 2, 1, 2, 2, null, 3, 2, 3, 2, 2, 2, 3, 0, 2, 5, 2, 0, 2, 3, 2, 3, 2, 2, 2, 3, 2, 2, 2, 4, 0, 2, 1, 2, 1, 2, 0, 1, 3, 2, 2, 2, 2, 2, 2, 2, 2, 2, 2, 0, 3, 3, 2, 2, 1, 2, 2, 2, 2, 3, 2, 2, 3, 2, 0, 2, 2, 2, 3, 2, 2, 0, 2, 3, 1, 1, 2, 2, 3, 3, 2, 3, 2, 2, 3, 2, 0, 2, 1, 2, 1, 1, 2, 2, 1, 2, 1, 3, 2, 2, 2, 1, 2, 2, 2, 2, 2, 2, 2, 3, 2, 2, 2, 5, 1, 3, 2, 1, 2, 0, 2, 2, 2, 0, 1, 0, 1, 3, 1, 3, 1, 2, 2, 0, 2, 2, 2, 2, 2, 2, 2, 3, 3, 2, 1, 1, 2, 2, 0, 2, 3, 3, 2, 2, 2, 2, 2, 2, 2, 2, 2, 3, 3, 2, 2, 0, 2, 2, 2, 3, 2, 1, 2, 2, 2, 3, 2, 2, 3, 2, 2, 0, 3, 2, 2, 2, 2, 3, 3, 0, 0, 2, 2, 2, 4, 2, 3, 2, 1, 3, 2, 2, 2, 2, 2, 0, 3, 2, 2, 3, 3, 1, 2, 2, 2, 0, 2, 0, 1, 1, 2, 2, 3, 2, 2, 2, 3, 2, 1, 2, 2, 1, 0, 0, 2, 1, 2, 0, 1, 2, 5, 3, 2, 1, 2, 2, 0, 3, 2, 3, 2, 2, 1, 2, 2, 2, 0, 4, null, 3, 2, 3, 3, 2, 1, 2, 3, 1, 1, 1, 2, 2, 3, 2, 2, 0, 2, 3, 2, 3, 1, 2, 2, 3, 2, 2, 1, 2, 2, 1, 2, 3, 3, 3, 2, 1, 2, 2, 0, 2, 2, 2, 1, 2, 0, 1, 2, 1, 3, 0, 1, 0, 2, 1, 1, 3, 2, 2, 2]}],\n",
       "                        {\"bargroupgap\": 0.2, \"template\": {\"data\": {\"bar\": [{\"error_x\": {\"color\": \"#2a3f5f\"}, \"error_y\": {\"color\": \"#2a3f5f\"}, \"marker\": {\"line\": {\"color\": \"#E5ECF6\", \"width\": 0.5}}, \"type\": \"bar\"}], \"barpolar\": [{\"marker\": {\"line\": {\"color\": \"#E5ECF6\", \"width\": 0.5}}, \"type\": \"barpolar\"}], \"carpet\": [{\"aaxis\": {\"endlinecolor\": \"#2a3f5f\", \"gridcolor\": \"white\", \"linecolor\": \"white\", \"minorgridcolor\": \"white\", \"startlinecolor\": \"#2a3f5f\"}, \"baxis\": {\"endlinecolor\": \"#2a3f5f\", \"gridcolor\": \"white\", \"linecolor\": \"white\", \"minorgridcolor\": \"white\", \"startlinecolor\": \"#2a3f5f\"}, \"type\": \"carpet\"}], \"choropleth\": [{\"colorbar\": {\"outlinewidth\": 0, \"ticks\": \"\"}, \"type\": \"choropleth\"}], \"contour\": [{\"colorbar\": {\"outlinewidth\": 0, \"ticks\": \"\"}, \"colorscale\": [[0.0, \"#0d0887\"], [0.1111111111111111, \"#46039f\"], [0.2222222222222222, \"#7201a8\"], [0.3333333333333333, \"#9c179e\"], [0.4444444444444444, \"#bd3786\"], [0.5555555555555556, \"#d8576b\"], [0.6666666666666666, \"#ed7953\"], [0.7777777777777778, \"#fb9f3a\"], [0.8888888888888888, \"#fdca26\"], [1.0, \"#f0f921\"]], \"type\": \"contour\"}], \"contourcarpet\": [{\"colorbar\": {\"outlinewidth\": 0, \"ticks\": \"\"}, \"type\": \"contourcarpet\"}], \"heatmap\": [{\"colorbar\": {\"outlinewidth\": 0, \"ticks\": \"\"}, \"colorscale\": [[0.0, \"#0d0887\"], [0.1111111111111111, \"#46039f\"], [0.2222222222222222, \"#7201a8\"], [0.3333333333333333, \"#9c179e\"], [0.4444444444444444, \"#bd3786\"], [0.5555555555555556, \"#d8576b\"], [0.6666666666666666, \"#ed7953\"], [0.7777777777777778, \"#fb9f3a\"], [0.8888888888888888, \"#fdca26\"], [1.0, \"#f0f921\"]], \"type\": \"heatmap\"}], \"heatmapgl\": [{\"colorbar\": {\"outlinewidth\": 0, \"ticks\": \"\"}, \"colorscale\": [[0.0, \"#0d0887\"], [0.1111111111111111, \"#46039f\"], [0.2222222222222222, \"#7201a8\"], [0.3333333333333333, \"#9c179e\"], [0.4444444444444444, \"#bd3786\"], [0.5555555555555556, \"#d8576b\"], [0.6666666666666666, \"#ed7953\"], [0.7777777777777778, \"#fb9f3a\"], [0.8888888888888888, \"#fdca26\"], [1.0, \"#f0f921\"]], \"type\": \"heatmapgl\"}], \"histogram\": [{\"marker\": {\"colorbar\": {\"outlinewidth\": 0, \"ticks\": \"\"}}, \"type\": \"histogram\"}], \"histogram2d\": [{\"colorbar\": {\"outlinewidth\": 0, \"ticks\": \"\"}, \"colorscale\": [[0.0, \"#0d0887\"], [0.1111111111111111, \"#46039f\"], [0.2222222222222222, \"#7201a8\"], [0.3333333333333333, \"#9c179e\"], [0.4444444444444444, \"#bd3786\"], [0.5555555555555556, \"#d8576b\"], [0.6666666666666666, \"#ed7953\"], [0.7777777777777778, \"#fb9f3a\"], [0.8888888888888888, \"#fdca26\"], [1.0, \"#f0f921\"]], \"type\": \"histogram2d\"}], \"histogram2dcontour\": [{\"colorbar\": {\"outlinewidth\": 0, \"ticks\": \"\"}, \"colorscale\": [[0.0, \"#0d0887\"], [0.1111111111111111, \"#46039f\"], [0.2222222222222222, \"#7201a8\"], [0.3333333333333333, \"#9c179e\"], [0.4444444444444444, \"#bd3786\"], [0.5555555555555556, \"#d8576b\"], [0.6666666666666666, \"#ed7953\"], [0.7777777777777778, \"#fb9f3a\"], [0.8888888888888888, \"#fdca26\"], [1.0, \"#f0f921\"]], \"type\": \"histogram2dcontour\"}], \"mesh3d\": [{\"colorbar\": {\"outlinewidth\": 0, \"ticks\": \"\"}, \"type\": \"mesh3d\"}], \"parcoords\": [{\"line\": {\"colorbar\": {\"outlinewidth\": 0, \"ticks\": \"\"}}, \"type\": \"parcoords\"}], \"pie\": [{\"automargin\": true, \"type\": \"pie\"}], \"scatter\": [{\"marker\": {\"colorbar\": {\"outlinewidth\": 0, \"ticks\": \"\"}}, \"type\": \"scatter\"}], \"scatter3d\": [{\"line\": {\"colorbar\": {\"outlinewidth\": 0, \"ticks\": \"\"}}, \"marker\": {\"colorbar\": {\"outlinewidth\": 0, \"ticks\": \"\"}}, \"type\": \"scatter3d\"}], \"scattercarpet\": [{\"marker\": {\"colorbar\": {\"outlinewidth\": 0, \"ticks\": \"\"}}, \"type\": \"scattercarpet\"}], \"scattergeo\": [{\"marker\": {\"colorbar\": {\"outlinewidth\": 0, \"ticks\": \"\"}}, \"type\": \"scattergeo\"}], \"scattergl\": [{\"marker\": {\"colorbar\": {\"outlinewidth\": 0, \"ticks\": \"\"}}, \"type\": \"scattergl\"}], \"scattermapbox\": [{\"marker\": {\"colorbar\": {\"outlinewidth\": 0, \"ticks\": \"\"}}, \"type\": \"scattermapbox\"}], \"scatterpolar\": [{\"marker\": {\"colorbar\": {\"outlinewidth\": 0, \"ticks\": \"\"}}, \"type\": \"scatterpolar\"}], \"scatterpolargl\": [{\"marker\": {\"colorbar\": {\"outlinewidth\": 0, \"ticks\": \"\"}}, \"type\": \"scatterpolargl\"}], \"scatterternary\": [{\"marker\": {\"colorbar\": {\"outlinewidth\": 0, \"ticks\": \"\"}}, \"type\": \"scatterternary\"}], \"surface\": [{\"colorbar\": {\"outlinewidth\": 0, \"ticks\": \"\"}, \"colorscale\": [[0.0, \"#0d0887\"], [0.1111111111111111, \"#46039f\"], [0.2222222222222222, \"#7201a8\"], [0.3333333333333333, \"#9c179e\"], [0.4444444444444444, \"#bd3786\"], [0.5555555555555556, \"#d8576b\"], [0.6666666666666666, \"#ed7953\"], [0.7777777777777778, \"#fb9f3a\"], [0.8888888888888888, \"#fdca26\"], [1.0, \"#f0f921\"]], \"type\": \"surface\"}], \"table\": [{\"cells\": {\"fill\": {\"color\": \"#EBF0F8\"}, \"line\": {\"color\": \"white\"}}, \"header\": {\"fill\": {\"color\": \"#C8D4E3\"}, \"line\": {\"color\": \"white\"}}, \"type\": \"table\"}]}, \"layout\": {\"annotationdefaults\": {\"arrowcolor\": \"#2a3f5f\", \"arrowhead\": 0, \"arrowwidth\": 1}, \"coloraxis\": {\"colorbar\": {\"outlinewidth\": 0, \"ticks\": \"\"}}, \"colorscale\": {\"diverging\": [[0, \"#8e0152\"], [0.1, \"#c51b7d\"], [0.2, \"#de77ae\"], [0.3, \"#f1b6da\"], [0.4, \"#fde0ef\"], [0.5, \"#f7f7f7\"], [0.6, \"#e6f5d0\"], [0.7, \"#b8e186\"], [0.8, \"#7fbc41\"], [0.9, \"#4d9221\"], [1, \"#276419\"]], \"sequential\": [[0.0, \"#0d0887\"], [0.1111111111111111, \"#46039f\"], [0.2222222222222222, \"#7201a8\"], [0.3333333333333333, \"#9c179e\"], [0.4444444444444444, \"#bd3786\"], [0.5555555555555556, \"#d8576b\"], [0.6666666666666666, \"#ed7953\"], [0.7777777777777778, \"#fb9f3a\"], [0.8888888888888888, \"#fdca26\"], [1.0, \"#f0f921\"]], \"sequentialminus\": [[0.0, \"#0d0887\"], [0.1111111111111111, \"#46039f\"], [0.2222222222222222, \"#7201a8\"], [0.3333333333333333, \"#9c179e\"], [0.4444444444444444, \"#bd3786\"], [0.5555555555555556, \"#d8576b\"], [0.6666666666666666, \"#ed7953\"], [0.7777777777777778, \"#fb9f3a\"], [0.8888888888888888, \"#fdca26\"], [1.0, \"#f0f921\"]]}, \"colorway\": [\"#636efa\", \"#EF553B\", \"#00cc96\", \"#ab63fa\", \"#FFA15A\", \"#19d3f3\", \"#FF6692\", \"#B6E880\", \"#FF97FF\", \"#FECB52\"], \"font\": {\"color\": \"#2a3f5f\"}, \"geo\": {\"bgcolor\": \"white\", \"lakecolor\": \"white\", \"landcolor\": \"#E5ECF6\", \"showlakes\": true, \"showland\": true, \"subunitcolor\": \"white\"}, \"hoverlabel\": {\"align\": \"left\"}, \"hovermode\": \"closest\", \"mapbox\": {\"style\": \"light\"}, \"paper_bgcolor\": \"white\", \"plot_bgcolor\": \"#E5ECF6\", \"polar\": {\"angularaxis\": {\"gridcolor\": \"white\", \"linecolor\": \"white\", \"ticks\": \"\"}, \"bgcolor\": \"#E5ECF6\", \"radialaxis\": {\"gridcolor\": \"white\", \"linecolor\": \"white\", \"ticks\": \"\"}}, \"scene\": {\"xaxis\": {\"backgroundcolor\": \"#E5ECF6\", \"gridcolor\": \"white\", \"gridwidth\": 2, \"linecolor\": \"white\", \"showbackground\": true, \"ticks\": \"\", \"zerolinecolor\": \"white\"}, \"yaxis\": {\"backgroundcolor\": \"#E5ECF6\", \"gridcolor\": \"white\", \"gridwidth\": 2, \"linecolor\": \"white\", \"showbackground\": true, \"ticks\": \"\", \"zerolinecolor\": \"white\"}, \"zaxis\": {\"backgroundcolor\": \"#E5ECF6\", \"gridcolor\": \"white\", \"gridwidth\": 2, \"linecolor\": \"white\", \"showbackground\": true, \"ticks\": \"\", \"zerolinecolor\": \"white\"}}, \"shapedefaults\": {\"line\": {\"color\": \"#2a3f5f\"}}, \"ternary\": {\"aaxis\": {\"gridcolor\": \"white\", \"linecolor\": \"white\", \"ticks\": \"\"}, \"baxis\": {\"gridcolor\": \"white\", \"linecolor\": \"white\", \"ticks\": \"\"}, \"bgcolor\": \"#E5ECF6\", \"caxis\": {\"gridcolor\": \"white\", \"linecolor\": \"white\", \"ticks\": \"\"}}, \"title\": {\"x\": 0.05}, \"xaxis\": {\"automargin\": true, \"gridcolor\": \"white\", \"linecolor\": \"white\", \"ticks\": \"\", \"title\": {\"standoff\": 15}, \"zerolinecolor\": \"white\", \"zerolinewidth\": 2}, \"yaxis\": {\"automargin\": true, \"gridcolor\": \"white\", \"linecolor\": \"white\", \"ticks\": \"\", \"title\": {\"standoff\": 15}, \"zerolinecolor\": \"white\", \"zerolinewidth\": 2}}}, \"title\": {\"text\": \"Histogram of labels to predict\"}, \"xaxis\": {\"title\": {\"text\": \"Cancer Stage\"}}, \"yaxis\": {\"title\": {\"text\": \"Count of observations\"}}},\n",
       "                        {\"responsive\": true}\n",
       "                    ).then(function(){\n",
       "                            \n",
       "var gd = document.getElementById('e920da99-c506-4c00-b73b-1918c4020981');\n",
       "var x = new MutationObserver(function (mutations, observer) {{\n",
       "        var display = window.getComputedStyle(gd).display;\n",
       "        if (!display || display === 'none') {{\n",
       "            console.log([gd, 'removed!']);\n",
       "            Plotly.purge(gd);\n",
       "            observer.disconnect();\n",
       "        }}\n",
       "}});\n",
       "\n",
       "// Listen for the removal of the full notebook cells\n",
       "var notebookContainer = gd.closest('#notebook-container');\n",
       "if (notebookContainer) {{\n",
       "    x.observe(notebookContainer, {childList: true});\n",
       "}}\n",
       "\n",
       "// Listen for the clearing of the current output cell\n",
       "var outputEl = gd.closest('.output');\n",
       "if (outputEl) {{\n",
       "    x.observe(outputEl, {childList: true});\n",
       "}}\n",
       "\n",
       "                        })\n",
       "                };\n",
       "                });\n",
       "            </script>\n",
       "        </div>"
      ]
     },
     "metadata": {},
     "output_type": "display_data"
    }
   ],
   "source": [
    "fig = go.Figure()\n",
    "fig.add_trace(go.Histogram(x=sub_labels))\n",
    "\n",
    "# Overlay both histograms\n",
    "fig.update_layout(bargroupgap=0.2,\n",
    "                  title=\"Histogram of labels to predict\",\n",
    "                  xaxis_title=\"Cancer Stage\",\n",
    "                  yaxis_title=\"Count of observations\")\n",
    "\n",
    "fig.show()"
   ]
  },
  {
   "cell_type": "markdown",
   "metadata": {},
   "source": [
    "## Save to GCS"
   ]
  },
  {
   "cell_type": "markdown",
   "metadata": {},
   "source": [
    "Optional"
   ]
  },
  {
   "cell_type": "code",
   "execution_count": 29,
   "metadata": {
    "ExecuteTime": {
     "end_time": "2020-06-09T14:19:38.726801Z",
     "start_time": "2020-06-09T14:19:38.663799Z"
    }
   },
   "outputs": [],
   "source": [
    "X = np.concatenate((X_train, X_test), axis=0)\n",
    "y = np.concatenate((y_train, y_test), axis=0)\n",
    "df = pd.DataFrame(X, columns=cpg_sites)\n",
    "df['labels'] = y\n",
    "# df.to_csv('gs://build_hackathon_dnanyc/training_data/tcga-brca-data-pathologic.csv', index=False)"
   ]
  },
  {
   "cell_type": "markdown",
   "metadata": {},
   "source": [
    "# Modeling"
   ]
  },
  {
   "cell_type": "markdown",
   "metadata": {},
   "source": [
    "## Hyperparameter Tuning"
   ]
  },
  {
   "cell_type": "code",
   "execution_count": 36,
   "metadata": {
    "ExecuteTime": {
     "end_time": "2020-06-08T23:17:39.209587Z",
     "start_time": "2020-06-08T23:17:39.205555Z"
    }
   },
   "outputs": [],
   "source": [
    "alpha_range = [0, 0.01, 0.1]\n",
    "max_features = ['sqrt', 'log2', 50]\n",
    "n_estimators = [100, 1000, 10000]"
   ]
  },
  {
   "cell_type": "code",
   "execution_count": 37,
   "metadata": {
    "ExecuteTime": {
     "end_time": "2020-06-08T23:17:39.525227Z",
     "start_time": "2020-06-08T23:17:39.521210Z"
    }
   },
   "outputs": [],
   "source": [
    "kf = StratifiedKFold(n_splits=4)\n",
    "parameters = {'ccp_alpha': alpha_range, 'n_estimators': n_estimators}\n",
    "model = RandomForestClassifier()\n",
    "clf = GridSearchCV(model, parameters, cv=kf, verbose=10, n_jobs=4, scoring='f1_weighted') "
   ]
  },
  {
   "cell_type": "code",
   "execution_count": 38,
   "metadata": {
    "ExecuteTime": {
     "end_time": "2020-06-08T23:57:34.350040Z",
     "start_time": "2020-06-08T23:17:40.052802Z"
    }
   },
   "outputs": [
    {
     "name": "stdout",
     "output_type": "stream",
     "text": [
      "Fitting 4 folds for each of 9 candidates, totalling 36 fits\n"
     ]
    },
    {
     "name": "stderr",
     "output_type": "stream",
     "text": [
      "[Parallel(n_jobs=4)]: Using backend LokyBackend with 4 concurrent workers.\n",
      "[Parallel(n_jobs=4)]: Done   5 tasks      | elapsed:  1.1min\n",
      "[Parallel(n_jobs=4)]: Done  10 tasks      | elapsed: 11.6min\n",
      "[Parallel(n_jobs=4)]: Done  17 tasks      | elapsed: 12.5min\n",
      "[Parallel(n_jobs=4)]: Done  24 tasks      | elapsed: 22.7min\n",
      "[Parallel(n_jobs=4)]: Done  33 out of  36 | elapsed: 32.2min remaining:  2.9min\n",
      "[Parallel(n_jobs=4)]: Done  36 out of  36 | elapsed: 32.3min finished\n"
     ]
    },
    {
     "data": {
      "text/plain": [
       "GridSearchCV(cv=StratifiedKFold(n_splits=4, random_state=None, shuffle=False),\n",
       "             error_score=nan,\n",
       "             estimator=RandomForestClassifier(bootstrap=True, ccp_alpha=0.0,\n",
       "                                              class_weight=None,\n",
       "                                              criterion='gini', max_depth=None,\n",
       "                                              max_features='auto',\n",
       "                                              max_leaf_nodes=None,\n",
       "                                              max_samples=None,\n",
       "                                              min_impurity_decrease=0.0,\n",
       "                                              min_impurity_split=None,\n",
       "                                              min_samples_leaf=1,\n",
       "                                              min_samples_split=2,\n",
       "                                              min_weight_fraction_leaf=0.0,\n",
       "                                              n_estimators=100, n_jobs=None,\n",
       "                                              oob_score=False,\n",
       "                                              random_state=None, verbose=0,\n",
       "                                              warm_start=False),\n",
       "             iid='deprecated', n_jobs=4,\n",
       "             param_grid={'ccp_alpha': [0, 0.01, 0.1],\n",
       "                         'n_estimators': [100, 1000, 10000]},\n",
       "             pre_dispatch='2*n_jobs', refit=True, return_train_score=False,\n",
       "             scoring='f1_weighted', verbose=10)"
      ]
     },
     "execution_count": 38,
     "metadata": {},
     "output_type": "execute_result"
    }
   ],
   "source": [
    "clf.fit(X_train, y_train)"
   ]
  },
  {
   "cell_type": "code",
   "execution_count": 39,
   "metadata": {
    "ExecuteTime": {
     "end_time": "2020-06-08T23:57:34.363999Z",
     "start_time": "2020-06-08T23:57:34.350998Z"
    }
   },
   "outputs": [
    {
     "data": {
      "text/plain": [
       "{'mean_fit_time': array([  5.60897404,  58.52226609, 625.4332056 ,   5.30284011,\n",
       "         53.59032881, 601.72583997,   6.34200639,  61.85174102,\n",
       "        508.13808137]),\n",
       " 'std_fit_time': array([0.17300333, 0.30805952, 2.40553626, 0.25389023, 0.47250726,\n",
       "        2.38112494, 0.1769531 , 0.25444886, 1.81224194]),\n",
       " 'mean_score_time': array([0.06749988, 0.30676657, 2.83767128, 0.03474522, 0.25328648,\n",
       "        2.7883333 , 0.03274959, 0.1577543 , 1.23820454]),\n",
       " 'std_score_time': array([0.01108866, 0.01485346, 0.27632547, 0.003344  , 0.05070144,\n",
       "        0.13874584, 0.00043233, 0.00256772, 0.13540869]),\n",
       " 'param_ccp_alpha': masked_array(data=[0, 0, 0, 0.01, 0.01, 0.01, 0.1, 0.1, 0.1],\n",
       "              mask=[False, False, False, False, False, False, False, False,\n",
       "                    False],\n",
       "        fill_value='?',\n",
       "             dtype=object),\n",
       " 'param_n_estimators': masked_array(data=[100, 1000, 10000, 100, 1000, 10000, 100, 1000, 10000],\n",
       "              mask=[False, False, False, False, False, False, False, False,\n",
       "                    False],\n",
       "        fill_value='?',\n",
       "             dtype=object),\n",
       " 'params': [{'ccp_alpha': 0, 'n_estimators': 100},\n",
       "  {'ccp_alpha': 0, 'n_estimators': 1000},\n",
       "  {'ccp_alpha': 0, 'n_estimators': 10000},\n",
       "  {'ccp_alpha': 0.01, 'n_estimators': 100},\n",
       "  {'ccp_alpha': 0.01, 'n_estimators': 1000},\n",
       "  {'ccp_alpha': 0.01, 'n_estimators': 10000},\n",
       "  {'ccp_alpha': 0.1, 'n_estimators': 100},\n",
       "  {'ccp_alpha': 0.1, 'n_estimators': 1000},\n",
       "  {'ccp_alpha': 0.1, 'n_estimators': 10000}],\n",
       " 'split0_test_score': array([0.74904852, 0.74971507, 0.75890776, 0.56473139, 0.55270533,\n",
       "        0.54647424, 0.16666667, 0.16666667, 0.16666667]),\n",
       " 'split1_test_score': array([0.70506084, 0.71954709, 0.71698891, 0.58460151, 0.57975608,\n",
       "        0.57536775, 0.16666667, 0.16666667, 0.16666667]),\n",
       " 'split2_test_score': array([0.74599471, 0.73766806, 0.73766806, 0.59348342, 0.59467189,\n",
       "        0.59691504, 0.16666667, 0.16666667, 0.16666667]),\n",
       " 'split3_test_score': array([0.88941236, 0.92850106, 0.93443964, 0.55986556, 0.56612447,\n",
       "        0.55986556, 0.16666667, 0.16666667, 0.16666667]),\n",
       " 'mean_test_score': array([0.77237911, 0.78385782, 0.78700109, 0.57567047, 0.57331444,\n",
       "        0.56965565, 0.16666667, 0.16666667, 0.16666667]),\n",
       " 'std_test_score': array([0.06976565, 0.08419733, 0.0864043 , 0.01384308, 0.01560502,\n",
       "        0.01876783, 0.        , 0.        , 0.        ]),\n",
       " 'rank_test_score': array([3, 2, 1, 4, 5, 6, 7, 7, 7])}"
      ]
     },
     "execution_count": 39,
     "metadata": {},
     "output_type": "execute_result"
    }
   ],
   "source": [
    "clf.cv_results_"
   ]
  },
  {
   "cell_type": "code",
   "execution_count": 19,
   "metadata": {
    "ExecuteTime": {
     "end_time": "2020-06-05T22:30:34.608617Z",
     "start_time": "2020-06-05T22:30:34.604573Z"
    }
   },
   "outputs": [
    {
     "data": {
      "text/plain": [
       "RandomForestClassifier(bootstrap=True, ccp_alpha=0, class_weight=None,\n",
       "                       criterion='gini', max_depth=None, max_features='auto',\n",
       "                       max_leaf_nodes=None, max_samples=None,\n",
       "                       min_impurity_decrease=0.0, min_impurity_split=None,\n",
       "                       min_samples_leaf=1, min_samples_split=2,\n",
       "                       min_weight_fraction_leaf=0.0, n_estimators=10000,\n",
       "                       n_jobs=None, oob_score=False, random_state=None,\n",
       "                       verbose=0, warm_start=False)"
      ]
     },
     "execution_count": 19,
     "metadata": {},
     "output_type": "execute_result"
    }
   ],
   "source": [
    "clf.best_estimator_"
   ]
  },
  {
   "cell_type": "code",
   "execution_count": 20,
   "metadata": {
    "ExecuteTime": {
     "end_time": "2020-06-05T22:30:50.369811Z",
     "start_time": "2020-06-05T22:30:50.365781Z"
    }
   },
   "outputs": [],
   "source": [
    "best_alpha = 0\n",
    "best_n_estimators = 1000"
   ]
  },
  {
   "cell_type": "code",
   "execution_count": 21,
   "metadata": {
    "ExecuteTime": {
     "end_time": "2020-06-05T22:30:51.145003Z",
     "start_time": "2020-06-05T22:30:51.139957Z"
    }
   },
   "outputs": [],
   "source": [
    "best_params = clf.best_estimator_.get_params()\n",
    "best_alpha = best_params['ccp_alpha']\n",
    "best_n_estimators = best_params['n_estimators']"
   ]
  },
  {
   "cell_type": "code",
   "execution_count": 22,
   "metadata": {
    "ExecuteTime": {
     "end_time": "2020-06-05T22:30:51.701657Z",
     "start_time": "2020-06-05T22:30:51.695624Z"
    }
   },
   "outputs": [
    {
     "name": "stdout",
     "output_type": "stream",
     "text": [
      "We found that alpha = 0 and n estimators = 10000 are the best parameter according to CV.\n"
     ]
    }
   ],
   "source": [
    "print(f\"We found that alpha = {best_alpha} and n estimators = {best_n_estimators} are \" \\\n",
    "      \"the best parameter according to CV.\")"
   ]
  },
  {
   "cell_type": "markdown",
   "metadata": {},
   "source": [
    "## Training"
   ]
  },
  {
   "cell_type": "code",
   "execution_count": 23,
   "metadata": {
    "ExecuteTime": {
     "end_time": "2020-06-05T22:37:21.140746Z",
     "start_time": "2020-06-05T22:30:53.289668Z"
    }
   },
   "outputs": [
    {
     "data": {
      "text/plain": [
       "RandomForestClassifier(bootstrap=True, ccp_alpha=0, class_weight=None,\n",
       "                       criterion='gini', max_depth=None, max_features='auto',\n",
       "                       max_leaf_nodes=None, max_samples=None,\n",
       "                       min_impurity_decrease=0.0, min_impurity_split=None,\n",
       "                       min_samples_leaf=1, min_samples_split=2,\n",
       "                       min_weight_fraction_leaf=0.0, n_estimators=10000,\n",
       "                       n_jobs=None, oob_score=False, random_state=None,\n",
       "                       verbose=0, warm_start=False)"
      ]
     },
     "execution_count": 23,
     "metadata": {},
     "output_type": "execute_result"
    }
   ],
   "source": [
    "try:\n",
    "    clf = RandomForestClassifier(ccp_alpha=best_alpha, n_estimators=best_n_estimators)\n",
    "except TypeError:\n",
    "    # Using v0.20\n",
    "    clf = RandomForestClassifier(n_estimators=best_n_estimators)\n",
    "clf.fit(X_train, y_train)"
   ]
  },
  {
   "cell_type": "markdown",
   "metadata": {},
   "source": [
    "## Explore Model"
   ]
  },
  {
   "cell_type": "markdown",
   "metadata": {},
   "source": [
    "### Feature importance"
   ]
  },
  {
   "cell_type": "code",
   "execution_count": 24,
   "metadata": {
    "ExecuteTime": {
     "end_time": "2020-06-05T22:41:53.699172Z",
     "start_time": "2020-06-05T22:41:52.096576Z"
    }
   },
   "outputs": [
    {
     "data": {
      "text/plain": [
       "5000"
      ]
     },
     "execution_count": 24,
     "metadata": {},
     "output_type": "execute_result"
    }
   ],
   "source": [
    "len(clf.feature_importances_)"
   ]
  },
  {
   "cell_type": "code",
   "execution_count": 25,
   "metadata": {
    "ExecuteTime": {
     "end_time": "2020-06-05T22:41:55.655141Z",
     "start_time": "2020-06-05T22:41:54.452295Z"
    }
   },
   "outputs": [
    {
     "name": "stdout",
     "output_type": "stream",
     "text": [
      "The 20 most useful CpG site are:\n",
      "['cg25464840', 'cg19615059', 'cg24276491', 'cg05194726', 'cg00974864', 'cg09305224', 'cg07446572', 'cg04123409', 'cg02844545', 'cg17589341', 'cg06617418', 'cg25989745', 'cg12380764', 'cg13281868', 'cg07123548', 'cg05976074', 'cg06263943', 'cg09252204', 'cg26066361', 'cg04488758']\n"
     ]
    }
   ],
   "source": [
    "most_useful_sites = sorted(zip(range(0, len(cpg_sites)), cpg_sites, clf.feature_importances_), key=lambda x: x[2], reverse=1)[:20]\n",
    "print(\"The 20 most useful CpG site are:\")\n",
    "print([elt[1] for elt in most_useful_sites])"
   ]
  },
  {
   "cell_type": "markdown",
   "metadata": {},
   "source": [
    "## Testing"
   ]
  },
  {
   "cell_type": "code",
   "execution_count": 26,
   "metadata": {
    "ExecuteTime": {
     "end_time": "2020-06-05T22:42:01.201300Z",
     "start_time": "2020-06-05T22:41:59.296253Z"
    }
   },
   "outputs": [],
   "source": [
    "predictions = clf.predict_proba(X_test)[:, 1]"
   ]
  },
  {
   "cell_type": "markdown",
   "metadata": {},
   "source": [
    "# Evaluate Model"
   ]
  },
  {
   "cell_type": "markdown",
   "metadata": {},
   "source": [
    "## Metrics"
   ]
  },
  {
   "cell_type": "markdown",
   "metadata": {},
   "source": [
    "Let's compute the raw accuracy score as a rough proxy for model performance. In a multi-class classification problem, the accuracy is defined as the number of observation classified in the correct class divided by the total number of observations."
   ]
  },
  {
   "cell_type": "markdown",
   "metadata": {},
   "source": [
    "First, on the training set"
   ]
  },
  {
   "cell_type": "code",
   "execution_count": 27,
   "metadata": {
    "ExecuteTime": {
     "end_time": "2020-06-05T22:42:06.791037Z",
     "start_time": "2020-06-05T22:42:02.665458Z"
    }
   },
   "outputs": [
    {
     "name": "stdout",
     "output_type": "stream",
     "text": [
      "The train accuracy is 1.000\n"
     ]
    }
   ],
   "source": [
    "# Training\n",
    "training_predicted_labels = clf.predict(X_train)\n",
    "acc_training = accuracy_score(training_predicted_labels, y_train)\n",
    "print(f\"The train accuracy is {acc_training:.3f}\")"
   ]
  },
  {
   "cell_type": "markdown",
   "metadata": {},
   "source": [
    "Then, on the test set"
   ]
  },
  {
   "cell_type": "code",
   "execution_count": 28,
   "metadata": {
    "ExecuteTime": {
     "end_time": "2020-06-05T22:42:10.703537Z",
     "start_time": "2020-06-05T22:42:09.239014Z"
    }
   },
   "outputs": [
    {
     "name": "stdout",
     "output_type": "stream",
     "text": [
      "The test accuracy is 0.58\n"
     ]
    }
   ],
   "source": [
    "# Testing\n",
    "testing_predicted_labels = clf.predict(X_test)\n",
    "acc_testing = accuracy_score(testing_predicted_labels, y_test)\n",
    "print(f\"The test accuracy is {acc_testing:.2f}\")"
   ]
  },
  {
   "cell_type": "markdown",
   "metadata": {},
   "source": [
    "## Confusion Matrix"
   ]
  },
  {
   "cell_type": "markdown",
   "metadata": {},
   "source": [
    "**All the metrics below are influenced by the chosen threshold**"
   ]
  },
  {
   "cell_type": "code",
   "execution_count": 29,
   "metadata": {
    "ExecuteTime": {
     "end_time": "2020-06-05T22:42:12.656264Z",
     "start_time": "2020-06-05T22:42:12.652265Z"
    }
   },
   "outputs": [],
   "source": [
    "threshold = 0.5"
   ]
  },
  {
   "cell_type": "code",
   "execution_count": 30,
   "metadata": {
    "ExecuteTime": {
     "end_time": "2020-06-05T22:42:17.640163Z",
     "start_time": "2020-06-05T22:42:13.279016Z"
    }
   },
   "outputs": [
    {
     "data": {
      "image/png": "[encoded data removed]",
      "text/plain": [
       "<Figure size 720x720 with 2 Axes>"
      ]
     },
     "metadata": {
      "needs_background": "light"
     },
     "output_type": "display_data"
    }
   ],
   "source": [
    "f, ax = plt.subplots(1, 1, figsize=(10, 10))\n",
    "f.suptitle(\"Confusion matrix on the *training* set\")\n",
    "plot_confusion_matrix(clf, X_train, y_train, ax=ax, values_format='.2f', normalize='true');"
   ]
  },
  {
   "cell_type": "code",
   "execution_count": 31,
   "metadata": {
    "ExecuteTime": {
     "end_time": "2020-06-05T22:42:23.797353Z",
     "start_time": "2020-06-05T22:42:19.804312Z"
    }
   },
   "outputs": [
    {
     "name": "stdout",
     "output_type": "stream",
     "text": [
      "              precision    recall  f1-score   support\n",
      "\n",
      "         1.0       1.00      1.00      1.00       226\n",
      "         2.0       1.00      1.00      1.00       452\n",
      "         3.0       1.00      1.00      1.00       226\n",
      "         4.0       1.00      1.00      1.00       226\n",
      "         5.0       1.00      1.00      1.00       226\n",
      "\n",
      "    accuracy                           1.00      1356\n",
      "   macro avg       1.00      1.00      1.00      1356\n",
      "weighted avg       1.00      1.00      1.00      1356\n",
      "\n"
     ]
    }
   ],
   "source": [
    "m = classification_report(y_train, clf.predict(X_train))\n",
    "print(m)"
   ]
  },
  {
   "cell_type": "code",
   "execution_count": 32,
   "metadata": {
    "ExecuteTime": {
     "end_time": "2020-06-05T22:42:25.529972Z",
     "start_time": "2020-06-05T22:42:23.799340Z"
    }
   },
   "outputs": [
    {
     "data": {
      "image/png": "[encoded data removed]",
      "text/plain": [
       "<Figure size 720x720 with 2 Axes>"
      ]
     },
     "metadata": {
      "needs_background": "light"
     },
     "output_type": "display_data"
    }
   ],
   "source": [
    "f, ax = plt.subplots(1, 1, figsize=(10, 10))\n",
    "f.suptitle(\"Confusion matrix on the test set\")\n",
    "plot_confusion_matrix(clf, X_test, y_test, ax=ax, values_format='.2f', normalize='true');"
   ]
  },
  {
   "cell_type": "code",
   "execution_count": 36,
   "metadata": {
    "ExecuteTime": {
     "end_time": "2020-05-26T14:45:46.751561Z",
     "start_time": "2020-05-26T14:45:46.546586Z"
    }
   },
   "outputs": [
    {
     "name": "stdout",
     "output_type": "stream",
     "text": [
      "              precision    recall  f1-score   support\n",
      "\n",
      "         1.0       0.58      0.62      0.60       134\n",
      "         2.0       0.46      0.56      0.51       153\n",
      "         3.0       0.35      0.39      0.37        97\n",
      "         4.0       0.55      0.16      0.24        76\n",
      "\n",
      "    accuracy                           0.48       460\n",
      "   macro avg       0.48      0.43      0.43       460\n",
      "weighted avg       0.49      0.48      0.46       460\n",
      "\n"
     ]
    }
   ],
   "source": [
    "m = classification_report(y_test, clf.predict(X_test))\n",
    "print(m)"
   ]
  },
  {
   "cell_type": "markdown",
   "metadata": {},
   "source": [
    "## F1 Score"
   ]
  },
  {
   "cell_type": "markdown",
   "metadata": {},
   "source": [
    "In a multi-class problem, let's use the weighted f1 score. The weighted f1 score is the average of the 5 f1 score (one per class) weighted by the number of observation by class."
   ]
  },
  {
   "cell_type": "code",
   "execution_count": 37,
   "metadata": {
    "ExecuteTime": {
     "end_time": "2020-05-26T14:45:48.446720Z",
     "start_time": "2020-05-26T14:45:48.058730Z"
    }
   },
   "outputs": [
    {
     "name": "stdout",
     "output_type": "stream",
     "text": [
      "The F1 scode on the training set is 1.000\n"
     ]
    }
   ],
   "source": [
    "print(f\"The F1 scode on the training set is {f1_score(y_train, clf.predict(X_train), average='weighted'):.3f}\")"
   ]
  },
  {
   "cell_type": "code",
   "execution_count": 38,
   "metadata": {
    "ExecuteTime": {
     "end_time": "2020-05-26T14:45:49.608040Z",
     "start_time": "2020-05-26T14:45:49.409818Z"
    }
   },
   "outputs": [],
   "source": [
    "score = f1_score(y_test, clf.predict(X_test), average='weighted')"
   ]
  },
  {
   "cell_type": "code",
   "execution_count": 39,
   "metadata": {
    "ExecuteTime": {
     "end_time": "2020-05-26T14:45:49.931677Z",
     "start_time": "2020-05-26T14:45:49.928692Z"
    }
   },
   "outputs": [
    {
     "name": "stdout",
     "output_type": "stream",
     "text": [
      "The F1 score on the test set is 0.461\n"
     ]
    }
   ],
   "source": [
    "print(f\"The F1 score on the test set is {score:.3f}\")"
   ]
  },
  {
   "cell_type": "markdown",
   "metadata": {},
   "source": [
    "# Export Model"
   ]
  },
  {
   "cell_type": "markdown",
   "metadata": {},
   "source": [
    "Finally, we'll export this model (while still excluding the test set to be able to simulate test with the exported model) into a pickle format that is compatible with GCP AI Platform"
   ]
  },
  {
   "cell_type": "code",
   "execution_count": 14,
   "metadata": {
    "ExecuteTime": {
     "end_time": "2020-05-18T22:39:11.227055Z",
     "start_time": "2020-05-18T22:39:10.941497Z"
    }
   },
   "outputs": [],
   "source": [
    "with open('model.pkl', 'wb') as model_file:\n",
    "    pickle.dump(clf, model_file)"
   ]
  },
  {
   "cell_type": "code",
   "execution_count": 45,
   "metadata": {
    "ExecuteTime": {
     "end_time": "2020-05-18T22:50:31.783974Z",
     "start_time": "2020-05-18T22:50:31.778955Z"
    }
   },
   "outputs": [],
   "source": [
    "test_body = {}\n",
    "test_body['instances'] = list([list(elt) for elt in X_test[:5]])"
   ]
  },
  {
   "cell_type": "code",
   "execution_count": 47,
   "metadata": {
    "ExecuteTime": {
     "end_time": "2020-05-18T22:50:36.619400Z",
     "start_time": "2020-05-18T22:50:36.549107Z"
    }
   },
   "outputs": [],
   "source": [
    "with open('test.json', 'w') as f:\n",
    "    json.dump(test_body, f)"
   ]
  },
  {
   "cell_type": "code",
   "execution_count": 48,
   "metadata": {
    "ExecuteTime": {
     "end_time": "2020-05-18T22:50:38.876949Z",
     "start_time": "2020-05-18T22:50:38.815260Z"
    }
   },
   "outputs": [
    {
     "data": {
      "text/plain": [
       "array([2., 1., 2., 2., 3.])"
      ]
     },
     "execution_count": 48,
     "metadata": {},
     "output_type": "execute_result"
    }
   ],
   "source": [
    "clf.predict(X_test[:5])"
   ]
  },
  {
   "cell_type": "markdown",
   "metadata": {
    "ExecuteTime": {
     "end_time": "2020-06-05T19:05:57.959782Z",
     "start_time": "2020-06-05T19:05:57.954291Z"
    }
   },
   "source": [
    "# Old"
   ]
  },
  {
   "cell_type": "code",
   "execution_count": 54,
   "metadata": {
    "ExecuteTime": {
     "end_time": "2020-05-26T14:57:10.147438Z",
     "start_time": "2020-05-26T14:57:10.141407Z"
    }
   },
   "outputs": [],
   "source": [
    "labels_N = all_labels[:, 2]\n",
    "map_clinical_stage_t = {\n",
    "    \"T1c\": 1, \n",
    "    \"T2c\": 2,\n",
    "    \"T2b\": 2,\n",
    "    \"T1\": 1,\n",
    "    \"T2\": 2,\n",
    "    \"T2a\": 2,\n",
    "    \"T1a\": 1,\n",
    "    \"T3\": 3,\n",
    "    \"T4a\": 4,\n",
    "    \"T4\": 4,\n",
    "    \"T3b\": 3,\n",
    "    \"T3a\": 3,\n",
    "    \"T1b\": 1,\n",
    "    \"TX\": np.nan,\n",
    "    \"T4e\": 4,\n",
    "    \"T4d\": 4,\n",
    "    \"T4b\": 4,\n",
    "    \"T4c\": 4,\n",
    "    np.nan: np.nan\n",
    "}\n",
    "map_clinical_stage_n = {\n",
    "    \"N0\": 0,\n",
    "    \"N1\": 1,\n",
    "    \"NX\": np.nan,\n",
    "    \"N2c\": 2,\n",
    "    \"N2a\": 2,\n",
    "    \"N2b\": 2,\n",
    "    \"N3\": 3,\n",
    "    \"N2\" : 2,\n",
    "    np.nan: np.nan\n",
    "}"
   ]
  },
  {
   "cell_type": "code",
   "execution_count": 55,
   "metadata": {
    "ExecuteTime": {
     "end_time": "2020-05-26T14:57:10.625781Z",
     "start_time": "2020-05-26T14:57:10.621780Z"
    }
   },
   "outputs": [],
   "source": [
    "labels_N = np.array([map_clinical_stage_n[elt] for elt in labels_N])"
   ]
  },
  {
   "cell_type": "code",
   "execution_count": 56,
   "metadata": {
    "ExecuteTime": {
     "end_time": "2020-05-26T14:57:14.344838Z",
     "start_time": "2020-05-26T14:57:14.341875Z"
    }
   },
   "outputs": [
    {
     "data": {
      "text/plain": [
       "(9378,)"
      ]
     },
     "execution_count": 56,
     "metadata": {},
     "output_type": "execute_result"
    }
   ],
   "source": [
    "labels_N.shape"
   ]
  }
 ],
 "metadata": {
  "kernelspec": {
   "display_name": "Python [conda env:py37]",
   "language": "python",
   "name": "conda-env-py37-py"
  },
  "language_info": {
   "codemirror_mode": {
    "name": "ipython",
    "version": 3
   },
   "file_extension": ".py",
   "mimetype": "text/x-python",
   "name": "python",
   "nbconvert_exporter": "python",
   "pygments_lexer": "ipython3",
   "version": "3.7.7"
  },
  "toc": {
   "base_numbering": 1,
   "nav_menu": {},
   "number_sections": true,
   "sideBar": true,
   "skip_h1_title": false,
   "title_cell": "Table of Contents",
   "title_sidebar": "Contents",
   "toc_cell": false,
   "toc_position": {
    "height": "calc(100% - 180px)",
    "left": "10px",
    "top": "150px",
    "width": "240.594px"
   },
   "toc_section_display": true,
   "toc_window_display": true
  }
 },
 "nbformat": 4,
 "nbformat_minor": 4
}
