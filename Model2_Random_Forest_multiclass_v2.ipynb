{
 "cells": [
  {
   "cell_type": "code",
   "execution_count": 1,
   "metadata": {
    "ExecuteTime": {
     "end_time": "2020-06-23T22:05:48.794753Z",
     "start_time": "2020-06-23T22:05:42.682131Z"
    }
   },
   "outputs": [
    {
     "name": "stderr",
     "output_type": "stream",
     "text": [
      "C:\\Users\\adrien.galamez\\AppData\\Local\\Continuum\\anaconda3\\envs\\py37\\lib\\site-packages\\ipykernel\\parentpoller.py:116: UserWarning: Parent poll failed.  If the frontend dies,\n",
      "                the kernel may be left running.  Please let us know\n",
      "                about your system (bitness, Python, etc.) at\n",
      "                ipython-dev@scipy.org\n",
      "  ipython-dev@scipy.org\"\"\")\n"
     ]
    }
   ],
   "source": [
    "import pandas as pd\n",
    "import numpy as np\n",
    "import matplotlib.pyplot as plt\n",
    "import plotly.graph_objects as go\n",
    "import os\n",
    "import pickle\n",
    "import json\n",
    "from joblib import load"
   ]
  },
  {
   "cell_type": "code",
   "execution_count": 2,
   "metadata": {
    "ExecuteTime": {
     "end_time": "2020-06-23T22:05:51.347378Z",
     "start_time": "2020-06-23T22:05:48.798730Z"
    }
   },
   "outputs": [],
   "source": [
    "from sklearn.ensemble import RandomForestClassifier\n",
    "from sklearn.metrics import accuracy_score, roc_curve, auc, \\\n",
    "                           plot_confusion_matrix, classification_report, f1_score, confusion_matrix\n",
    "from sklearn.preprocessing import StandardScaler\n",
    "from sklearn.model_selection import train_test_split, StratifiedKFold, GridSearchCV\n",
    "from imblearn.over_sampling import SMOTE"
   ]
  },
  {
   "cell_type": "code",
   "execution_count": 3,
   "metadata": {
    "ExecuteTime": {
     "end_time": "2020-06-23T22:05:52.494296Z",
     "start_time": "2020-06-23T22:05:51.348357Z"
    }
   },
   "outputs": [],
   "source": [
    "from data_engineering.get_data import read_dataset, read_from_gcs\n",
    "from data_engineering.preprocessing import preprocessing"
   ]
  },
  {
   "cell_type": "markdown",
   "metadata": {},
   "source": [
    "# Configure GCS"
   ]
  },
  {
   "cell_type": "code",
   "execution_count": 64,
   "metadata": {
    "ExecuteTime": {
     "end_time": "2020-06-23T22:45:46.660375Z",
     "start_time": "2020-06-23T22:45:46.656374Z"
    }
   },
   "outputs": [],
   "source": [
    "file_path = \"gs://build_hackathon_dnanyc/training_data/tcga-brca-data-pathologic_M.csv\"\n",
    "label_name = 'pathologic_M'"
   ]
  },
  {
   "cell_type": "code",
   "execution_count": 65,
   "metadata": {
    "ExecuteTime": {
     "end_time": "2020-06-23T22:45:55.259127Z",
     "start_time": "2020-06-23T22:45:47.217859Z"
    }
   },
   "outputs": [],
   "source": [
    "betas, labels, cpg_sites, index = read_from_gcs(file_path, label_name)"
   ]
  },
  {
   "cell_type": "markdown",
   "metadata": {},
   "source": [
    "# Pre-processing"
   ]
  },
  {
   "cell_type": "markdown",
   "metadata": {},
   "source": [
    "## Label formatting"
   ]
  },
  {
   "cell_type": "markdown",
   "metadata": {},
   "source": [
    "First, extract the label where are interested in. The labels are saved in this order:\n",
    " - 0 -> project_short_name\n",
    " - 1 -> clinical_stage\n",
    " - 2 -> clinical_T\n",
    " - 3 -> clinical_N\n",
    " - 4 -> clinical_M\n",
    " - 5 -> pathologic_stage\n",
    " - 6 -> pathologic_T\n",
    " - 7 -> pathologic_N\n",
    " - 8 -> pathologic_M"
   ]
  },
  {
   "cell_type": "code",
   "execution_count": 70,
   "metadata": {
    "ExecuteTime": {
     "end_time": "2020-06-23T22:46:12.097441Z",
     "start_time": "2020-06-23T22:46:12.092409Z"
    }
   },
   "outputs": [],
   "source": [
    "# sub_labels = all_labels[:, 5]\n",
    "sub_labels = labels"
   ]
  },
  {
   "cell_type": "code",
   "execution_count": 71,
   "metadata": {
    "ExecuteTime": {
     "end_time": "2020-06-23T22:46:12.300355Z",
     "start_time": "2020-06-23T22:46:12.296351Z"
    }
   },
   "outputs": [
    {
     "data": {
      "text/plain": [
       "array(['TCGA-3C-AAAU-01A', 'TCGA-3C-AALI-01A', 'TCGA-3C-AALJ-01A', ...,\n",
       "       'TCGA-XX-A89A-01A', 'TCGA-Z7-A8R5-01A', 'TCGA-Z7-A8R6-01A'],\n",
       "      dtype=object)"
      ]
     },
     "execution_count": 71,
     "metadata": {},
     "output_type": "execute_result"
    }
   ],
   "source": [
    "index"
   ]
  },
  {
   "cell_type": "markdown",
   "metadata": {},
   "source": [
    "Then, using sample_id, extract whether or not the sample was cancerous. Sample id is following this format:\n",
    "    -TCGA-AA-BBBB-CCD\n",
    "with CC being imformation about the sample.\n",
    "If CC is in (01, 09), then the sample is cancerous. If CC is in (10, 19), the sample was taken from normal tissue."
   ]
  },
  {
   "cell_type": "code",
   "execution_count": 72,
   "metadata": {
    "ExecuteTime": {
     "end_time": "2020-06-23T22:46:12.635955Z",
     "start_time": "2020-06-23T22:46:12.630918Z"
    }
   },
   "outputs": [],
   "source": [
    "l = []\n",
    "for (elt, barcode) in zip(sub_labels, index):\n",
    "    sample_code = int(barcode.split('-')[-1][:2])\n",
    "    if sample_code <= 9:\n",
    "        l.append(elt)\n",
    "    else:\n",
    "        l.append(0)"
   ]
  },
  {
   "cell_type": "markdown",
   "metadata": {},
   "source": [
    "Then, we will format the remaining stage labels"
   ]
  },
  {
   "cell_type": "code",
   "execution_count": 73,
   "metadata": {
    "ExecuteTime": {
     "end_time": "2020-06-23T22:46:20.885504Z",
     "start_time": "2020-06-23T22:46:20.880502Z"
    }
   },
   "outputs": [],
   "source": [
    "# map_sub_labels_to_classes = {\n",
    "#  'Stage I': 1,\n",
    "#  'Stage IA': 1,\n",
    "#  'Stage IB': 1,\n",
    "#  'Stage II': 2,\n",
    "#  'Stage IIA': 2,\n",
    "#  'Stage IIB': 2,\n",
    "#  'Stage III': 3,\n",
    "#  'Stage IIIA': 3,\n",
    "#  'Stage IIIB': 3,\n",
    "#  'Stage IIIC': 3,\n",
    "#  'Stage IV': 4,\n",
    "#  'Stage X': 5,\n",
    "#   np.nan: np.nan,\n",
    "#   0: 0\n",
    "# }\n",
    "\n",
    "# map_sub_labels_to_classes = {\n",
    "#  'T1b': 1,\n",
    "#  'TX': np.nan,\n",
    "#  'T2': 2,\n",
    "#  'T2b': 2,\n",
    "#  'T4': 4,\n",
    "#  'T4b':4 ,\n",
    "#  'T1c': 1,\n",
    "#  'T1': 1,\n",
    "#  'T4d': 4,\n",
    "#  'T2a': 2,\n",
    "#  'T3a': 3,\n",
    "#  'T3': 3,\n",
    "#  'T1a': 1,\n",
    "#   0: 0\n",
    "# }\n",
    "\n",
    "# map_sub_labels_to_classes = {\n",
    "#  'N3c': 3,\n",
    "#  'N1c': 1,\n",
    "#  'N3': 3,\n",
    "#  'N2a': 2,\n",
    "#  'N3b': 3,\n",
    "#  'N3a': 3,\n",
    "#  'N0': 0,\n",
    "#  'NX': np.nan,\n",
    "#  'N1': 1,\n",
    "#  'N0 (i-)': 0,\n",
    "#  'N2': 2,\n",
    "#  'N0 (mol+)': 0,\n",
    "#  'N1b': 1,\n",
    "#  'N1mi': 1,\n",
    "#  'N0 (i+)': 0,\n",
    "#  'N1a': 1,\n",
    "#   0: 0\n",
    "# }\n",
    "\n",
    "map_sub_labels_to_classes = {\n",
    "    'MX': np.nan,\n",
    "    'cM0 (i+)': 0,\n",
    "    'M0': 0,\n",
    "    'M1': 1,\n",
    "    0: 0\n",
    "}"
   ]
  },
  {
   "cell_type": "code",
   "execution_count": 74,
   "metadata": {
    "ExecuteTime": {
     "end_time": "2020-06-23T22:46:21.253338Z",
     "start_time": "2020-06-23T22:46:21.250345Z"
    }
   },
   "outputs": [],
   "source": [
    "sub_labels = [map_sub_labels_to_classes[elt] for elt in l]"
   ]
  },
  {
   "cell_type": "markdown",
   "metadata": {},
   "source": [
    "## Re-balance dataset"
   ]
  },
  {
   "cell_type": "code",
   "execution_count": 75,
   "metadata": {
    "ExecuteTime": {
     "end_time": "2020-06-23T22:46:22.063758Z",
     "start_time": "2020-06-23T22:46:22.058723Z"
    }
   },
   "outputs": [],
   "source": [
    "u, c = np.unique(sub_labels, return_counts = True)\n",
    "nb_value_majority_class = max(c)"
   ]
  },
  {
   "cell_type": "code",
   "execution_count": 76,
   "metadata": {
    "ExecuteTime": {
     "end_time": "2020-06-23T22:46:25.311084Z",
     "start_time": "2020-06-23T22:46:22.409946Z"
    }
   },
   "outputs": [
    {
     "name": "stdout",
     "output_type": "stream",
     "text": [
      "=== Drop Columns and Rows ===\n",
      "Dropping 169 because of missing labels\n",
      "New Shape = (1065, 5000)\n",
      "Dropping columns which have more than 10% of values missing\n",
      "0 columns will be dropped.\n",
      "betas: New shape is (1065, 5000)\n",
      "cpg_sites: New shape is (5000,)\n",
      "\n",
      "Dropping rows which have more than 10% of values missing\n",
      "We will drop 1 rows\n",
      "betas: New shape is (1064, 5000)\n",
      "labels: New shape is (1064,)\n",
      "\n",
      "=== Fill remaining NAs ===\n",
      "Filling remaining NA values using a KNNImputer\n",
      "1449 NA were filled, i.e. approximately 1.36 per rows\n",
      "\n",
      "=== Train / Test Split ===\n",
      "Splitting dataset into train and test\n",
      "Train = 70 %\n",
      "Test = 30 %\n",
      "\n",
      "=== Standardize dataset ===\n",
      "The average of column mean on train is 0.00\n",
      "The average of column mean on test is -0.03\n",
      "\n",
      "=== Balance dataset ===\n",
      "[(0.0, 730), (1.0, 14)]\n",
      "The resampling_strategy gives the following repartition {0.0: 730, 1.0: 219}\n",
      "205 rows were added in the training data\n"
     ]
    }
   ],
   "source": [
    "X_train, X_test, y_train, y_test, labels, cpg_sites = preprocessing(betas, sub_labels, cpg_sites, smote=True,\n",
    "                                                                   fill_na_strategy='knn',\n",
    "                                                                    sampling_strategy=0.3)"
   ]
  },
  {
   "cell_type": "code",
   "execution_count": 27,
   "metadata": {
    "ExecuteTime": {
     "end_time": "2020-06-23T22:19:50.933059Z",
     "start_time": "2020-06-23T22:19:50.792050Z"
    }
   },
   "outputs": [
    {
     "data": {
      "application/vnd.plotly.v1+json": {
       "config": {
        "plotlyServerURL": "https://plot.ly"
       },
       "data": [
        {
         "type": "histogram",
         "x": [
          2,
          2,
          2,
          3,
          2,
          3,
          0,
          3,
          3,
          2,
          2,
          2,
          3,
          2,
          1,
          2,
          2,
          0,
          2,
          3,
          2,
          2,
          2,
          2,
          2,
          0,
          2,
          3,
          3,
          2,
          3,
          0,
          1,
          2,
          2,
          3,
          2,
          3,
          3,
          2,
          2,
          1,
          2,
          0,
          2,
          0,
          2,
          2,
          1,
          3,
          2,
          0,
          2,
          1,
          2,
          2,
          1,
          2,
          2,
          2,
          1,
          0,
          2,
          2,
          2,
          2,
          2,
          3,
          2,
          2,
          2,
          2,
          2,
          1,
          3,
          2,
          2,
          2,
          2,
          2,
          2,
          0,
          2,
          1,
          1,
          1,
          2,
          1,
          3,
          2,
          2,
          2,
          3,
          2,
          1,
          2,
          1,
          1,
          2,
          0,
          2,
          2,
          1,
          2,
          2,
          3,
          1,
          2,
          2,
          2,
          0,
          3,
          1,
          2,
          2,
          3,
          1,
          1,
          2,
          1,
          1,
          2,
          2,
          0,
          2,
          2,
          2,
          2,
          2,
          3,
          2,
          2,
          2,
          0,
          3,
          3,
          2,
          2,
          1,
          2,
          2,
          2,
          2,
          0,
          3,
          2,
          0,
          2,
          2,
          4,
          2,
          1,
          2,
          3,
          5,
          3,
          2,
          2,
          3,
          2,
          0,
          3,
          1,
          3,
          2,
          1,
          2,
          3,
          2,
          1,
          2,
          2,
          0,
          2,
          1,
          0,
          2,
          2,
          0,
          3,
          2,
          3,
          2,
          0,
          2,
          3,
          2,
          2,
          0,
          1,
          2,
          1,
          3,
          2,
          1,
          3,
          2,
          2,
          3,
          2,
          3,
          2,
          2,
          2,
          2,
          1,
          1,
          4,
          0,
          1,
          2,
          2,
          2,
          0,
          1,
          2,
          3,
          0,
          0,
          3,
          2,
          3,
          2,
          2,
          2,
          2,
          3,
          2,
          1,
          2,
          2,
          2,
          2,
          2,
          2,
          1,
          2,
          2,
          0,
          2,
          3,
          2,
          2,
          3,
          3,
          2,
          1,
          2,
          2,
          2,
          0,
          1,
          1,
          0,
          3,
          2,
          2,
          3,
          2,
          2,
          2,
          2,
          2,
          1,
          2,
          2,
          3,
          2,
          2,
          3,
          2,
          3,
          2,
          2,
          2,
          2,
          3,
          3,
          1,
          0,
          1,
          2,
          2,
          3,
          2,
          2,
          2,
          3,
          3,
          1,
          3,
          0,
          2,
          1,
          2,
          2,
          2,
          2,
          0,
          2,
          2,
          2,
          0,
          1,
          3,
          2,
          2,
          3,
          3,
          2,
          4,
          0,
          3,
          2,
          0,
          1,
          2,
          2,
          2,
          1,
          3,
          0,
          2,
          3,
          1,
          2,
          1,
          2,
          3,
          2,
          2,
          2,
          0,
          2,
          2,
          3,
          1,
          2,
          2,
          2,
          2,
          3,
          3,
          2,
          2,
          2,
          1,
          2,
          2,
          0,
          2,
          2,
          2,
          1,
          2,
          1,
          1,
          2,
          3,
          3,
          0,
          2,
          0,
          2,
          2,
          2,
          2,
          1,
          2,
          5,
          3,
          2,
          2,
          2,
          1,
          2,
          2,
          2,
          2,
          2,
          3,
          2,
          1,
          1,
          1,
          2,
          3,
          2,
          4,
          5,
          3,
          2,
          3,
          2,
          2,
          3,
          2,
          1,
          2,
          3,
          2,
          1,
          2,
          2,
          1,
          3,
          2,
          2,
          2,
          3,
          1,
          3,
          2,
          2,
          3,
          0,
          3,
          2,
          0,
          3,
          2,
          3,
          3,
          3,
          2,
          2,
          2,
          0,
          2,
          2,
          2,
          2,
          3,
          2,
          1,
          3,
          2,
          2,
          3,
          2,
          2,
          4,
          2,
          4,
          3,
          1,
          3,
          4,
          2,
          2,
          2,
          0,
          1,
          2,
          2,
          0,
          1,
          1,
          2,
          2,
          2,
          2,
          3,
          0,
          2,
          2,
          2,
          2,
          1,
          2,
          2,
          1,
          1,
          2,
          2,
          2,
          2,
          0,
          0,
          2,
          2,
          2,
          0,
          3,
          2,
          1,
          2,
          2,
          2,
          2,
          3,
          2,
          2,
          2,
          1,
          2,
          2,
          2,
          2,
          2,
          2,
          2,
          2,
          2,
          1,
          2,
          3,
          3,
          2,
          2,
          0,
          2,
          3,
          2,
          1,
          1,
          1,
          3,
          3,
          0,
          4,
          2,
          2,
          2,
          2,
          2,
          2,
          0,
          3,
          1,
          2,
          2,
          2,
          0,
          2,
          2,
          2,
          2,
          2,
          3,
          0,
          4,
          2,
          2,
          3,
          2,
          2,
          3,
          1,
          2,
          1,
          3,
          1,
          3,
          3,
          4,
          1,
          2,
          3,
          3,
          2,
          1,
          3,
          1,
          1,
          2,
          3,
          1,
          1,
          1,
          2,
          2,
          2,
          3,
          0,
          1,
          3,
          1,
          2,
          2,
          2,
          0,
          2,
          1,
          0,
          3,
          2,
          2,
          3,
          2,
          2,
          2,
          2,
          3,
          1,
          3,
          1,
          1,
          3,
          2,
          2,
          2,
          2,
          3,
          2,
          2,
          3,
          2,
          3,
          2,
          2,
          2,
          0,
          3,
          3,
          2,
          2,
          2,
          5,
          2,
          3,
          2,
          1,
          2,
          3,
          2,
          3,
          5,
          2,
          1,
          1,
          2,
          3,
          3,
          0,
          1,
          2,
          3,
          2,
          3,
          0,
          1,
          3,
          1,
          2,
          1,
          2,
          3,
          0,
          2,
          0,
          1,
          2,
          0,
          0,
          2,
          5,
          0,
          2,
          2,
          3,
          2,
          2,
          2,
          1,
          2,
          3,
          1,
          2,
          0,
          2,
          2,
          2,
          3,
          2,
          2,
          3,
          2,
          3,
          0,
          3,
          1,
          3,
          1,
          2,
          2,
          2,
          2,
          0,
          3,
          2,
          4,
          3,
          0,
          2,
          0,
          3,
          3,
          2,
          1,
          1,
          2,
          3,
          2,
          2,
          0,
          2,
          0,
          3,
          1,
          0,
          2,
          2,
          3,
          3,
          1,
          1,
          2,
          2,
          2,
          3,
          0,
          2,
          4,
          2,
          0,
          1,
          2,
          0,
          2,
          0,
          2,
          2,
          0,
          2,
          2,
          1,
          1,
          2,
          1,
          3,
          0,
          1,
          2,
          2,
          0,
          2,
          1,
          1,
          2,
          2,
          0,
          2,
          3,
          2,
          2,
          2,
          2,
          3,
          3,
          3,
          2,
          2,
          3,
          3,
          1,
          2,
          1,
          3,
          2,
          2,
          2,
          3,
          2,
          2,
          2,
          3,
          1,
          5,
          3,
          2,
          3,
          1,
          2,
          0,
          2,
          3,
          3,
          2,
          2,
          2,
          0,
          2,
          1,
          2,
          2,
          3,
          2,
          5,
          1,
          2,
          2,
          2,
          3,
          1,
          2,
          2,
          1,
          2,
          3,
          2,
          3,
          2,
          2,
          2,
          3,
          2,
          2,
          2,
          5,
          3,
          2,
          3,
          3,
          1,
          2,
          3,
          3,
          2,
          2,
          2,
          1,
          2,
          5,
          0,
          4,
          3,
          2,
          2,
          2,
          0,
          2,
          2,
          2,
          2,
          1,
          4,
          2,
          3,
          2,
          2,
          3,
          2,
          2,
          2,
          0,
          0,
          0,
          0,
          0,
          0,
          0,
          0,
          0,
          0,
          0,
          0,
          0,
          0,
          0,
          0,
          0,
          0,
          0,
          0,
          0,
          0,
          0,
          0,
          0,
          0,
          0,
          0,
          0,
          0,
          0,
          0,
          0,
          0,
          0,
          0,
          0,
          0,
          0,
          0,
          0,
          0,
          0,
          0,
          0,
          0,
          0,
          0,
          0,
          1,
          1,
          1,
          4,
          4,
          4,
          4,
          4,
          4,
          4,
          4,
          4,
          4,
          4,
          4,
          4,
          4,
          4,
          4,
          4,
          4,
          4,
          4,
          4,
          4,
          4,
          4,
          4,
          4,
          4,
          4,
          4,
          4,
          4,
          4,
          4,
          4,
          4,
          4,
          4,
          4,
          4,
          4,
          4,
          4,
          4,
          4,
          4,
          4,
          4,
          4,
          4,
          4,
          4,
          4,
          4,
          4,
          4,
          4,
          4,
          4,
          4,
          4,
          4,
          4,
          4,
          4,
          4,
          4,
          4,
          4,
          4,
          4,
          4,
          4,
          4,
          4,
          4,
          4,
          4,
          4,
          4,
          4,
          4,
          4,
          4,
          4,
          4,
          4,
          4,
          4,
          4,
          4,
          4,
          4,
          4,
          4,
          4,
          4,
          4,
          4,
          4,
          4,
          4,
          4,
          4,
          4,
          4,
          4,
          4,
          4,
          4,
          4,
          4,
          4,
          4,
          4,
          4,
          4,
          4,
          4,
          4,
          5,
          5,
          5,
          5,
          5,
          5,
          5,
          5,
          5,
          5,
          5,
          5,
          5,
          5,
          5,
          5,
          5,
          5,
          5,
          5,
          5,
          5,
          5,
          5,
          5,
          5,
          5,
          5,
          5,
          5,
          5,
          5,
          5,
          5,
          5,
          5,
          5,
          5,
          5,
          5,
          5,
          5,
          5,
          5,
          5,
          5,
          5,
          5,
          5,
          5,
          5,
          5,
          5,
          5,
          5,
          5,
          5,
          5,
          5,
          5,
          5,
          5,
          5,
          5,
          5,
          5,
          5,
          5,
          5,
          5,
          5,
          5,
          5,
          5,
          5,
          5,
          5,
          5,
          5,
          5,
          5,
          5,
          5,
          5,
          5,
          5,
          5,
          5,
          5,
          5,
          5,
          5,
          5,
          5,
          5,
          5,
          5,
          5,
          5,
          5,
          5,
          5,
          5,
          5,
          5,
          5,
          5,
          5,
          5,
          5,
          5,
          5,
          5,
          5,
          5,
          5,
          5,
          5,
          5,
          5,
          5,
          5,
          5
         ]
        }
       ],
       "layout": {
        "bargroupgap": 0.2,
        "margin": {
         "b": 40,
         "l": 40,
         "pad": 4,
         "r": 40,
         "t": 40
        },
        "template": {
         "data": {
          "bar": [
           {
            "error_x": {
             "color": "#2a3f5f"
            },
            "error_y": {
             "color": "#2a3f5f"
            },
            "marker": {
             "line": {
              "color": "#E5ECF6",
              "width": 0.5
             }
            },
            "type": "bar"
           }
          ],
          "barpolar": [
           {
            "marker": {
             "line": {
              "color": "#E5ECF6",
              "width": 0.5
             }
            },
            "type": "barpolar"
           }
          ],
          "carpet": [
           {
            "aaxis": {
             "endlinecolor": "#2a3f5f",
             "gridcolor": "white",
             "linecolor": "white",
             "minorgridcolor": "white",
             "startlinecolor": "#2a3f5f"
            },
            "baxis": {
             "endlinecolor": "#2a3f5f",
             "gridcolor": "white",
             "linecolor": "white",
             "minorgridcolor": "white",
             "startlinecolor": "#2a3f5f"
            },
            "type": "carpet"
           }
          ],
          "choropleth": [
           {
            "colorbar": {
             "outlinewidth": 0,
             "ticks": ""
            },
            "type": "choropleth"
           }
          ],
          "contour": [
           {
            "colorbar": {
             "outlinewidth": 0,
             "ticks": ""
            },
            "colorscale": [
             [
              0,
              "#0d0887"
             ],
             [
              0.1111111111111111,
              "#46039f"
             ],
             [
              0.2222222222222222,
              "#7201a8"
             ],
             [
              0.3333333333333333,
              "#9c179e"
             ],
             [
              0.4444444444444444,
              "#bd3786"
             ],
             [
              0.5555555555555556,
              "#d8576b"
             ],
             [
              0.6666666666666666,
              "#ed7953"
             ],
             [
              0.7777777777777778,
              "#fb9f3a"
             ],
             [
              0.8888888888888888,
              "#fdca26"
             ],
             [
              1,
              "#f0f921"
             ]
            ],
            "type": "contour"
           }
          ],
          "contourcarpet": [
           {
            "colorbar": {
             "outlinewidth": 0,
             "ticks": ""
            },
            "type": "contourcarpet"
           }
          ],
          "heatmap": [
           {
            "colorbar": {
             "outlinewidth": 0,
             "ticks": ""
            },
            "colorscale": [
             [
              0,
              "#0d0887"
             ],
             [
              0.1111111111111111,
              "#46039f"
             ],
             [
              0.2222222222222222,
              "#7201a8"
             ],
             [
              0.3333333333333333,
              "#9c179e"
             ],
             [
              0.4444444444444444,
              "#bd3786"
             ],
             [
              0.5555555555555556,
              "#d8576b"
             ],
             [
              0.6666666666666666,
              "#ed7953"
             ],
             [
              0.7777777777777778,
              "#fb9f3a"
             ],
             [
              0.8888888888888888,
              "#fdca26"
             ],
             [
              1,
              "#f0f921"
             ]
            ],
            "type": "heatmap"
           }
          ],
          "heatmapgl": [
           {
            "colorbar": {
             "outlinewidth": 0,
             "ticks": ""
            },
            "colorscale": [
             [
              0,
              "#0d0887"
             ],
             [
              0.1111111111111111,
              "#46039f"
             ],
             [
              0.2222222222222222,
              "#7201a8"
             ],
             [
              0.3333333333333333,
              "#9c179e"
             ],
             [
              0.4444444444444444,
              "#bd3786"
             ],
             [
              0.5555555555555556,
              "#d8576b"
             ],
             [
              0.6666666666666666,
              "#ed7953"
             ],
             [
              0.7777777777777778,
              "#fb9f3a"
             ],
             [
              0.8888888888888888,
              "#fdca26"
             ],
             [
              1,
              "#f0f921"
             ]
            ],
            "type": "heatmapgl"
           }
          ],
          "histogram": [
           {
            "marker": {
             "colorbar": {
              "outlinewidth": 0,
              "ticks": ""
             }
            },
            "type": "histogram"
           }
          ],
          "histogram2d": [
           {
            "colorbar": {
             "outlinewidth": 0,
             "ticks": ""
            },
            "colorscale": [
             [
              0,
              "#0d0887"
             ],
             [
              0.1111111111111111,
              "#46039f"
             ],
             [
              0.2222222222222222,
              "#7201a8"
             ],
             [
              0.3333333333333333,
              "#9c179e"
             ],
             [
              0.4444444444444444,
              "#bd3786"
             ],
             [
              0.5555555555555556,
              "#d8576b"
             ],
             [
              0.6666666666666666,
              "#ed7953"
             ],
             [
              0.7777777777777778,
              "#fb9f3a"
             ],
             [
              0.8888888888888888,
              "#fdca26"
             ],
             [
              1,
              "#f0f921"
             ]
            ],
            "type": "histogram2d"
           }
          ],
          "histogram2dcontour": [
           {
            "colorbar": {
             "outlinewidth": 0,
             "ticks": ""
            },
            "colorscale": [
             [
              0,
              "#0d0887"
             ],
             [
              0.1111111111111111,
              "#46039f"
             ],
             [
              0.2222222222222222,
              "#7201a8"
             ],
             [
              0.3333333333333333,
              "#9c179e"
             ],
             [
              0.4444444444444444,
              "#bd3786"
             ],
             [
              0.5555555555555556,
              "#d8576b"
             ],
             [
              0.6666666666666666,
              "#ed7953"
             ],
             [
              0.7777777777777778,
              "#fb9f3a"
             ],
             [
              0.8888888888888888,
              "#fdca26"
             ],
             [
              1,
              "#f0f921"
             ]
            ],
            "type": "histogram2dcontour"
           }
          ],
          "mesh3d": [
           {
            "colorbar": {
             "outlinewidth": 0,
             "ticks": ""
            },
            "type": "mesh3d"
           }
          ],
          "parcoords": [
           {
            "line": {
             "colorbar": {
              "outlinewidth": 0,
              "ticks": ""
             }
            },
            "type": "parcoords"
           }
          ],
          "pie": [
           {
            "automargin": true,
            "type": "pie"
           }
          ],
          "scatter": [
           {
            "marker": {
             "colorbar": {
              "outlinewidth": 0,
              "ticks": ""
             }
            },
            "type": "scatter"
           }
          ],
          "scatter3d": [
           {
            "line": {
             "colorbar": {
              "outlinewidth": 0,
              "ticks": ""
             }
            },
            "marker": {
             "colorbar": {
              "outlinewidth": 0,
              "ticks": ""
             }
            },
            "type": "scatter3d"
           }
          ],
          "scattercarpet": [
           {
            "marker": {
             "colorbar": {
              "outlinewidth": 0,
              "ticks": ""
             }
            },
            "type": "scattercarpet"
           }
          ],
          "scattergeo": [
           {
            "marker": {
             "colorbar": {
              "outlinewidth": 0,
              "ticks": ""
             }
            },
            "type": "scattergeo"
           }
          ],
          "scattergl": [
           {
            "marker": {
             "colorbar": {
              "outlinewidth": 0,
              "ticks": ""
             }
            },
            "type": "scattergl"
           }
          ],
          "scattermapbox": [
           {
            "marker": {
             "colorbar": {
              "outlinewidth": 0,
              "ticks": ""
             }
            },
            "type": "scattermapbox"
           }
          ],
          "scatterpolar": [
           {
            "marker": {
             "colorbar": {
              "outlinewidth": 0,
              "ticks": ""
             }
            },
            "type": "scatterpolar"
           }
          ],
          "scatterpolargl": [
           {
            "marker": {
             "colorbar": {
              "outlinewidth": 0,
              "ticks": ""
             }
            },
            "type": "scatterpolargl"
           }
          ],
          "scatterternary": [
           {
            "marker": {
             "colorbar": {
              "outlinewidth": 0,
              "ticks": ""
             }
            },
            "type": "scatterternary"
           }
          ],
          "surface": [
           {
            "colorbar": {
             "outlinewidth": 0,
             "ticks": ""
            },
            "colorscale": [
             [
              0,
              "#0d0887"
             ],
             [
              0.1111111111111111,
              "#46039f"
             ],
             [
              0.2222222222222222,
              "#7201a8"
             ],
             [
              0.3333333333333333,
              "#9c179e"
             ],
             [
              0.4444444444444444,
              "#bd3786"
             ],
             [
              0.5555555555555556,
              "#d8576b"
             ],
             [
              0.6666666666666666,
              "#ed7953"
             ],
             [
              0.7777777777777778,
              "#fb9f3a"
             ],
             [
              0.8888888888888888,
              "#fdca26"
             ],
             [
              1,
              "#f0f921"
             ]
            ],
            "type": "surface"
           }
          ],
          "table": [
           {
            "cells": {
             "fill": {
              "color": "#EBF0F8"
             },
             "line": {
              "color": "white"
             }
            },
            "header": {
             "fill": {
              "color": "#C8D4E3"
             },
             "line": {
              "color": "white"
             }
            },
            "type": "table"
           }
          ]
         },
         "layout": {
          "annotationdefaults": {
           "arrowcolor": "#2a3f5f",
           "arrowhead": 0,
           "arrowwidth": 1
          },
          "coloraxis": {
           "colorbar": {
            "outlinewidth": 0,
            "ticks": ""
           }
          },
          "colorscale": {
           "diverging": [
            [
             0,
             "#8e0152"
            ],
            [
             0.1,
             "#c51b7d"
            ],
            [
             0.2,
             "#de77ae"
            ],
            [
             0.3,
             "#f1b6da"
            ],
            [
             0.4,
             "#fde0ef"
            ],
            [
             0.5,
             "#f7f7f7"
            ],
            [
             0.6,
             "#e6f5d0"
            ],
            [
             0.7,
             "#b8e186"
            ],
            [
             0.8,
             "#7fbc41"
            ],
            [
             0.9,
             "#4d9221"
            ],
            [
             1,
             "#276419"
            ]
           ],
           "sequential": [
            [
             0,
             "#0d0887"
            ],
            [
             0.1111111111111111,
             "#46039f"
            ],
            [
             0.2222222222222222,
             "#7201a8"
            ],
            [
             0.3333333333333333,
             "#9c179e"
            ],
            [
             0.4444444444444444,
             "#bd3786"
            ],
            [
             0.5555555555555556,
             "#d8576b"
            ],
            [
             0.6666666666666666,
             "#ed7953"
            ],
            [
             0.7777777777777778,
             "#fb9f3a"
            ],
            [
             0.8888888888888888,
             "#fdca26"
            ],
            [
             1,
             "#f0f921"
            ]
           ],
           "sequentialminus": [
            [
             0,
             "#0d0887"
            ],
            [
             0.1111111111111111,
             "#46039f"
            ],
            [
             0.2222222222222222,
             "#7201a8"
            ],
            [
             0.3333333333333333,
             "#9c179e"
            ],
            [
             0.4444444444444444,
             "#bd3786"
            ],
            [
             0.5555555555555556,
             "#d8576b"
            ],
            [
             0.6666666666666666,
             "#ed7953"
            ],
            [
             0.7777777777777778,
             "#fb9f3a"
            ],
            [
             0.8888888888888888,
             "#fdca26"
            ],
            [
             1,
             "#f0f921"
            ]
           ]
          },
          "colorway": [
           "#636efa",
           "#EF553B",
           "#00cc96",
           "#ab63fa",
           "#FFA15A",
           "#19d3f3",
           "#FF6692",
           "#B6E880",
           "#FF97FF",
           "#FECB52"
          ],
          "font": {
           "color": "#2a3f5f"
          },
          "geo": {
           "bgcolor": "white",
           "lakecolor": "white",
           "landcolor": "#E5ECF6",
           "showlakes": true,
           "showland": true,
           "subunitcolor": "white"
          },
          "hoverlabel": {
           "align": "left"
          },
          "hovermode": "closest",
          "mapbox": {
           "style": "light"
          },
          "paper_bgcolor": "white",
          "plot_bgcolor": "#E5ECF6",
          "polar": {
           "angularaxis": {
            "gridcolor": "white",
            "linecolor": "white",
            "ticks": ""
           },
           "bgcolor": "#E5ECF6",
           "radialaxis": {
            "gridcolor": "white",
            "linecolor": "white",
            "ticks": ""
           }
          },
          "scene": {
           "xaxis": {
            "backgroundcolor": "#E5ECF6",
            "gridcolor": "white",
            "gridwidth": 2,
            "linecolor": "white",
            "showbackground": true,
            "ticks": "",
            "zerolinecolor": "white"
           },
           "yaxis": {
            "backgroundcolor": "#E5ECF6",
            "gridcolor": "white",
            "gridwidth": 2,
            "linecolor": "white",
            "showbackground": true,
            "ticks": "",
            "zerolinecolor": "white"
           },
           "zaxis": {
            "backgroundcolor": "#E5ECF6",
            "gridcolor": "white",
            "gridwidth": 2,
            "linecolor": "white",
            "showbackground": true,
            "ticks": "",
            "zerolinecolor": "white"
           }
          },
          "shapedefaults": {
           "line": {
            "color": "#2a3f5f"
           }
          },
          "ternary": {
           "aaxis": {
            "gridcolor": "white",
            "linecolor": "white",
            "ticks": ""
           },
           "baxis": {
            "gridcolor": "white",
            "linecolor": "white",
            "ticks": ""
           },
           "bgcolor": "#E5ECF6",
           "caxis": {
            "gridcolor": "white",
            "linecolor": "white",
            "ticks": ""
           }
          },
          "title": {
           "x": 0.05
          },
          "xaxis": {
           "automargin": true,
           "gridcolor": "white",
           "linecolor": "white",
           "ticks": "",
           "title": {
            "standoff": 15
           },
           "zerolinecolor": "white",
           "zerolinewidth": 2
          },
          "yaxis": {
           "automargin": true,
           "gridcolor": "white",
           "linecolor": "white",
           "ticks": "",
           "title": {
            "standoff": 15
           },
           "zerolinecolor": "white",
           "zerolinewidth": 2
          }
         }
        },
        "title": {
         "text": "Histogram of trainign labels after rebalancing the dataset",
         "x": 0.5
        },
        "xaxis": {
         "title": {
          "text": "Cancer Stage"
         }
        },
        "yaxis": {
         "title": {
          "text": "Count of observations"
         }
        }
       }
      },
      "text/html": [
       "<div>\n",
       "        \n",
       "        \n",
       "            <div id=\"990a467c-fb09-4046-8238-c525c79a39d6\" class=\"plotly-graph-div\" style=\"height:525px; width:100%;\"></div>\n",
       "            <script type=\"text/javascript\">\n",
       "                require([\"plotly\"], function(Plotly) {\n",
       "                    window.PLOTLYENV=window.PLOTLYENV || {};\n",
       "                    \n",
       "                if (document.getElementById(\"990a467c-fb09-4046-8238-c525c79a39d6\")) {\n",
       "                    Plotly.newPlot(\n",
       "                        '990a467c-fb09-4046-8238-c525c79a39d6',\n",
       "                        [{\"type\": \"histogram\", \"x\": [2.0, 2.0, 2.0, 3.0, 2.0, 3.0, 0.0, 3.0, 3.0, 2.0, 2.0, 2.0, 3.0, 2.0, 1.0, 2.0, 2.0, 0.0, 2.0, 3.0, 2.0, 2.0, 2.0, 2.0, 2.0, 0.0, 2.0, 3.0, 3.0, 2.0, 3.0, 0.0, 1.0, 2.0, 2.0, 3.0, 2.0, 3.0, 3.0, 2.0, 2.0, 1.0, 2.0, 0.0, 2.0, 0.0, 2.0, 2.0, 1.0, 3.0, 2.0, 0.0, 2.0, 1.0, 2.0, 2.0, 1.0, 2.0, 2.0, 2.0, 1.0, 0.0, 2.0, 2.0, 2.0, 2.0, 2.0, 3.0, 2.0, 2.0, 2.0, 2.0, 2.0, 1.0, 3.0, 2.0, 2.0, 2.0, 2.0, 2.0, 2.0, 0.0, 2.0, 1.0, 1.0, 1.0, 2.0, 1.0, 3.0, 2.0, 2.0, 2.0, 3.0, 2.0, 1.0, 2.0, 1.0, 1.0, 2.0, 0.0, 2.0, 2.0, 1.0, 2.0, 2.0, 3.0, 1.0, 2.0, 2.0, 2.0, 0.0, 3.0, 1.0, 2.0, 2.0, 3.0, 1.0, 1.0, 2.0, 1.0, 1.0, 2.0, 2.0, 0.0, 2.0, 2.0, 2.0, 2.0, 2.0, 3.0, 2.0, 2.0, 2.0, 0.0, 3.0, 3.0, 2.0, 2.0, 1.0, 2.0, 2.0, 2.0, 2.0, 0.0, 3.0, 2.0, 0.0, 2.0, 2.0, 4.0, 2.0, 1.0, 2.0, 3.0, 5.0, 3.0, 2.0, 2.0, 3.0, 2.0, 0.0, 3.0, 1.0, 3.0, 2.0, 1.0, 2.0, 3.0, 2.0, 1.0, 2.0, 2.0, 0.0, 2.0, 1.0, 0.0, 2.0, 2.0, 0.0, 3.0, 2.0, 3.0, 2.0, 0.0, 2.0, 3.0, 2.0, 2.0, 0.0, 1.0, 2.0, 1.0, 3.0, 2.0, 1.0, 3.0, 2.0, 2.0, 3.0, 2.0, 3.0, 2.0, 2.0, 2.0, 2.0, 1.0, 1.0, 4.0, 0.0, 1.0, 2.0, 2.0, 2.0, 0.0, 1.0, 2.0, 3.0, 0.0, 0.0, 3.0, 2.0, 3.0, 2.0, 2.0, 2.0, 2.0, 3.0, 2.0, 1.0, 2.0, 2.0, 2.0, 2.0, 2.0, 2.0, 1.0, 2.0, 2.0, 0.0, 2.0, 3.0, 2.0, 2.0, 3.0, 3.0, 2.0, 1.0, 2.0, 2.0, 2.0, 0.0, 1.0, 1.0, 0.0, 3.0, 2.0, 2.0, 3.0, 2.0, 2.0, 2.0, 2.0, 2.0, 1.0, 2.0, 2.0, 3.0, 2.0, 2.0, 3.0, 2.0, 3.0, 2.0, 2.0, 2.0, 2.0, 3.0, 3.0, 1.0, 0.0, 1.0, 2.0, 2.0, 3.0, 2.0, 2.0, 2.0, 3.0, 3.0, 1.0, 3.0, 0.0, 2.0, 1.0, 2.0, 2.0, 2.0, 2.0, 0.0, 2.0, 2.0, 2.0, 0.0, 1.0, 3.0, 2.0, 2.0, 3.0, 3.0, 2.0, 4.0, 0.0, 3.0, 2.0, 0.0, 1.0, 2.0, 2.0, 2.0, 1.0, 3.0, 0.0, 2.0, 3.0, 1.0, 2.0, 1.0, 2.0, 3.0, 2.0, 2.0, 2.0, 0.0, 2.0, 2.0, 3.0, 1.0, 2.0, 2.0, 2.0, 2.0, 3.0, 3.0, 2.0, 2.0, 2.0, 1.0, 2.0, 2.0, 0.0, 2.0, 2.0, 2.0, 1.0, 2.0, 1.0, 1.0, 2.0, 3.0, 3.0, 0.0, 2.0, 0.0, 2.0, 2.0, 2.0, 2.0, 1.0, 2.0, 5.0, 3.0, 2.0, 2.0, 2.0, 1.0, 2.0, 2.0, 2.0, 2.0, 2.0, 3.0, 2.0, 1.0, 1.0, 1.0, 2.0, 3.0, 2.0, 4.0, 5.0, 3.0, 2.0, 3.0, 2.0, 2.0, 3.0, 2.0, 1.0, 2.0, 3.0, 2.0, 1.0, 2.0, 2.0, 1.0, 3.0, 2.0, 2.0, 2.0, 3.0, 1.0, 3.0, 2.0, 2.0, 3.0, 0.0, 3.0, 2.0, 0.0, 3.0, 2.0, 3.0, 3.0, 3.0, 2.0, 2.0, 2.0, 0.0, 2.0, 2.0, 2.0, 2.0, 3.0, 2.0, 1.0, 3.0, 2.0, 2.0, 3.0, 2.0, 2.0, 4.0, 2.0, 4.0, 3.0, 1.0, 3.0, 4.0, 2.0, 2.0, 2.0, 0.0, 1.0, 2.0, 2.0, 0.0, 1.0, 1.0, 2.0, 2.0, 2.0, 2.0, 3.0, 0.0, 2.0, 2.0, 2.0, 2.0, 1.0, 2.0, 2.0, 1.0, 1.0, 2.0, 2.0, 2.0, 2.0, 0.0, 0.0, 2.0, 2.0, 2.0, 0.0, 3.0, 2.0, 1.0, 2.0, 2.0, 2.0, 2.0, 3.0, 2.0, 2.0, 2.0, 1.0, 2.0, 2.0, 2.0, 2.0, 2.0, 2.0, 2.0, 2.0, 2.0, 1.0, 2.0, 3.0, 3.0, 2.0, 2.0, 0.0, 2.0, 3.0, 2.0, 1.0, 1.0, 1.0, 3.0, 3.0, 0.0, 4.0, 2.0, 2.0, 2.0, 2.0, 2.0, 2.0, 0.0, 3.0, 1.0, 2.0, 2.0, 2.0, 0.0, 2.0, 2.0, 2.0, 2.0, 2.0, 3.0, 0.0, 4.0, 2.0, 2.0, 3.0, 2.0, 2.0, 3.0, 1.0, 2.0, 1.0, 3.0, 1.0, 3.0, 3.0, 4.0, 1.0, 2.0, 3.0, 3.0, 2.0, 1.0, 3.0, 1.0, 1.0, 2.0, 3.0, 1.0, 1.0, 1.0, 2.0, 2.0, 2.0, 3.0, 0.0, 1.0, 3.0, 1.0, 2.0, 2.0, 2.0, 0.0, 2.0, 1.0, 0.0, 3.0, 2.0, 2.0, 3.0, 2.0, 2.0, 2.0, 2.0, 3.0, 1.0, 3.0, 1.0, 1.0, 3.0, 2.0, 2.0, 2.0, 2.0, 3.0, 2.0, 2.0, 3.0, 2.0, 3.0, 2.0, 2.0, 2.0, 0.0, 3.0, 3.0, 2.0, 2.0, 2.0, 5.0, 2.0, 3.0, 2.0, 1.0, 2.0, 3.0, 2.0, 3.0, 5.0, 2.0, 1.0, 1.0, 2.0, 3.0, 3.0, 0.0, 1.0, 2.0, 3.0, 2.0, 3.0, 0.0, 1.0, 3.0, 1.0, 2.0, 1.0, 2.0, 3.0, 0.0, 2.0, 0.0, 1.0, 2.0, 0.0, 0.0, 2.0, 5.0, 0.0, 2.0, 2.0, 3.0, 2.0, 2.0, 2.0, 1.0, 2.0, 3.0, 1.0, 2.0, 0.0, 2.0, 2.0, 2.0, 3.0, 2.0, 2.0, 3.0, 2.0, 3.0, 0.0, 3.0, 1.0, 3.0, 1.0, 2.0, 2.0, 2.0, 2.0, 0.0, 3.0, 2.0, 4.0, 3.0, 0.0, 2.0, 0.0, 3.0, 3.0, 2.0, 1.0, 1.0, 2.0, 3.0, 2.0, 2.0, 0.0, 2.0, 0.0, 3.0, 1.0, 0.0, 2.0, 2.0, 3.0, 3.0, 1.0, 1.0, 2.0, 2.0, 2.0, 3.0, 0.0, 2.0, 4.0, 2.0, 0.0, 1.0, 2.0, 0.0, 2.0, 0.0, 2.0, 2.0, 0.0, 2.0, 2.0, 1.0, 1.0, 2.0, 1.0, 3.0, 0.0, 1.0, 2.0, 2.0, 0.0, 2.0, 1.0, 1.0, 2.0, 2.0, 0.0, 2.0, 3.0, 2.0, 2.0, 2.0, 2.0, 3.0, 3.0, 3.0, 2.0, 2.0, 3.0, 3.0, 1.0, 2.0, 1.0, 3.0, 2.0, 2.0, 2.0, 3.0, 2.0, 2.0, 2.0, 3.0, 1.0, 5.0, 3.0, 2.0, 3.0, 1.0, 2.0, 0.0, 2.0, 3.0, 3.0, 2.0, 2.0, 2.0, 0.0, 2.0, 1.0, 2.0, 2.0, 3.0, 2.0, 5.0, 1.0, 2.0, 2.0, 2.0, 3.0, 1.0, 2.0, 2.0, 1.0, 2.0, 3.0, 2.0, 3.0, 2.0, 2.0, 2.0, 3.0, 2.0, 2.0, 2.0, 5.0, 3.0, 2.0, 3.0, 3.0, 1.0, 2.0, 3.0, 3.0, 2.0, 2.0, 2.0, 1.0, 2.0, 5.0, 0.0, 4.0, 3.0, 2.0, 2.0, 2.0, 0.0, 2.0, 2.0, 2.0, 2.0, 1.0, 4.0, 2.0, 3.0, 2.0, 2.0, 3.0, 2.0, 2.0, 2.0, 0.0, 0.0, 0.0, 0.0, 0.0, 0.0, 0.0, 0.0, 0.0, 0.0, 0.0, 0.0, 0.0, 0.0, 0.0, 0.0, 0.0, 0.0, 0.0, 0.0, 0.0, 0.0, 0.0, 0.0, 0.0, 0.0, 0.0, 0.0, 0.0, 0.0, 0.0, 0.0, 0.0, 0.0, 0.0, 0.0, 0.0, 0.0, 0.0, 0.0, 0.0, 0.0, 0.0, 0.0, 0.0, 0.0, 0.0, 0.0, 0.0, 1.0, 1.0, 1.0, 4.0, 4.0, 4.0, 4.0, 4.0, 4.0, 4.0, 4.0, 4.0, 4.0, 4.0, 4.0, 4.0, 4.0, 4.0, 4.0, 4.0, 4.0, 4.0, 4.0, 4.0, 4.0, 4.0, 4.0, 4.0, 4.0, 4.0, 4.0, 4.0, 4.0, 4.0, 4.0, 4.0, 4.0, 4.0, 4.0, 4.0, 4.0, 4.0, 4.0, 4.0, 4.0, 4.0, 4.0, 4.0, 4.0, 4.0, 4.0, 4.0, 4.0, 4.0, 4.0, 4.0, 4.0, 4.0, 4.0, 4.0, 4.0, 4.0, 4.0, 4.0, 4.0, 4.0, 4.0, 4.0, 4.0, 4.0, 4.0, 4.0, 4.0, 4.0, 4.0, 4.0, 4.0, 4.0, 4.0, 4.0, 4.0, 4.0, 4.0, 4.0, 4.0, 4.0, 4.0, 4.0, 4.0, 4.0, 4.0, 4.0, 4.0, 4.0, 4.0, 4.0, 4.0, 4.0, 4.0, 4.0, 4.0, 4.0, 4.0, 4.0, 4.0, 4.0, 4.0, 4.0, 4.0, 4.0, 4.0, 4.0, 4.0, 4.0, 4.0, 4.0, 4.0, 4.0, 4.0, 4.0, 4.0, 4.0, 5.0, 5.0, 5.0, 5.0, 5.0, 5.0, 5.0, 5.0, 5.0, 5.0, 5.0, 5.0, 5.0, 5.0, 5.0, 5.0, 5.0, 5.0, 5.0, 5.0, 5.0, 5.0, 5.0, 5.0, 5.0, 5.0, 5.0, 5.0, 5.0, 5.0, 5.0, 5.0, 5.0, 5.0, 5.0, 5.0, 5.0, 5.0, 5.0, 5.0, 5.0, 5.0, 5.0, 5.0, 5.0, 5.0, 5.0, 5.0, 5.0, 5.0, 5.0, 5.0, 5.0, 5.0, 5.0, 5.0, 5.0, 5.0, 5.0, 5.0, 5.0, 5.0, 5.0, 5.0, 5.0, 5.0, 5.0, 5.0, 5.0, 5.0, 5.0, 5.0, 5.0, 5.0, 5.0, 5.0, 5.0, 5.0, 5.0, 5.0, 5.0, 5.0, 5.0, 5.0, 5.0, 5.0, 5.0, 5.0, 5.0, 5.0, 5.0, 5.0, 5.0, 5.0, 5.0, 5.0, 5.0, 5.0, 5.0, 5.0, 5.0, 5.0, 5.0, 5.0, 5.0, 5.0, 5.0, 5.0, 5.0, 5.0, 5.0, 5.0, 5.0, 5.0, 5.0, 5.0, 5.0, 5.0, 5.0, 5.0, 5.0, 5.0, 5.0]}],\n",
       "                        {\"bargroupgap\": 0.2, \"margin\": {\"b\": 40, \"l\": 40, \"pad\": 4, \"r\": 40, \"t\": 40}, \"template\": {\"data\": {\"bar\": [{\"error_x\": {\"color\": \"#2a3f5f\"}, \"error_y\": {\"color\": \"#2a3f5f\"}, \"marker\": {\"line\": {\"color\": \"#E5ECF6\", \"width\": 0.5}}, \"type\": \"bar\"}], \"barpolar\": [{\"marker\": {\"line\": {\"color\": \"#E5ECF6\", \"width\": 0.5}}, \"type\": \"barpolar\"}], \"carpet\": [{\"aaxis\": {\"endlinecolor\": \"#2a3f5f\", \"gridcolor\": \"white\", \"linecolor\": \"white\", \"minorgridcolor\": \"white\", \"startlinecolor\": \"#2a3f5f\"}, \"baxis\": {\"endlinecolor\": \"#2a3f5f\", \"gridcolor\": \"white\", \"linecolor\": \"white\", \"minorgridcolor\": \"white\", \"startlinecolor\": \"#2a3f5f\"}, \"type\": \"carpet\"}], \"choropleth\": [{\"colorbar\": {\"outlinewidth\": 0, \"ticks\": \"\"}, \"type\": \"choropleth\"}], \"contour\": [{\"colorbar\": {\"outlinewidth\": 0, \"ticks\": \"\"}, \"colorscale\": [[0.0, \"#0d0887\"], [0.1111111111111111, \"#46039f\"], [0.2222222222222222, \"#7201a8\"], [0.3333333333333333, \"#9c179e\"], [0.4444444444444444, \"#bd3786\"], [0.5555555555555556, \"#d8576b\"], [0.6666666666666666, \"#ed7953\"], [0.7777777777777778, \"#fb9f3a\"], [0.8888888888888888, \"#fdca26\"], [1.0, \"#f0f921\"]], \"type\": \"contour\"}], \"contourcarpet\": [{\"colorbar\": {\"outlinewidth\": 0, \"ticks\": \"\"}, \"type\": \"contourcarpet\"}], \"heatmap\": [{\"colorbar\": {\"outlinewidth\": 0, \"ticks\": \"\"}, \"colorscale\": [[0.0, \"#0d0887\"], [0.1111111111111111, \"#46039f\"], [0.2222222222222222, \"#7201a8\"], [0.3333333333333333, \"#9c179e\"], [0.4444444444444444, \"#bd3786\"], [0.5555555555555556, \"#d8576b\"], [0.6666666666666666, \"#ed7953\"], [0.7777777777777778, \"#fb9f3a\"], [0.8888888888888888, \"#fdca26\"], [1.0, \"#f0f921\"]], \"type\": \"heatmap\"}], \"heatmapgl\": [{\"colorbar\": {\"outlinewidth\": 0, \"ticks\": \"\"}, \"colorscale\": [[0.0, \"#0d0887\"], [0.1111111111111111, \"#46039f\"], [0.2222222222222222, \"#7201a8\"], [0.3333333333333333, \"#9c179e\"], [0.4444444444444444, \"#bd3786\"], [0.5555555555555556, \"#d8576b\"], [0.6666666666666666, \"#ed7953\"], [0.7777777777777778, \"#fb9f3a\"], [0.8888888888888888, \"#fdca26\"], [1.0, \"#f0f921\"]], \"type\": \"heatmapgl\"}], \"histogram\": [{\"marker\": {\"colorbar\": {\"outlinewidth\": 0, \"ticks\": \"\"}}, \"type\": \"histogram\"}], \"histogram2d\": [{\"colorbar\": {\"outlinewidth\": 0, \"ticks\": \"\"}, \"colorscale\": [[0.0, \"#0d0887\"], [0.1111111111111111, \"#46039f\"], [0.2222222222222222, \"#7201a8\"], [0.3333333333333333, \"#9c179e\"], [0.4444444444444444, \"#bd3786\"], [0.5555555555555556, \"#d8576b\"], [0.6666666666666666, \"#ed7953\"], [0.7777777777777778, \"#fb9f3a\"], [0.8888888888888888, \"#fdca26\"], [1.0, \"#f0f921\"]], \"type\": \"histogram2d\"}], \"histogram2dcontour\": [{\"colorbar\": {\"outlinewidth\": 0, \"ticks\": \"\"}, \"colorscale\": [[0.0, \"#0d0887\"], [0.1111111111111111, \"#46039f\"], [0.2222222222222222, \"#7201a8\"], [0.3333333333333333, \"#9c179e\"], [0.4444444444444444, \"#bd3786\"], [0.5555555555555556, \"#d8576b\"], [0.6666666666666666, \"#ed7953\"], [0.7777777777777778, \"#fb9f3a\"], [0.8888888888888888, \"#fdca26\"], [1.0, \"#f0f921\"]], \"type\": \"histogram2dcontour\"}], \"mesh3d\": [{\"colorbar\": {\"outlinewidth\": 0, \"ticks\": \"\"}, \"type\": \"mesh3d\"}], \"parcoords\": [{\"line\": {\"colorbar\": {\"outlinewidth\": 0, \"ticks\": \"\"}}, \"type\": \"parcoords\"}], \"pie\": [{\"automargin\": true, \"type\": \"pie\"}], \"scatter\": [{\"marker\": {\"colorbar\": {\"outlinewidth\": 0, \"ticks\": \"\"}}, \"type\": \"scatter\"}], \"scatter3d\": [{\"line\": {\"colorbar\": {\"outlinewidth\": 0, \"ticks\": \"\"}}, \"marker\": {\"colorbar\": {\"outlinewidth\": 0, \"ticks\": \"\"}}, \"type\": \"scatter3d\"}], \"scattercarpet\": [{\"marker\": {\"colorbar\": {\"outlinewidth\": 0, \"ticks\": \"\"}}, \"type\": \"scattercarpet\"}], \"scattergeo\": [{\"marker\": {\"colorbar\": {\"outlinewidth\": 0, \"ticks\": \"\"}}, \"type\": \"scattergeo\"}], \"scattergl\": [{\"marker\": {\"colorbar\": {\"outlinewidth\": 0, \"ticks\": \"\"}}, \"type\": \"scattergl\"}], \"scattermapbox\": [{\"marker\": {\"colorbar\": {\"outlinewidth\": 0, \"ticks\": \"\"}}, \"type\": \"scattermapbox\"}], \"scatterpolar\": [{\"marker\": {\"colorbar\": {\"outlinewidth\": 0, \"ticks\": \"\"}}, \"type\": \"scatterpolar\"}], \"scatterpolargl\": [{\"marker\": {\"colorbar\": {\"outlinewidth\": 0, \"ticks\": \"\"}}, \"type\": \"scatterpolargl\"}], \"scatterternary\": [{\"marker\": {\"colorbar\": {\"outlinewidth\": 0, \"ticks\": \"\"}}, \"type\": \"scatterternary\"}], \"surface\": [{\"colorbar\": {\"outlinewidth\": 0, \"ticks\": \"\"}, \"colorscale\": [[0.0, \"#0d0887\"], [0.1111111111111111, \"#46039f\"], [0.2222222222222222, \"#7201a8\"], [0.3333333333333333, \"#9c179e\"], [0.4444444444444444, \"#bd3786\"], [0.5555555555555556, \"#d8576b\"], [0.6666666666666666, \"#ed7953\"], [0.7777777777777778, \"#fb9f3a\"], [0.8888888888888888, \"#fdca26\"], [1.0, \"#f0f921\"]], \"type\": \"surface\"}], \"table\": [{\"cells\": {\"fill\": {\"color\": \"#EBF0F8\"}, \"line\": {\"color\": \"white\"}}, \"header\": {\"fill\": {\"color\": \"#C8D4E3\"}, \"line\": {\"color\": \"white\"}}, \"type\": \"table\"}]}, \"layout\": {\"annotationdefaults\": {\"arrowcolor\": \"#2a3f5f\", \"arrowhead\": 0, \"arrowwidth\": 1}, \"coloraxis\": {\"colorbar\": {\"outlinewidth\": 0, \"ticks\": \"\"}}, \"colorscale\": {\"diverging\": [[0, \"#8e0152\"], [0.1, \"#c51b7d\"], [0.2, \"#de77ae\"], [0.3, \"#f1b6da\"], [0.4, \"#fde0ef\"], [0.5, \"#f7f7f7\"], [0.6, \"#e6f5d0\"], [0.7, \"#b8e186\"], [0.8, \"#7fbc41\"], [0.9, \"#4d9221\"], [1, \"#276419\"]], \"sequential\": [[0.0, \"#0d0887\"], [0.1111111111111111, \"#46039f\"], [0.2222222222222222, \"#7201a8\"], [0.3333333333333333, \"#9c179e\"], [0.4444444444444444, \"#bd3786\"], [0.5555555555555556, \"#d8576b\"], [0.6666666666666666, \"#ed7953\"], [0.7777777777777778, \"#fb9f3a\"], [0.8888888888888888, \"#fdca26\"], [1.0, \"#f0f921\"]], \"sequentialminus\": [[0.0, \"#0d0887\"], [0.1111111111111111, \"#46039f\"], [0.2222222222222222, \"#7201a8\"], [0.3333333333333333, \"#9c179e\"], [0.4444444444444444, \"#bd3786\"], [0.5555555555555556, \"#d8576b\"], [0.6666666666666666, \"#ed7953\"], [0.7777777777777778, \"#fb9f3a\"], [0.8888888888888888, \"#fdca26\"], [1.0, \"#f0f921\"]]}, \"colorway\": [\"#636efa\", \"#EF553B\", \"#00cc96\", \"#ab63fa\", \"#FFA15A\", \"#19d3f3\", \"#FF6692\", \"#B6E880\", \"#FF97FF\", \"#FECB52\"], \"font\": {\"color\": \"#2a3f5f\"}, \"geo\": {\"bgcolor\": \"white\", \"lakecolor\": \"white\", \"landcolor\": \"#E5ECF6\", \"showlakes\": true, \"showland\": true, \"subunitcolor\": \"white\"}, \"hoverlabel\": {\"align\": \"left\"}, \"hovermode\": \"closest\", \"mapbox\": {\"style\": \"light\"}, \"paper_bgcolor\": \"white\", \"plot_bgcolor\": \"#E5ECF6\", \"polar\": {\"angularaxis\": {\"gridcolor\": \"white\", \"linecolor\": \"white\", \"ticks\": \"\"}, \"bgcolor\": \"#E5ECF6\", \"radialaxis\": {\"gridcolor\": \"white\", \"linecolor\": \"white\", \"ticks\": \"\"}}, \"scene\": {\"xaxis\": {\"backgroundcolor\": \"#E5ECF6\", \"gridcolor\": \"white\", \"gridwidth\": 2, \"linecolor\": \"white\", \"showbackground\": true, \"ticks\": \"\", \"zerolinecolor\": \"white\"}, \"yaxis\": {\"backgroundcolor\": \"#E5ECF6\", \"gridcolor\": \"white\", \"gridwidth\": 2, \"linecolor\": \"white\", \"showbackground\": true, \"ticks\": \"\", \"zerolinecolor\": \"white\"}, \"zaxis\": {\"backgroundcolor\": \"#E5ECF6\", \"gridcolor\": \"white\", \"gridwidth\": 2, \"linecolor\": \"white\", \"showbackground\": true, \"ticks\": \"\", \"zerolinecolor\": \"white\"}}, \"shapedefaults\": {\"line\": {\"color\": \"#2a3f5f\"}}, \"ternary\": {\"aaxis\": {\"gridcolor\": \"white\", \"linecolor\": \"white\", \"ticks\": \"\"}, \"baxis\": {\"gridcolor\": \"white\", \"linecolor\": \"white\", \"ticks\": \"\"}, \"bgcolor\": \"#E5ECF6\", \"caxis\": {\"gridcolor\": \"white\", \"linecolor\": \"white\", \"ticks\": \"\"}}, \"title\": {\"x\": 0.05}, \"xaxis\": {\"automargin\": true, \"gridcolor\": \"white\", \"linecolor\": \"white\", \"ticks\": \"\", \"title\": {\"standoff\": 15}, \"zerolinecolor\": \"white\", \"zerolinewidth\": 2}, \"yaxis\": {\"automargin\": true, \"gridcolor\": \"white\", \"linecolor\": \"white\", \"ticks\": \"\", \"title\": {\"standoff\": 15}, \"zerolinecolor\": \"white\", \"zerolinewidth\": 2}}}, \"title\": {\"text\": \"Histogram of trainign labels after rebalancing the dataset\", \"x\": 0.5}, \"xaxis\": {\"title\": {\"text\": \"Cancer Stage\"}}, \"yaxis\": {\"title\": {\"text\": \"Count of observations\"}}},\n",
       "                        {\"responsive\": true}\n",
       "                    ).then(function(){\n",
       "                            \n",
       "var gd = document.getElementById('990a467c-fb09-4046-8238-c525c79a39d6');\n",
       "var x = new MutationObserver(function (mutations, observer) {{\n",
       "        var display = window.getComputedStyle(gd).display;\n",
       "        if (!display || display === 'none') {{\n",
       "            console.log([gd, 'removed!']);\n",
       "            Plotly.purge(gd);\n",
       "            observer.disconnect();\n",
       "        }}\n",
       "}});\n",
       "\n",
       "// Listen for the removal of the full notebook cells\n",
       "var notebookContainer = gd.closest('#notebook-container');\n",
       "if (notebookContainer) {{\n",
       "    x.observe(notebookContainer, {childList: true});\n",
       "}}\n",
       "\n",
       "// Listen for the clearing of the current output cell\n",
       "var outputEl = gd.closest('.output');\n",
       "if (outputEl) {{\n",
       "    x.observe(outputEl, {childList: true});\n",
       "}}\n",
       "\n",
       "                        })\n",
       "                };\n",
       "                });\n",
       "            </script>\n",
       "        </div>"
      ]
     },
     "metadata": {},
     "output_type": "display_data"
    }
   ],
   "source": [
    "fig = go.Figure()\n",
    "fig.add_trace(go.Histogram(x=y_train))\n",
    "\n",
    "# Overlay both histograms\n",
    "fig.update_layout(bargroupgap=0.2,\n",
    "                  title=\"Histogram of trainign labels after rebalancing the dataset\",\n",
    "                  xaxis_title=\"Cancer Stage\",\n",
    "                  yaxis_title=\"Count of observations\")\n",
    "fig.update_layout(\n",
    "    margin=dict(\n",
    "        l=40,\n",
    "        r=40,\n",
    "        b=40,\n",
    "        t=40,\n",
    "        pad=4\n",
    "    ),\n",
    "    title={\n",
    "        'x':0.5})\n",
    "fig.show()"
   ]
  },
  {
   "cell_type": "markdown",
   "metadata": {},
   "source": [
    "## Save to GCS"
   ]
  },
  {
   "cell_type": "markdown",
   "metadata": {},
   "source": [
    "Optional"
   ]
  },
  {
   "cell_type": "code",
   "execution_count": 142,
   "metadata": {
    "ExecuteTime": {
     "end_time": "2020-06-23T18:29:32.238600Z",
     "start_time": "2020-06-23T18:28:35.502385Z"
    }
   },
   "outputs": [],
   "source": [
    "X = np.concatenate((X_train, X_test), axis=0)\n",
    "y = np.concatenate((y_train, y_test), axis=0)\n",
    "df = pd.DataFrame(X, columns=cpg_sites)\n",
    "df['labels'] = y\n",
    "df.to_csv('gs://build_hackathon_dnanyc/training_data/tcga-brca-data-pathologic_N-preprocessed.csv', index=False)"
   ]
  },
  {
   "cell_type": "markdown",
   "metadata": {},
   "source": [
    "# Modeling"
   ]
  },
  {
   "cell_type": "markdown",
   "metadata": {},
   "source": [
    "## Hyperparameter Tuning"
   ]
  },
  {
   "cell_type": "code",
   "execution_count": 52,
   "metadata": {
    "ExecuteTime": {
     "end_time": "2020-06-23T15:48:45.458420Z",
     "start_time": "2020-06-23T15:48:45.455416Z"
    }
   },
   "outputs": [],
   "source": [
    "alpha_range = [0, 0.01]\n",
    "max_features = ['sqrt', 'log2', 50]\n",
    "n_estimators = [100, 1000]\n",
    "max_depth = [10, 15, 20]"
   ]
  },
  {
   "cell_type": "code",
   "execution_count": 74,
   "metadata": {
    "ExecuteTime": {
     "end_time": "2020-06-23T16:04:22.027530Z",
     "start_time": "2020-06-23T16:04:22.023537Z"
    }
   },
   "outputs": [],
   "source": [
    "kf = StratifiedKFold(n_splits=4)\n",
    "parameters = {'ccp_alpha': alpha_range, 'n_estimators': n_estimators, 'max_features': max_features,\n",
    "             'max_depth': max_depth}\n",
    "model = RandomForestClassifier()\n",
    "clf = GridSearchCV(model, parameters, cv=kf, verbose=10, n_jobs=4, scoring='f1_micro') "
   ]
  },
  {
   "cell_type": "code",
   "execution_count": 75,
   "metadata": {
    "ExecuteTime": {
     "end_time": "2020-06-23T16:15:12.916789Z",
     "start_time": "2020-06-23T16:04:22.653544Z"
    }
   },
   "outputs": [
    {
     "name": "stdout",
     "output_type": "stream",
     "text": [
      "Fitting 4 folds for each of 36 candidates, totalling 144 fits\n"
     ]
    },
    {
     "name": "stderr",
     "output_type": "stream",
     "text": [
      "[Parallel(n_jobs=4)]: Using backend LokyBackend with 4 concurrent workers.\n",
      "[Parallel(n_jobs=4)]: Done   5 tasks      | elapsed:   44.5s\n",
      "[Parallel(n_jobs=4)]: Done  10 tasks      | elapsed:   45.6s\n",
      "[Parallel(n_jobs=4)]: Done  17 tasks      | elapsed:   59.1s\n",
      "[Parallel(n_jobs=4)]: Done  24 tasks      | elapsed:  1.5min\n",
      "[Parallel(n_jobs=4)]: Done  33 tasks      | elapsed:  2.5min\n",
      "[Parallel(n_jobs=4)]: Done  42 tasks      | elapsed:  2.7min\n",
      "[Parallel(n_jobs=4)]: Done  53 tasks      | elapsed:  4.3min\n",
      "[Parallel(n_jobs=4)]: Done  64 tasks      | elapsed:  4.5min\n",
      "[Parallel(n_jobs=4)]: Done  77 tasks      | elapsed:  6.1min\n",
      "[Parallel(n_jobs=4)]: Done  90 tasks      | elapsed:  6.4min\n",
      "[Parallel(n_jobs=4)]: Done 105 tasks      | elapsed:  7.8min\n",
      "[Parallel(n_jobs=4)]: Done 120 tasks      | elapsed:  8.7min\n",
      "[Parallel(n_jobs=4)]: Done 137 tasks      | elapsed:  9.8min\n",
      "[Parallel(n_jobs=4)]: Done 144 out of 144 | elapsed: 10.3min finished\n"
     ]
    },
    {
     "data": {
      "text/plain": [
       "GridSearchCV(cv=StratifiedKFold(n_splits=4, random_state=None, shuffle=False),\n",
       "             error_score=nan,\n",
       "             estimator=RandomForestClassifier(bootstrap=True, ccp_alpha=0.0,\n",
       "                                              class_weight=None,\n",
       "                                              criterion='gini', max_depth=None,\n",
       "                                              max_features='auto',\n",
       "                                              max_leaf_nodes=None,\n",
       "                                              max_samples=None,\n",
       "                                              min_impurity_decrease=0.0,\n",
       "                                              min_impurity_split=None,\n",
       "                                              min_samples_leaf=1,\n",
       "                                              min_samples_split=2,\n",
       "                                              min_weight_fraction_leaf=0.0,\n",
       "                                              n_estimators=100, n_jobs=None,\n",
       "                                              oob_score=False,\n",
       "                                              random_state=None, verbose=0,\n",
       "                                              warm_start=False),\n",
       "             iid='deprecated', n_jobs=4,\n",
       "             param_grid={'ccp_alpha': [0, 0.01], 'max_depth': [10, 15, 20],\n",
       "                         'max_features': ['sqrt', 'log2', 50],\n",
       "                         'n_estimators': [100, 1000]},\n",
       "             pre_dispatch='2*n_jobs', refit=True, return_train_score=False,\n",
       "             scoring='f1_micro', verbose=10)"
      ]
     },
     "execution_count": 75,
     "metadata": {},
     "output_type": "execute_result"
    }
   ],
   "source": [
    "clf.fit(X_train, y_train)"
   ]
  },
  {
   "cell_type": "code",
   "execution_count": 92,
   "metadata": {
    "ExecuteTime": {
     "end_time": "2020-06-23T16:21:19.349406Z",
     "start_time": "2020-06-23T16:21:19.332200Z"
    }
   },
   "outputs": [
    {
     "ename": "AttributeError",
     "evalue": "'RandomForestClassifier' object has no attribute 'cv_results_'",
     "output_type": "error",
     "traceback": [
      "\u001b[1;31m---------------------------------------------------------------------------\u001b[0m",
      "\u001b[1;31mAttributeError\u001b[0m                            Traceback (most recent call last)",
      "\u001b[1;32m<ipython-input-92-8de6e5dbc6ed>\u001b[0m in \u001b[0;36m<module>\u001b[1;34m\u001b[0m\n\u001b[1;32m----> 1\u001b[1;33m \u001b[0mclf\u001b[0m\u001b[1;33m.\u001b[0m\u001b[0mcv_results_\u001b[0m\u001b[1;33m\u001b[0m\u001b[1;33m\u001b[0m\u001b[0m\n\u001b[0m",
      "\u001b[1;31mAttributeError\u001b[0m: 'RandomForestClassifier' object has no attribute 'cv_results_'"
     ]
    }
   ],
   "source": [
    "clf.cv_results_"
   ]
  },
  {
   "cell_type": "code",
   "execution_count": 77,
   "metadata": {
    "ExecuteTime": {
     "end_time": "2020-06-23T16:15:12.947461Z",
     "start_time": "2020-06-23T16:15:12.942000Z"
    }
   },
   "outputs": [
    {
     "data": {
      "text/plain": [
       "RandomForestClassifier(bootstrap=True, ccp_alpha=0, class_weight=None,\n",
       "                       criterion='gini', max_depth=20, max_features=50,\n",
       "                       max_leaf_nodes=None, max_samples=None,\n",
       "                       min_impurity_decrease=0.0, min_impurity_split=None,\n",
       "                       min_samples_leaf=1, min_samples_split=2,\n",
       "                       min_weight_fraction_leaf=0.0, n_estimators=1000,\n",
       "                       n_jobs=None, oob_score=False, random_state=None,\n",
       "                       verbose=0, warm_start=False)"
      ]
     },
     "execution_count": 77,
     "metadata": {},
     "output_type": "execute_result"
    }
   ],
   "source": [
    "clf.best_estimator_"
   ]
  },
  {
   "cell_type": "code",
   "execution_count": 78,
   "metadata": {
    "ExecuteTime": {
     "end_time": "2020-06-23T16:15:28.379837Z",
     "start_time": "2020-06-23T16:15:28.375622Z"
    }
   },
   "outputs": [],
   "source": [
    "best_alpha = 0.00015\n",
    "best_n_estimators = 158\n",
    "best_max_features = 147\n",
    "best_max_depth = None"
   ]
  },
  {
   "cell_type": "code",
   "execution_count": 79,
   "metadata": {
    "ExecuteTime": {
     "end_time": "2020-06-23T16:15:28.606087Z",
     "start_time": "2020-06-23T16:15:28.602004Z"
    }
   },
   "outputs": [],
   "source": [
    "best_params = clf.best_estimator_.get_params()\n",
    "best_alpha = best_params['ccp_alpha']\n",
    "best_n_estimators = best_params['n_estimators']\n",
    "best_max_features = best_params['max_features']\n",
    "best_max_depth = best_params['max_depth']"
   ]
  },
  {
   "cell_type": "code",
   "execution_count": 80,
   "metadata": {
    "ExecuteTime": {
     "end_time": "2020-06-23T16:15:28.907851Z",
     "start_time": "2020-06-23T16:15:28.903851Z"
    }
   },
   "outputs": [
    {
     "name": "stdout",
     "output_type": "stream",
     "text": [
      "We found that alpha = 0 and n estimators = 1000 are the best parameter according to CV.\n"
     ]
    }
   ],
   "source": [
    "print(f\"We found that alpha = {best_alpha} and n estimators = {best_n_estimators} are \" \\\n",
    "      \"the best parameter according to CV.\")"
   ]
  },
  {
   "cell_type": "markdown",
   "metadata": {},
   "source": [
    "## Training"
   ]
  },
  {
   "cell_type": "code",
   "execution_count": 81,
   "metadata": {
    "ExecuteTime": {
     "end_time": "2020-06-23T16:16:01.152664Z",
     "start_time": "2020-06-23T16:15:30.456801Z"
    }
   },
   "outputs": [
    {
     "data": {
      "text/plain": [
       "RandomForestClassifier(bootstrap=True, ccp_alpha=0, class_weight=None,\n",
       "                       criterion='gini', max_depth=20, max_features=50,\n",
       "                       max_leaf_nodes=None, max_samples=None,\n",
       "                       min_impurity_decrease=0.0, min_impurity_split=None,\n",
       "                       min_samples_leaf=1, min_samples_split=2,\n",
       "                       min_weight_fraction_leaf=0.0, n_estimators=1000,\n",
       "                       n_jobs=None, oob_score=False, random_state=None,\n",
       "                       verbose=0, warm_start=False)"
      ]
     },
     "execution_count": 81,
     "metadata": {},
     "output_type": "execute_result"
    }
   ],
   "source": [
    "try:\n",
    "    clf = RandomForestClassifier(ccp_alpha=best_alpha, n_estimators=best_n_estimators,\n",
    "                                max_depth = best_max_depth, max_features=best_max_features)\n",
    "except TypeError:\n",
    "    # Using v0.20\n",
    "    clf = RandomForestClassifier(n_estimators=best_n_estimators, max_features=best_max_features)\n",
    "clf.fit(X_train, y_train)"
   ]
  },
  {
   "cell_type": "markdown",
   "metadata": {},
   "source": [
    "## Explore Model"
   ]
  },
  {
   "cell_type": "markdown",
   "metadata": {},
   "source": [
    "### Import / Export model from AI Platform"
   ]
  },
  {
   "cell_type": "markdown",
   "metadata": {
    "ExecuteTime": {
     "end_time": "2020-06-09T19:22:45.142067Z",
     "start_time": "2020-06-09T19:22:45.127068Z"
    }
   },
   "source": [
    "Optional"
   ]
  },
  {
   "cell_type": "code",
   "execution_count": null,
   "metadata": {
    "ExecuteTime": {
     "end_time": "2020-06-09T21:19:20.005942Z",
     "start_time": "2020-06-09T21:19:19.955911Z"
    }
   },
   "outputs": [],
   "source": [
    "with open('trained_models/BRCA_random_forest_pathologic_stage.pkl', 'wb') as f:\n",
    "    pickle.dump(clf, f)"
   ]
  },
  {
   "cell_type": "code",
   "execution_count": 66,
   "metadata": {
    "ExecuteTime": {
     "end_time": "2020-06-23T22:46:02.109617Z",
     "start_time": "2020-06-23T22:46:01.889605Z"
    }
   },
   "outputs": [],
   "source": [
    "clf = load('trained_models/BRCA_random_forest_pathologic_M_0623.joblib')"
   ]
  },
  {
   "cell_type": "markdown",
   "metadata": {},
   "source": [
    "### Feature importance"
   ]
  },
  {
   "cell_type": "code",
   "execution_count": 67,
   "metadata": {
    "ExecuteTime": {
     "end_time": "2020-06-23T22:46:02.608081Z",
     "start_time": "2020-06-23T22:46:02.563080Z"
    }
   },
   "outputs": [
    {
     "name": "stdout",
     "output_type": "stream",
     "text": [
      "The 20 most useful CpG site are:\n",
      "['cg01035238', 'cg12099032', 'cg21991396', 'cg04882759', 'cg24469977', 'cg14371329', 'cg11148307', 'cg18075299', 'cg17978274', 'cg12038710', 'cg09375488', 'cg09911342', 'cg19324627', 'cg00623593', 'cg11911951', 'cg16473288', 'cg22628694', 'cg14176836', 'cg21230392', 'cg03716937']\n"
     ]
    }
   ],
   "source": [
    "most_useful_sites = sorted(zip(range(0, len(cpg_sites)), cpg_sites, clf.feature_importances_), key=lambda x: x[2], reverse=1)[:20]\n",
    "print(\"The 20 most useful CpG site are:\")\n",
    "print([elt[1] for elt in most_useful_sites])"
   ]
  },
  {
   "cell_type": "markdown",
   "metadata": {},
   "source": [
    "## Testing"
   ]
  },
  {
   "cell_type": "code",
   "execution_count": 68,
   "metadata": {
    "ExecuteTime": {
     "end_time": "2020-06-23T22:46:03.262344Z",
     "start_time": "2020-06-23T22:46:03.217294Z"
    }
   },
   "outputs": [],
   "source": [
    "predictions = clf.predict_proba(X_test)[:, 1]"
   ]
  },
  {
   "cell_type": "markdown",
   "metadata": {},
   "source": [
    "# Evaluate Model"
   ]
  },
  {
   "cell_type": "markdown",
   "metadata": {},
   "source": [
    "## Metrics"
   ]
  },
  {
   "cell_type": "markdown",
   "metadata": {},
   "source": [
    "Let's compute the raw accuracy score as a rough proxy for model performance. In a multi-class classification problem, the accuracy is defined as the number of observation classified in the correct class divided by the total number of observations."
   ]
  },
  {
   "cell_type": "markdown",
   "metadata": {},
   "source": [
    "First, on the training set"
   ]
  },
  {
   "cell_type": "code",
   "execution_count": 77,
   "metadata": {
    "ExecuteTime": {
     "end_time": "2020-06-23T22:46:32.784837Z",
     "start_time": "2020-06-23T22:46:32.708802Z"
    }
   },
   "outputs": [
    {
     "name": "stdout",
     "output_type": "stream",
     "text": [
      "The train accuracy is 0.997\n"
     ]
    }
   ],
   "source": [
    "# Training\n",
    "training_predicted_labels = clf.predict(X_train)\n",
    "acc_training = accuracy_score(training_predicted_labels, y_train)\n",
    "print(f\"The train accuracy is {acc_training:.3f}\")"
   ]
  },
  {
   "cell_type": "markdown",
   "metadata": {},
   "source": [
    "Then, on the test set"
   ]
  },
  {
   "cell_type": "code",
   "execution_count": 78,
   "metadata": {
    "ExecuteTime": {
     "end_time": "2020-06-23T22:46:33.589369Z",
     "start_time": "2020-06-23T22:46:33.549331Z"
    }
   },
   "outputs": [
    {
     "name": "stdout",
     "output_type": "stream",
     "text": [
      "The test accuracy is 0.97\n"
     ]
    }
   ],
   "source": [
    "# Testing\n",
    "testing_predicted_labels = clf.predict(X_test)\n",
    "acc_testing = accuracy_score(testing_predicted_labels, y_test)\n",
    "print(f\"The test accuracy is {acc_testing:.2f}\")"
   ]
  },
  {
   "cell_type": "markdown",
   "metadata": {},
   "source": [
    "## Confusion Matrix"
   ]
  },
  {
   "cell_type": "markdown",
   "metadata": {},
   "source": [
    "**All the metrics below are influenced by the chosen threshold**"
   ]
  },
  {
   "cell_type": "code",
   "execution_count": 79,
   "metadata": {
    "ExecuteTime": {
     "end_time": "2020-06-23T22:46:34.522120Z",
     "start_time": "2020-06-23T22:46:34.518126Z"
    }
   },
   "outputs": [],
   "source": [
    "threshold = 0.5"
   ]
  },
  {
   "cell_type": "code",
   "execution_count": 80,
   "metadata": {
    "ExecuteTime": {
     "end_time": "2020-06-23T22:46:35.708781Z",
     "start_time": "2020-06-23T22:46:35.461791Z"
    }
   },
   "outputs": [
    {
     "data": {
      "image/png": "[encoded data removed]",
      "text/plain": [
       "<Figure size 720x720 with 2 Axes>"
      ]
     },
     "metadata": {
      "needs_background": "light"
     },
     "output_type": "display_data"
    }
   ],
   "source": [
    "f, ax = plt.subplots(1, 1, figsize=(10, 10))\n",
    "f.suptitle(\"Confusion matrix on the *training* set\")\n",
    "plot_confusion_matrix(clf, X_train, y_train, ax=ax, values_format='.2f', normalize='true');"
   ]
  },
  {
   "cell_type": "code",
   "execution_count": 81,
   "metadata": {
    "ExecuteTime": {
     "end_time": "2020-06-23T22:46:36.155409Z",
     "start_time": "2020-06-23T22:46:36.078388Z"
    }
   },
   "outputs": [
    {
     "name": "stdout",
     "output_type": "stream",
     "text": [
      "              precision    recall  f1-score   support\n",
      "\n",
      "         0.0       1.00      1.00      1.00       730\n",
      "         1.0       1.00      0.99      0.99       219\n",
      "\n",
      "    accuracy                           1.00       949\n",
      "   macro avg       1.00      0.99      1.00       949\n",
      "weighted avg       1.00      1.00      1.00       949\n",
      "\n"
     ]
    }
   ],
   "source": [
    "m = classification_report(y_train, clf.predict(X_train))\n",
    "print(m)"
   ]
  },
  {
   "cell_type": "code",
   "execution_count": 82,
   "metadata": {
    "ExecuteTime": {
     "end_time": "2020-06-23T22:46:37.834009Z",
     "start_time": "2020-06-23T22:46:37.192969Z"
    }
   },
   "outputs": [
    {
     "data": {
      "image/png": "[encoded data removed]",
      "text/plain": [
       "<Figure size 720x720 with 2 Axes>"
      ]
     },
     "metadata": {
      "needs_background": "light"
     },
     "output_type": "display_data"
    }
   ],
   "source": [
    "f, ax = plt.subplots(1, 1, figsize=(10, 10))\n",
    "f.suptitle(\"Confusion matrix on the test set\")\n",
    "plot_confusion_matrix(clf, X_test, y_test, ax=ax, values_format='.3f', normalize='true')\n",
    "f.tight_layout()\n",
    "f.savefig(\"confusion_matrix.png\", dpi=200)"
   ]
  },
  {
   "cell_type": "code",
   "execution_count": 93,
   "metadata": {
    "ExecuteTime": {
     "end_time": "2020-06-23T16:21:28.044042Z",
     "start_time": "2020-06-23T16:21:27.578519Z"
    }
   },
   "outputs": [
    {
     "name": "stdout",
     "output_type": "stream",
     "text": [
      "              precision    recall  f1-score   support\n",
      "\n",
      "         0.0       0.95      1.00      0.97        39\n",
      "         1.0       0.00      0.00      0.00        53\n",
      "         2.0       0.56      0.98      0.71       184\n",
      "         3.0       0.00      0.00      0.00        82\n",
      "         4.0       0.00      0.00      0.00         6\n",
      "         5.0       0.00      0.00      0.00         3\n",
      "\n",
      "    accuracy                           0.60       367\n",
      "   macro avg       0.25      0.33      0.28       367\n",
      "weighted avg       0.38      0.60      0.46       367\n",
      "\n"
     ]
    },
    {
     "name": "stderr",
     "output_type": "stream",
     "text": [
      "C:\\Users\\adrien.galamez\\AppData\\Local\\Continuum\\anaconda3\\envs\\py37\\lib\\site-packages\\sklearn\\metrics\\_classification.py:1272: UndefinedMetricWarning:\n",
      "\n",
      "Precision and F-score are ill-defined and being set to 0.0 in labels with no predicted samples. Use `zero_division` parameter to control this behavior.\n",
      "\n"
     ]
    }
   ],
   "source": [
    "m = classification_report(y_test, clf.predict(X_test))\n",
    "print(m)"
   ]
  },
  {
   "cell_type": "markdown",
   "metadata": {},
   "source": [
    "## F1 Score"
   ]
  },
  {
   "cell_type": "markdown",
   "metadata": {},
   "source": [
    "In a multi-class problem, let's use the weighted f1 score. The weighted f1 score is the average of the 5 f1 score (one per class) weighted by the number of observation by class."
   ]
  },
  {
   "cell_type": "code",
   "execution_count": 94,
   "metadata": {
    "ExecuteTime": {
     "end_time": "2020-06-23T16:21:29.054376Z",
     "start_time": "2020-06-23T16:21:28.646312Z"
    }
   },
   "outputs": [
    {
     "name": "stdout",
     "output_type": "stream",
     "text": [
      "The F1 scode on the training set is 1.000\n"
     ]
    }
   ],
   "source": [
    "print(f\"The F1 scode on the training set is {f1_score(y_train, clf.predict(X_train), average='weighted'):.3f}\")"
   ]
  },
  {
   "cell_type": "code",
   "execution_count": 97,
   "metadata": {
    "ExecuteTime": {
     "end_time": "2020-06-23T16:33:45.104142Z",
     "start_time": "2020-06-23T16:33:44.891149Z"
    }
   },
   "outputs": [],
   "source": [
    "score = f1_score(y_test, clf.predict(X_test), average='micro')"
   ]
  },
  {
   "cell_type": "code",
   "execution_count": 98,
   "metadata": {
    "ExecuteTime": {
     "end_time": "2020-06-23T16:33:45.204045Z",
     "start_time": "2020-06-23T16:33:45.199047Z"
    }
   },
   "outputs": [
    {
     "name": "stdout",
     "output_type": "stream",
     "text": [
      "The F1 score on the test set is 0.599\n"
     ]
    }
   ],
   "source": [
    "print(f\"The F1 score on the test set is {score:.3f}\")"
   ]
  },
  {
   "cell_type": "markdown",
   "metadata": {},
   "source": [
    "# Export Model"
   ]
  },
  {
   "cell_type": "markdown",
   "metadata": {},
   "source": [
    "Finally, we'll export this model (while still excluding the test set to be able to simulate test with the exported model) into a pickle format that is compatible with GCP AI Platform"
   ]
  },
  {
   "cell_type": "code",
   "execution_count": 145,
   "metadata": {
    "ExecuteTime": {
     "end_time": "2020-06-10T14:42:29.081416Z",
     "start_time": "2020-06-10T14:42:28.782858Z"
    }
   },
   "outputs": [],
   "source": [
    "with open('model.pkl', 'wb') as model_file:\n",
    "    pickle.dump(clf, model_file)"
   ]
  },
  {
   "cell_type": "code",
   "execution_count": 45,
   "metadata": {
    "ExecuteTime": {
     "end_time": "2020-05-18T22:50:31.783974Z",
     "start_time": "2020-05-18T22:50:31.778955Z"
    }
   },
   "outputs": [],
   "source": [
    "test_body = {}\n",
    "test_body['instances'] = list([list(elt) for elt in X_test[:5]])"
   ]
  },
  {
   "cell_type": "code",
   "execution_count": 47,
   "metadata": {
    "ExecuteTime": {
     "end_time": "2020-05-18T22:50:36.619400Z",
     "start_time": "2020-05-18T22:50:36.549107Z"
    }
   },
   "outputs": [],
   "source": [
    "with open('test.json', 'w') as f:\n",
    "    json.dump(test_body, f)"
   ]
  },
  {
   "cell_type": "code",
   "execution_count": 48,
   "metadata": {
    "ExecuteTime": {
     "end_time": "2020-05-18T22:50:38.876949Z",
     "start_time": "2020-05-18T22:50:38.815260Z"
    }
   },
   "outputs": [
    {
     "data": {
      "text/plain": [
       "array([2., 1., 2., 2., 3.])"
      ]
     },
     "execution_count": 48,
     "metadata": {},
     "output_type": "execute_result"
    }
   ],
   "source": [
    "clf.predict(X_test[:5])"
   ]
  },
  {
   "cell_type": "markdown",
   "metadata": {
    "ExecuteTime": {
     "end_time": "2020-06-05T19:05:57.959782Z",
     "start_time": "2020-06-05T19:05:57.954291Z"
    }
   },
   "source": [
    "# Old"
   ]
  },
  {
   "cell_type": "code",
   "execution_count": 54,
   "metadata": {
    "ExecuteTime": {
     "end_time": "2020-05-26T14:57:10.147438Z",
     "start_time": "2020-05-26T14:57:10.141407Z"
    }
   },
   "outputs": [],
   "source": [
    "labels_N = all_labels[:, 2]\n",
    "map_clinical_stage_t = {\n",
    "    \"T1c\": 1, \n",
    "    \"T2c\": 2,\n",
    "    \"T2b\": 2,\n",
    "    \"T1\": 1,\n",
    "    \"T2\": 2,\n",
    "    \"T2a\": 2,\n",
    "    \"T1a\": 1,\n",
    "    \"T3\": 3,\n",
    "    \"T4a\": 4,\n",
    "    \"T4\": 4,\n",
    "    \"T3b\": 3,\n",
    "    \"T3a\": 3,\n",
    "    \"T1b\": 1,\n",
    "    \"TX\": np.nan,\n",
    "    \"T4e\": 4,\n",
    "    \"T4d\": 4,\n",
    "    \"T4b\": 4,\n",
    "    \"T4c\": 4,\n",
    "    np.nan: np.nan\n",
    "}\n",
    "map_clinical_stage_n = {\n",
    "    \"N0\": 0,\n",
    "    \"N1\": 1,\n",
    "    \"NX\": np.nan,\n",
    "    \"N2c\": 2,\n",
    "    \"N2a\": 2,\n",
    "    \"N2b\": 2,\n",
    "    \"N3\": 3,\n",
    "    \"N2\" : 2,\n",
    "    np.nan: np.nan\n",
    "}"
   ]
  },
  {
   "cell_type": "code",
   "execution_count": 55,
   "metadata": {
    "ExecuteTime": {
     "end_time": "2020-05-26T14:57:10.625781Z",
     "start_time": "2020-05-26T14:57:10.621780Z"
    }
   },
   "outputs": [],
   "source": [
    "labels_N = np.array([map_clinical_stage_n[elt] for elt in labels_N])"
   ]
  },
  {
   "cell_type": "code",
   "execution_count": 56,
   "metadata": {
    "ExecuteTime": {
     "end_time": "2020-05-26T14:57:14.344838Z",
     "start_time": "2020-05-26T14:57:14.341875Z"
    }
   },
   "outputs": [
    {
     "data": {
      "text/plain": [
       "(9378,)"
      ]
     },
     "execution_count": 56,
     "metadata": {},
     "output_type": "execute_result"
    }
   ],
   "source": [
    "labels_N.shape"
   ]
  }
 ],
 "metadata": {
  "kernelspec": {
   "display_name": "Python [conda env:py37]",
   "language": "python",
   "name": "conda-env-py37-py"
  },
  "language_info": {
   "codemirror_mode": {
    "name": "ipython",
    "version": 3
   },
   "file_extension": ".py",
   "mimetype": "text/x-python",
   "name": "python",
   "nbconvert_exporter": "python",
   "pygments_lexer": "ipython3",
   "version": "3.7.7"
  },
  "toc": {
   "base_numbering": 1,
   "nav_menu": {},
   "number_sections": true,
   "sideBar": true,
   "skip_h1_title": false,
   "title_cell": "Table of Contents",
   "title_sidebar": "Contents",
   "toc_cell": false,
   "toc_position": {
    "height": "calc(100% - 180px)",
    "left": "10px",
    "top": "150px",
    "width": "240.594px"
   },
   "toc_section_display": true,
   "toc_window_display": true
  }
 },
 "nbformat": 4,
 "nbformat_minor": 4
}
